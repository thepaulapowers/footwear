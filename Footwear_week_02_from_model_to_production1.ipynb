{
  "nbformat": 4,
  "nbformat_minor": 0,
  "metadata": {
    "accelerator": "GPU",
    "colab": {
      "name": "Footwear week_02_from_model_to_production1.ipynb",
      "provenance": [],
      "collapsed_sections": [],
      "include_colab_link": true
    },
    "jupytext": {
      "split_at_heading": true
    },
    "kernelspec": {
      "display_name": "Python 3",
      "language": "python",
      "name": "python3"
    },
    "widgets": {
      "application/vnd.jupyter.widget-state+json": {
        "ed35e8e51c4e4c23b7daab6982bb952e": {
          "model_module": "@jupyter-widgets/controls",
          "model_name": "HBoxModel",
          "model_module_version": "1.5.0",
          "state": {
            "_view_name": "HBoxView",
            "_dom_classes": [],
            "_model_name": "HBoxModel",
            "_view_module": "@jupyter-widgets/controls",
            "_model_module_version": "1.5.0",
            "_view_count": null,
            "_view_module_version": "1.5.0",
            "box_style": "",
            "layout": "IPY_MODEL_a8cadafe7e3f417e8a416069e245860f",
            "_model_module": "@jupyter-widgets/controls",
            "children": [
              "IPY_MODEL_9054e309d75f44a1bab377c7c68985c1",
              "IPY_MODEL_3b6ff8eea6ca45359f3dded24faa8071",
              "IPY_MODEL_4d528bbbc2534aa0a45186c1054739e0",
              "IPY_MODEL_f8225c820ef3498096321332acef8362",
              "IPY_MODEL_439e403001ff46edb309fa4b789bead4",
              "IPY_MODEL_0e97bfc6e147407c8dc36601b59cb114",
              "IPY_MODEL_528b14ba3e0442b1affff3619770d390"
            ]
          }
        },
        "a8cadafe7e3f417e8a416069e245860f": {
          "model_module": "@jupyter-widgets/base",
          "model_name": "LayoutModel",
          "model_module_version": "1.2.0",
          "state": {
            "_view_name": "LayoutView",
            "grid_template_rows": null,
            "right": null,
            "justify_content": null,
            "_view_module": "@jupyter-widgets/base",
            "overflow": null,
            "_model_module_version": "1.2.0",
            "_view_count": null,
            "flex_flow": null,
            "width": null,
            "min_width": null,
            "border": null,
            "align_items": null,
            "bottom": null,
            "_model_module": "@jupyter-widgets/base",
            "top": null,
            "grid_column": null,
            "overflow_y": null,
            "overflow_x": null,
            "grid_auto_flow": null,
            "grid_area": null,
            "grid_template_columns": null,
            "flex": null,
            "_model_name": "LayoutModel",
            "justify_items": null,
            "grid_row": null,
            "max_height": null,
            "align_content": null,
            "visibility": null,
            "align_self": null,
            "height": null,
            "min_height": null,
            "padding": null,
            "grid_auto_rows": null,
            "grid_gap": null,
            "max_width": null,
            "order": null,
            "_view_module_version": "1.2.0",
            "grid_template_areas": null,
            "object_position": null,
            "object_fit": null,
            "grid_auto_columns": null,
            "margin": null,
            "display": null,
            "left": null
          }
        },
        "9054e309d75f44a1bab377c7c68985c1": {
          "model_module": "@jupyter-widgets/controls",
          "model_name": "ButtonModel",
          "model_module_version": "1.5.0",
          "state": {
            "_view_name": "ButtonView",
            "style": "IPY_MODEL_9f7dfe31aebe4d51b25f7b17bef33bdc",
            "_dom_classes": [],
            "description": "|<<",
            "_model_name": "ButtonModel",
            "button_style": "",
            "_view_module": "@jupyter-widgets/controls",
            "_model_module_version": "1.5.0",
            "tooltip": "",
            "_view_count": null,
            "disabled": true,
            "_view_module_version": "1.5.0",
            "layout": "IPY_MODEL_e86bb4df52a745c6969b72c33d66f753",
            "_model_module": "@jupyter-widgets/controls",
            "icon": ""
          }
        },
        "3b6ff8eea6ca45359f3dded24faa8071": {
          "model_module": "@jupyter-widgets/controls",
          "model_name": "ButtonModel",
          "model_module_version": "1.5.0",
          "state": {
            "_view_name": "ButtonView",
            "style": "IPY_MODEL_16e0b68aa17145908d9281a78f0abf36",
            "_dom_classes": [],
            "description": "<<",
            "_model_name": "ButtonModel",
            "button_style": "",
            "_view_module": "@jupyter-widgets/controls",
            "_model_module_version": "1.5.0",
            "tooltip": "",
            "_view_count": null,
            "disabled": true,
            "_view_module_version": "1.5.0",
            "layout": "IPY_MODEL_08cb386c50bf43baba464ec8562da91a",
            "_model_module": "@jupyter-widgets/controls",
            "icon": ""
          }
        },
        "4d528bbbc2534aa0a45186c1054739e0": {
          "model_module": "@jupyter-widgets/controls",
          "model_name": "LabelModel",
          "model_module_version": "1.5.0",
          "state": {
            "_view_name": "LabelView",
            "style": "IPY_MODEL_a6759e8a6aac437180411475b017b67e",
            "_dom_classes": [],
            "description": "",
            "_model_name": "LabelModel",
            "placeholder": "​",
            "_view_module": "@jupyter-widgets/controls",
            "_model_module_version": "1.5.0",
            "value": "Page 1 of 8",
            "_view_count": null,
            "_view_module_version": "1.5.0",
            "description_tooltip": null,
            "_model_module": "@jupyter-widgets/controls",
            "layout": "IPY_MODEL_1eed36bfb69a46db97c1772299f3c618"
          }
        },
        "f8225c820ef3498096321332acef8362": {
          "model_module": "@jupyter-widgets/controls",
          "model_name": "ButtonModel",
          "model_module_version": "1.5.0",
          "state": {
            "_view_name": "ButtonView",
            "style": "IPY_MODEL_a6cc3d949b744c64bc5cc2cc196073f9",
            "_dom_classes": [],
            "description": ">>",
            "_model_name": "ButtonModel",
            "button_style": "",
            "_view_module": "@jupyter-widgets/controls",
            "_model_module_version": "1.5.0",
            "tooltip": "",
            "_view_count": null,
            "disabled": false,
            "_view_module_version": "1.5.0",
            "layout": "IPY_MODEL_2284af2cee554ee1a6d4e5c8b61a6ae8",
            "_model_module": "@jupyter-widgets/controls",
            "icon": ""
          }
        },
        "439e403001ff46edb309fa4b789bead4": {
          "model_module": "@jupyter-widgets/controls",
          "model_name": "ButtonModel",
          "model_module_version": "1.5.0",
          "state": {
            "_view_name": "ButtonView",
            "style": "IPY_MODEL_22b32d66d9e8406b80c8f6689e8fc05e",
            "_dom_classes": [],
            "description": ">>|",
            "_model_name": "ButtonModel",
            "button_style": "",
            "_view_module": "@jupyter-widgets/controls",
            "_model_module_version": "1.5.0",
            "tooltip": "",
            "_view_count": null,
            "disabled": false,
            "_view_module_version": "1.5.0",
            "layout": "IPY_MODEL_4d2610e80e44485ab4c5aa7dc9f4e4a5",
            "_model_module": "@jupyter-widgets/controls",
            "icon": ""
          }
        },
        "0e97bfc6e147407c8dc36601b59cb114": {
          "model_module": "@jupyter-widgets/controls",
          "model_name": "DropdownModel",
          "model_module_version": "1.5.0",
          "state": {
            "_options_labels": [
              "Boots",
              "Flats",
              "Heels",
              "Trainers"
            ],
            "_view_name": "DropdownView",
            "style": "IPY_MODEL_1437c2105dc443a69d3d9c11676ed7e6",
            "_dom_classes": [],
            "description": "Folder: ",
            "_model_name": "DropdownModel",
            "index": 0,
            "_view_module": "@jupyter-widgets/controls",
            "_model_module_version": "1.5.0",
            "_view_count": null,
            "disabled": false,
            "_view_module_version": "1.5.0",
            "description_tooltip": null,
            "_model_module": "@jupyter-widgets/controls",
            "layout": "IPY_MODEL_75dd7c0b8684420cb61d32e3918980cd"
          }
        },
        "528b14ba3e0442b1affff3619770d390": {
          "model_module": "@jupyter-widgets/controls",
          "model_name": "ButtonModel",
          "model_module_version": "1.5.0",
          "state": {
            "_view_name": "ButtonView",
            "style": "IPY_MODEL_1e38a83f9f0943f6b1c0eeb7c6cd5eb5",
            "_dom_classes": [],
            "description": "↻",
            "_model_name": "ButtonModel",
            "button_style": "",
            "_view_module": "@jupyter-widgets/controls",
            "_model_module_version": "1.5.0",
            "tooltip": "",
            "_view_count": null,
            "disabled": false,
            "_view_module_version": "1.5.0",
            "layout": "IPY_MODEL_3118ba66562d45e380b2d0d21ea93a86",
            "_model_module": "@jupyter-widgets/controls",
            "icon": ""
          }
        },
        "9f7dfe31aebe4d51b25f7b17bef33bdc": {
          "model_module": "@jupyter-widgets/controls",
          "model_name": "ButtonStyleModel",
          "model_module_version": "1.5.0",
          "state": {
            "_view_name": "StyleView",
            "_model_name": "ButtonStyleModel",
            "_view_module": "@jupyter-widgets/base",
            "_model_module_version": "1.5.0",
            "_view_count": null,
            "button_color": null,
            "font_weight": "",
            "_view_module_version": "1.2.0",
            "_model_module": "@jupyter-widgets/controls"
          }
        },
        "e86bb4df52a745c6969b72c33d66f753": {
          "model_module": "@jupyter-widgets/base",
          "model_name": "LayoutModel",
          "model_module_version": "1.2.0",
          "state": {
            "_view_name": "LayoutView",
            "grid_template_rows": null,
            "right": null,
            "justify_content": null,
            "_view_module": "@jupyter-widgets/base",
            "overflow": null,
            "_model_module_version": "1.2.0",
            "_view_count": null,
            "flex_flow": null,
            "width": "60px",
            "min_width": null,
            "border": null,
            "align_items": null,
            "bottom": null,
            "_model_module": "@jupyter-widgets/base",
            "top": null,
            "grid_column": null,
            "overflow_y": null,
            "overflow_x": null,
            "grid_auto_flow": null,
            "grid_area": null,
            "grid_template_columns": null,
            "flex": null,
            "_model_name": "LayoutModel",
            "justify_items": null,
            "grid_row": null,
            "max_height": null,
            "align_content": null,
            "visibility": null,
            "align_self": null,
            "height": null,
            "min_height": null,
            "padding": null,
            "grid_auto_rows": null,
            "grid_gap": null,
            "max_width": null,
            "order": null,
            "_view_module_version": "1.2.0",
            "grid_template_areas": null,
            "object_position": null,
            "object_fit": null,
            "grid_auto_columns": null,
            "margin": null,
            "display": null,
            "left": null
          }
        },
        "16e0b68aa17145908d9281a78f0abf36": {
          "model_module": "@jupyter-widgets/controls",
          "model_name": "ButtonStyleModel",
          "model_module_version": "1.5.0",
          "state": {
            "_view_name": "StyleView",
            "_model_name": "ButtonStyleModel",
            "_view_module": "@jupyter-widgets/base",
            "_model_module_version": "1.5.0",
            "_view_count": null,
            "button_color": null,
            "font_weight": "",
            "_view_module_version": "1.2.0",
            "_model_module": "@jupyter-widgets/controls"
          }
        },
        "08cb386c50bf43baba464ec8562da91a": {
          "model_module": "@jupyter-widgets/base",
          "model_name": "LayoutModel",
          "model_module_version": "1.2.0",
          "state": {
            "_view_name": "LayoutView",
            "grid_template_rows": null,
            "right": null,
            "justify_content": null,
            "_view_module": "@jupyter-widgets/base",
            "overflow": null,
            "_model_module_version": "1.2.0",
            "_view_count": null,
            "flex_flow": null,
            "width": "60px",
            "min_width": null,
            "border": null,
            "align_items": null,
            "bottom": null,
            "_model_module": "@jupyter-widgets/base",
            "top": null,
            "grid_column": null,
            "overflow_y": null,
            "overflow_x": null,
            "grid_auto_flow": null,
            "grid_area": null,
            "grid_template_columns": null,
            "flex": null,
            "_model_name": "LayoutModel",
            "justify_items": null,
            "grid_row": null,
            "max_height": null,
            "align_content": null,
            "visibility": null,
            "align_self": null,
            "height": null,
            "min_height": null,
            "padding": null,
            "grid_auto_rows": null,
            "grid_gap": null,
            "max_width": null,
            "order": null,
            "_view_module_version": "1.2.0",
            "grid_template_areas": null,
            "object_position": null,
            "object_fit": null,
            "grid_auto_columns": null,
            "margin": null,
            "display": null,
            "left": null
          }
        },
        "a6759e8a6aac437180411475b017b67e": {
          "model_module": "@jupyter-widgets/controls",
          "model_name": "DescriptionStyleModel",
          "model_module_version": "1.5.0",
          "state": {
            "_view_name": "StyleView",
            "_model_name": "DescriptionStyleModel",
            "description_width": "",
            "_view_module": "@jupyter-widgets/base",
            "_model_module_version": "1.5.0",
            "_view_count": null,
            "_view_module_version": "1.2.0",
            "_model_module": "@jupyter-widgets/controls"
          }
        },
        "1eed36bfb69a46db97c1772299f3c618": {
          "model_module": "@jupyter-widgets/base",
          "model_name": "LayoutModel",
          "model_module_version": "1.2.0",
          "state": {
            "_view_name": "LayoutView",
            "grid_template_rows": null,
            "right": null,
            "justify_content": "center",
            "_view_module": "@jupyter-widgets/base",
            "overflow": null,
            "_model_module_version": "1.2.0",
            "_view_count": null,
            "flex_flow": null,
            "width": "100px",
            "min_width": null,
            "border": null,
            "align_items": null,
            "bottom": null,
            "_model_module": "@jupyter-widgets/base",
            "top": null,
            "grid_column": null,
            "overflow_y": null,
            "overflow_x": null,
            "grid_auto_flow": null,
            "grid_area": null,
            "grid_template_columns": null,
            "flex": null,
            "_model_name": "LayoutModel",
            "justify_items": null,
            "grid_row": null,
            "max_height": null,
            "align_content": null,
            "visibility": null,
            "align_self": null,
            "height": null,
            "min_height": null,
            "padding": null,
            "grid_auto_rows": null,
            "grid_gap": null,
            "max_width": null,
            "order": null,
            "_view_module_version": "1.2.0",
            "grid_template_areas": null,
            "object_position": null,
            "object_fit": null,
            "grid_auto_columns": null,
            "margin": null,
            "display": "flex",
            "left": null
          }
        },
        "a6cc3d949b744c64bc5cc2cc196073f9": {
          "model_module": "@jupyter-widgets/controls",
          "model_name": "ButtonStyleModel",
          "model_module_version": "1.5.0",
          "state": {
            "_view_name": "StyleView",
            "_model_name": "ButtonStyleModel",
            "_view_module": "@jupyter-widgets/base",
            "_model_module_version": "1.5.0",
            "_view_count": null,
            "button_color": null,
            "font_weight": "",
            "_view_module_version": "1.2.0",
            "_model_module": "@jupyter-widgets/controls"
          }
        },
        "2284af2cee554ee1a6d4e5c8b61a6ae8": {
          "model_module": "@jupyter-widgets/base",
          "model_name": "LayoutModel",
          "model_module_version": "1.2.0",
          "state": {
            "_view_name": "LayoutView",
            "grid_template_rows": null,
            "right": null,
            "justify_content": null,
            "_view_module": "@jupyter-widgets/base",
            "overflow": null,
            "_model_module_version": "1.2.0",
            "_view_count": null,
            "flex_flow": null,
            "width": "60px",
            "min_width": null,
            "border": null,
            "align_items": null,
            "bottom": null,
            "_model_module": "@jupyter-widgets/base",
            "top": null,
            "grid_column": null,
            "overflow_y": null,
            "overflow_x": null,
            "grid_auto_flow": null,
            "grid_area": null,
            "grid_template_columns": null,
            "flex": null,
            "_model_name": "LayoutModel",
            "justify_items": null,
            "grid_row": null,
            "max_height": null,
            "align_content": null,
            "visibility": null,
            "align_self": null,
            "height": null,
            "min_height": null,
            "padding": null,
            "grid_auto_rows": null,
            "grid_gap": null,
            "max_width": null,
            "order": null,
            "_view_module_version": "1.2.0",
            "grid_template_areas": null,
            "object_position": null,
            "object_fit": null,
            "grid_auto_columns": null,
            "margin": null,
            "display": null,
            "left": null
          }
        },
        "22b32d66d9e8406b80c8f6689e8fc05e": {
          "model_module": "@jupyter-widgets/controls",
          "model_name": "ButtonStyleModel",
          "model_module_version": "1.5.0",
          "state": {
            "_view_name": "StyleView",
            "_model_name": "ButtonStyleModel",
            "_view_module": "@jupyter-widgets/base",
            "_model_module_version": "1.5.0",
            "_view_count": null,
            "button_color": null,
            "font_weight": "",
            "_view_module_version": "1.2.0",
            "_model_module": "@jupyter-widgets/controls"
          }
        },
        "4d2610e80e44485ab4c5aa7dc9f4e4a5": {
          "model_module": "@jupyter-widgets/base",
          "model_name": "LayoutModel",
          "model_module_version": "1.2.0",
          "state": {
            "_view_name": "LayoutView",
            "grid_template_rows": null,
            "right": null,
            "justify_content": null,
            "_view_module": "@jupyter-widgets/base",
            "overflow": null,
            "_model_module_version": "1.2.0",
            "_view_count": null,
            "flex_flow": null,
            "width": "60px",
            "min_width": null,
            "border": null,
            "align_items": null,
            "bottom": null,
            "_model_module": "@jupyter-widgets/base",
            "top": null,
            "grid_column": null,
            "overflow_y": null,
            "overflow_x": null,
            "grid_auto_flow": null,
            "grid_area": null,
            "grid_template_columns": null,
            "flex": null,
            "_model_name": "LayoutModel",
            "justify_items": null,
            "grid_row": null,
            "max_height": null,
            "align_content": null,
            "visibility": null,
            "align_self": null,
            "height": null,
            "min_height": null,
            "padding": null,
            "grid_auto_rows": null,
            "grid_gap": null,
            "max_width": null,
            "order": null,
            "_view_module_version": "1.2.0",
            "grid_template_areas": null,
            "object_position": null,
            "object_fit": null,
            "grid_auto_columns": null,
            "margin": null,
            "display": null,
            "left": null
          }
        },
        "1437c2105dc443a69d3d9c11676ed7e6": {
          "model_module": "@jupyter-widgets/controls",
          "model_name": "DescriptionStyleModel",
          "model_module_version": "1.5.0",
          "state": {
            "_view_name": "StyleView",
            "_model_name": "DescriptionStyleModel",
            "description_width": "",
            "_view_module": "@jupyter-widgets/base",
            "_model_module_version": "1.5.0",
            "_view_count": null,
            "_view_module_version": "1.2.0",
            "_model_module": "@jupyter-widgets/controls"
          }
        },
        "75dd7c0b8684420cb61d32e3918980cd": {
          "model_module": "@jupyter-widgets/base",
          "model_name": "LayoutModel",
          "model_module_version": "1.2.0",
          "state": {
            "_view_name": "LayoutView",
            "grid_template_rows": null,
            "right": null,
            "justify_content": null,
            "_view_module": "@jupyter-widgets/base",
            "overflow": null,
            "_model_module_version": "1.2.0",
            "_view_count": null,
            "flex_flow": null,
            "width": null,
            "min_width": null,
            "border": null,
            "align_items": null,
            "bottom": null,
            "_model_module": "@jupyter-widgets/base",
            "top": null,
            "grid_column": null,
            "overflow_y": null,
            "overflow_x": null,
            "grid_auto_flow": null,
            "grid_area": null,
            "grid_template_columns": null,
            "flex": null,
            "_model_name": "LayoutModel",
            "justify_items": null,
            "grid_row": null,
            "max_height": null,
            "align_content": null,
            "visibility": null,
            "align_self": null,
            "height": null,
            "min_height": null,
            "padding": null,
            "grid_auto_rows": null,
            "grid_gap": null,
            "max_width": null,
            "order": null,
            "_view_module_version": "1.2.0",
            "grid_template_areas": null,
            "object_position": null,
            "object_fit": null,
            "grid_auto_columns": null,
            "margin": null,
            "display": null,
            "left": null
          }
        },
        "1e38a83f9f0943f6b1c0eeb7c6cd5eb5": {
          "model_module": "@jupyter-widgets/controls",
          "model_name": "ButtonStyleModel",
          "model_module_version": "1.5.0",
          "state": {
            "_view_name": "StyleView",
            "_model_name": "ButtonStyleModel",
            "_view_module": "@jupyter-widgets/base",
            "_model_module_version": "1.5.0",
            "_view_count": null,
            "button_color": null,
            "font_weight": "",
            "_view_module_version": "1.2.0",
            "_model_module": "@jupyter-widgets/controls"
          }
        },
        "3118ba66562d45e380b2d0d21ea93a86": {
          "model_module": "@jupyter-widgets/base",
          "model_name": "LayoutModel",
          "model_module_version": "1.2.0",
          "state": {
            "_view_name": "LayoutView",
            "grid_template_rows": null,
            "right": null,
            "justify_content": null,
            "_view_module": "@jupyter-widgets/base",
            "overflow": null,
            "_model_module_version": "1.2.0",
            "_view_count": null,
            "flex_flow": null,
            "width": "40px",
            "min_width": null,
            "border": null,
            "align_items": null,
            "bottom": null,
            "_model_module": "@jupyter-widgets/base",
            "top": null,
            "grid_column": null,
            "overflow_y": null,
            "overflow_x": null,
            "grid_auto_flow": null,
            "grid_area": null,
            "grid_template_columns": null,
            "flex": null,
            "_model_name": "LayoutModel",
            "justify_items": null,
            "grid_row": null,
            "max_height": null,
            "align_content": null,
            "visibility": null,
            "align_self": null,
            "height": null,
            "min_height": null,
            "padding": null,
            "grid_auto_rows": null,
            "grid_gap": null,
            "max_width": null,
            "order": null,
            "_view_module_version": "1.2.0",
            "grid_template_areas": null,
            "object_position": null,
            "object_fit": null,
            "grid_auto_columns": null,
            "margin": "0px 0px 0px 10px",
            "display": null,
            "left": null
          }
        },
        "a81a7bc4cca846c5990d9d14f43f7c67": {
          "model_module": "@jupyter-widgets/controls",
          "model_name": "HTMLModel",
          "model_module_version": "1.5.0",
          "state": {
            "_view_name": "HTMLView",
            "style": "IPY_MODEL_9dee9b44ebfc45868f2c817797e0307a",
            "_dom_classes": [],
            "description": "",
            "_model_name": "HTMLModel",
            "placeholder": "​",
            "_view_module": "@jupyter-widgets/controls",
            "_model_module_version": "1.5.0",
            "value": "<h2>No images left to display in this folder.</h2>",
            "_view_count": null,
            "_view_module_version": "1.5.0",
            "description_tooltip": null,
            "_model_module": "@jupyter-widgets/controls",
            "layout": "IPY_MODEL_591c701a0e744588b0f010ad1c378a01"
          }
        },
        "9dee9b44ebfc45868f2c817797e0307a": {
          "model_module": "@jupyter-widgets/controls",
          "model_name": "DescriptionStyleModel",
          "model_module_version": "1.5.0",
          "state": {
            "_view_name": "StyleView",
            "_model_name": "DescriptionStyleModel",
            "description_width": "",
            "_view_module": "@jupyter-widgets/base",
            "_model_module_version": "1.5.0",
            "_view_count": null,
            "_view_module_version": "1.2.0",
            "_model_module": "@jupyter-widgets/controls"
          }
        },
        "591c701a0e744588b0f010ad1c378a01": {
          "model_module": "@jupyter-widgets/base",
          "model_name": "LayoutModel",
          "model_module_version": "1.2.0",
          "state": {
            "_view_name": "LayoutView",
            "grid_template_rows": null,
            "right": null,
            "justify_content": null,
            "_view_module": "@jupyter-widgets/base",
            "overflow": null,
            "_model_module_version": "1.2.0",
            "_view_count": null,
            "flex_flow": null,
            "width": null,
            "min_width": null,
            "border": null,
            "align_items": null,
            "bottom": null,
            "_model_module": "@jupyter-widgets/base",
            "top": null,
            "grid_column": null,
            "overflow_y": null,
            "overflow_x": null,
            "grid_auto_flow": null,
            "grid_area": null,
            "grid_template_columns": null,
            "flex": null,
            "_model_name": "LayoutModel",
            "justify_items": null,
            "grid_row": null,
            "max_height": null,
            "align_content": null,
            "visibility": "hidden",
            "align_self": null,
            "height": null,
            "min_height": null,
            "padding": null,
            "grid_auto_rows": null,
            "grid_gap": null,
            "max_width": null,
            "order": null,
            "_view_module_version": "1.2.0",
            "grid_template_areas": null,
            "object_position": null,
            "object_fit": null,
            "grid_auto_columns": null,
            "margin": null,
            "display": null,
            "left": null
          }
        },
        "7293d8c0b4ac4a9b9e8596b9e01f8b4e": {
          "model_module": "@jupyter-widgets/controls",
          "model_name": "GridBoxModel",
          "model_module_version": "1.5.0",
          "state": {
            "_view_name": "GridBoxView",
            "_dom_classes": [],
            "_model_name": "GridBoxModel",
            "_view_module": "@jupyter-widgets/controls",
            "_model_module_version": "1.5.0",
            "_view_count": null,
            "_view_module_version": "1.5.0",
            "box_style": "",
            "layout": "IPY_MODEL_988b6f6dc5e949719ccd7bf44c428e5b",
            "_model_module": "@jupyter-widgets/controls",
            "children": [
              "IPY_MODEL_443a11f8c998407faaca0791d32f836e",
              "IPY_MODEL_5c3951f90fb34573a42c8c50002331aa",
              "IPY_MODEL_efb0d4c05c3d4386b3ce4e34ffd0c8c3",
              "IPY_MODEL_ed95320b4d8f48cba1dd511d65e698bf",
              "IPY_MODEL_81578aa06eb7446384fa68de924235ef",
              "IPY_MODEL_17c05155bb6442fb969ea981b190d7ed",
              "IPY_MODEL_b3dd98e8f252445299915a5b0fb0e366",
              "IPY_MODEL_e729fc229e7746aaa5946230e6fa829c"
            ]
          }
        },
        "988b6f6dc5e949719ccd7bf44c428e5b": {
          "model_module": "@jupyter-widgets/base",
          "model_name": "LayoutModel",
          "model_module_version": "1.2.0",
          "state": {
            "_view_name": "LayoutView",
            "grid_template_rows": null,
            "right": null,
            "justify_content": null,
            "_view_module": "@jupyter-widgets/base",
            "overflow": null,
            "_model_module_version": "1.2.0",
            "_view_count": null,
            "flex_flow": null,
            "width": null,
            "min_width": null,
            "border": null,
            "align_items": null,
            "bottom": null,
            "_model_module": "@jupyter-widgets/base",
            "top": null,
            "grid_column": null,
            "overflow_y": null,
            "overflow_x": null,
            "grid_auto_flow": null,
            "grid_area": null,
            "grid_template_columns": "repeat(4, 25%)",
            "flex": null,
            "_model_name": "LayoutModel",
            "justify_items": null,
            "grid_row": null,
            "max_height": null,
            "align_content": null,
            "visibility": "visible",
            "align_self": null,
            "height": null,
            "min_height": null,
            "padding": null,
            "grid_auto_rows": null,
            "grid_gap": null,
            "max_width": null,
            "order": null,
            "_view_module_version": "1.2.0",
            "grid_template_areas": null,
            "object_position": null,
            "object_fit": null,
            "grid_auto_columns": null,
            "margin": "15px",
            "display": null,
            "left": null
          }
        },
        "443a11f8c998407faaca0791d32f836e": {
          "model_module": "@jupyter-widgets/controls",
          "model_name": "VBoxModel",
          "model_module_version": "1.5.0",
          "state": {
            "_view_name": "VBoxView",
            "_dom_classes": [],
            "_model_name": "VBoxModel",
            "_view_module": "@jupyter-widgets/controls",
            "_model_module_version": "1.5.0",
            "_view_count": null,
            "_view_module_version": "1.5.0",
            "box_style": "",
            "layout": "IPY_MODEL_aa0c84a44f944e97a38dea0804ed5a52",
            "_model_module": "@jupyter-widgets/controls",
            "children": [
              "IPY_MODEL_b55aa741c3d74bd3939dc4468e60ca93",
              "IPY_MODEL_bb74afcacde24de7ad62a33b500d33c9"
            ]
          }
        },
        "5c3951f90fb34573a42c8c50002331aa": {
          "model_module": "@jupyter-widgets/controls",
          "model_name": "VBoxModel",
          "model_module_version": "1.5.0",
          "state": {
            "_view_name": "VBoxView",
            "_dom_classes": [],
            "_model_name": "VBoxModel",
            "_view_module": "@jupyter-widgets/controls",
            "_model_module_version": "1.5.0",
            "_view_count": null,
            "_view_module_version": "1.5.0",
            "box_style": "",
            "layout": "IPY_MODEL_1c692c2a19fd4e49b4bdf90fdd2241f1",
            "_model_module": "@jupyter-widgets/controls",
            "children": [
              "IPY_MODEL_17d25a6c5add4055a2c81803a8294249",
              "IPY_MODEL_ffceb4dfebaf4bb09c9505a1dd54ac78"
            ]
          }
        },
        "efb0d4c05c3d4386b3ce4e34ffd0c8c3": {
          "model_module": "@jupyter-widgets/controls",
          "model_name": "VBoxModel",
          "model_module_version": "1.5.0",
          "state": {
            "_view_name": "VBoxView",
            "_dom_classes": [],
            "_model_name": "VBoxModel",
            "_view_module": "@jupyter-widgets/controls",
            "_model_module_version": "1.5.0",
            "_view_count": null,
            "_view_module_version": "1.5.0",
            "box_style": "",
            "layout": "IPY_MODEL_81575318c3b647a0a4ea2fb31554d820",
            "_model_module": "@jupyter-widgets/controls",
            "children": [
              "IPY_MODEL_0d57700d4cc64b0184eda123eefd98fd",
              "IPY_MODEL_3f6332b545094c259205aecf49acadd8"
            ]
          }
        },
        "ed95320b4d8f48cba1dd511d65e698bf": {
          "model_module": "@jupyter-widgets/controls",
          "model_name": "VBoxModel",
          "model_module_version": "1.5.0",
          "state": {
            "_view_name": "VBoxView",
            "_dom_classes": [],
            "_model_name": "VBoxModel",
            "_view_module": "@jupyter-widgets/controls",
            "_model_module_version": "1.5.0",
            "_view_count": null,
            "_view_module_version": "1.5.0",
            "box_style": "",
            "layout": "IPY_MODEL_d4093b8ac1d744b3aea87cd66890c936",
            "_model_module": "@jupyter-widgets/controls",
            "children": [
              "IPY_MODEL_344c1d2831394469a99468c39b4fd84f",
              "IPY_MODEL_a5bc0b14df0544b2971bc9fb328a1d93"
            ]
          }
        },
        "81578aa06eb7446384fa68de924235ef": {
          "model_module": "@jupyter-widgets/controls",
          "model_name": "VBoxModel",
          "model_module_version": "1.5.0",
          "state": {
            "_view_name": "VBoxView",
            "_dom_classes": [],
            "_model_name": "VBoxModel",
            "_view_module": "@jupyter-widgets/controls",
            "_model_module_version": "1.5.0",
            "_view_count": null,
            "_view_module_version": "1.5.0",
            "box_style": "",
            "layout": "IPY_MODEL_580e5e37427d4691a72c2c5c931f71e5",
            "_model_module": "@jupyter-widgets/controls",
            "children": [
              "IPY_MODEL_8b6f154597824208841d052dd88e1a09",
              "IPY_MODEL_e3461b7d23c5473d847b38de6fbc1313"
            ]
          }
        },
        "17c05155bb6442fb969ea981b190d7ed": {
          "model_module": "@jupyter-widgets/controls",
          "model_name": "VBoxModel",
          "model_module_version": "1.5.0",
          "state": {
            "_view_name": "VBoxView",
            "_dom_classes": [],
            "_model_name": "VBoxModel",
            "_view_module": "@jupyter-widgets/controls",
            "_model_module_version": "1.5.0",
            "_view_count": null,
            "_view_module_version": "1.5.0",
            "box_style": "",
            "layout": "IPY_MODEL_feb6b3c1311f4bafbd9015509f8c215b",
            "_model_module": "@jupyter-widgets/controls",
            "children": [
              "IPY_MODEL_a605b130871d4002ac65b1f5244075fd",
              "IPY_MODEL_9859b1bf6a674ee1a225e3c3f1a861ad"
            ]
          }
        },
        "b3dd98e8f252445299915a5b0fb0e366": {
          "model_module": "@jupyter-widgets/controls",
          "model_name": "VBoxModel",
          "model_module_version": "1.5.0",
          "state": {
            "_view_name": "VBoxView",
            "_dom_classes": [],
            "_model_name": "VBoxModel",
            "_view_module": "@jupyter-widgets/controls",
            "_model_module_version": "1.5.0",
            "_view_count": null,
            "_view_module_version": "1.5.0",
            "box_style": "",
            "layout": "IPY_MODEL_e60497f28e334baaacf2a422662cf124",
            "_model_module": "@jupyter-widgets/controls",
            "children": [
              "IPY_MODEL_c5cc51f4b40044c8ace88685c244e68f",
              "IPY_MODEL_3ab0402831e8468b985dd7e55bb60b87"
            ]
          }
        },
        "e729fc229e7746aaa5946230e6fa829c": {
          "model_module": "@jupyter-widgets/controls",
          "model_name": "VBoxModel",
          "model_module_version": "1.5.0",
          "state": {
            "_view_name": "VBoxView",
            "_dom_classes": [],
            "_model_name": "VBoxModel",
            "_view_module": "@jupyter-widgets/controls",
            "_model_module_version": "1.5.0",
            "_view_count": null,
            "_view_module_version": "1.5.0",
            "box_style": "",
            "layout": "IPY_MODEL_6bfbb6c0539d4b82adbe8280208e1bb2",
            "_model_module": "@jupyter-widgets/controls",
            "children": [
              "IPY_MODEL_46a57b6a804747e78c5dccc7960f1e1b",
              "IPY_MODEL_16503299a21942cc85820318eead99bc"
            ]
          }
        },
        "aa0c84a44f944e97a38dea0804ed5a52": {
          "model_module": "@jupyter-widgets/base",
          "model_name": "LayoutModel",
          "model_module_version": "1.2.0",
          "state": {
            "_view_name": "LayoutView",
            "grid_template_rows": null,
            "right": null,
            "justify_content": null,
            "_view_module": "@jupyter-widgets/base",
            "overflow": null,
            "_model_module_version": "1.2.0",
            "_view_count": null,
            "flex_flow": null,
            "width": null,
            "min_width": null,
            "border": null,
            "align_items": null,
            "bottom": null,
            "_model_module": "@jupyter-widgets/base",
            "top": null,
            "grid_column": null,
            "overflow_y": null,
            "overflow_x": null,
            "grid_auto_flow": null,
            "grid_area": null,
            "grid_template_columns": null,
            "flex": null,
            "_model_name": "LayoutModel",
            "justify_items": null,
            "grid_row": null,
            "max_height": null,
            "align_content": null,
            "visibility": "visible",
            "align_self": null,
            "height": null,
            "min_height": null,
            "padding": null,
            "grid_auto_rows": null,
            "grid_gap": null,
            "max_width": null,
            "order": null,
            "_view_module_version": "1.2.0",
            "grid_template_areas": null,
            "object_position": null,
            "object_fit": null,
            "grid_auto_columns": null,
            "margin": "5px",
            "display": null,
            "left": null
          }
        },
        "b55aa741c3d74bd3939dc4468e60ca93": {
          "model_module": "@jupyter-widgets/controls",
          "model_name": "ImageModel",
          "model_module_version": "1.5.0",
          "state": {
            "_view_name": "ImageView",
            "_dom_classes": [],
            "_model_name": "ImageModel",
            "format": "png",
            "_view_module": "@jupyter-widgets/controls",
            "_model_module_version": "1.5.0",
            "_view_count": null,
            "width": "",
            "_view_module_version": "1.5.0",
            "layout": "IPY_MODEL_b1d02ced8f014488b6549eeee1917824",
            "height": "",
            "_model_module": "@jupyter-widgets/controls"
          }
        },
        "bb74afcacde24de7ad62a33b500d33c9": {
          "model_module": "@jupyter-widgets/controls",
          "model_name": "ButtonModel",
          "model_module_version": "1.5.0",
          "state": {
            "_view_name": "ButtonView",
            "style": "IPY_MODEL_2b37b06d9ba24c66a4343ec326742dbd",
            "_dom_classes": [],
            "description": "Delete",
            "_model_name": "ButtonModel",
            "button_style": "",
            "_view_module": "@jupyter-widgets/controls",
            "_model_module_version": "1.5.0",
            "tooltip": "",
            "_view_count": null,
            "disabled": false,
            "_view_module_version": "1.5.0",
            "layout": "IPY_MODEL_3fb1eb6e96d34c75bed0d7ce980ddbc7",
            "_model_module": "@jupyter-widgets/controls",
            "icon": ""
          }
        },
        "1c692c2a19fd4e49b4bdf90fdd2241f1": {
          "model_module": "@jupyter-widgets/base",
          "model_name": "LayoutModel",
          "model_module_version": "1.2.0",
          "state": {
            "_view_name": "LayoutView",
            "grid_template_rows": null,
            "right": null,
            "justify_content": null,
            "_view_module": "@jupyter-widgets/base",
            "overflow": null,
            "_model_module_version": "1.2.0",
            "_view_count": null,
            "flex_flow": null,
            "width": null,
            "min_width": null,
            "border": null,
            "align_items": null,
            "bottom": null,
            "_model_module": "@jupyter-widgets/base",
            "top": null,
            "grid_column": null,
            "overflow_y": null,
            "overflow_x": null,
            "grid_auto_flow": null,
            "grid_area": null,
            "grid_template_columns": null,
            "flex": null,
            "_model_name": "LayoutModel",
            "justify_items": null,
            "grid_row": null,
            "max_height": null,
            "align_content": null,
            "visibility": "visible",
            "align_self": null,
            "height": null,
            "min_height": null,
            "padding": null,
            "grid_auto_rows": null,
            "grid_gap": null,
            "max_width": null,
            "order": null,
            "_view_module_version": "1.2.0",
            "grid_template_areas": null,
            "object_position": null,
            "object_fit": null,
            "grid_auto_columns": null,
            "margin": "5px",
            "display": null,
            "left": null
          }
        },
        "17d25a6c5add4055a2c81803a8294249": {
          "model_module": "@jupyter-widgets/controls",
          "model_name": "ImageModel",
          "model_module_version": "1.5.0",
          "state": {
            "_view_name": "ImageView",
            "_dom_classes": [],
            "_model_name": "ImageModel",
            "format": "png",
            "_view_module": "@jupyter-widgets/controls",
            "_model_module_version": "1.5.0",
            "_view_count": null,
            "width": "",
            "_view_module_version": "1.5.0",
            "layout": "IPY_MODEL_b20a914f6b784506a6b520ecf94c2c3b",
            "height": "",
            "_model_module": "@jupyter-widgets/controls"
          }
        },
        "ffceb4dfebaf4bb09c9505a1dd54ac78": {
          "model_module": "@jupyter-widgets/controls",
          "model_name": "ButtonModel",
          "model_module_version": "1.5.0",
          "state": {
            "_view_name": "ButtonView",
            "style": "IPY_MODEL_275813b5ca474fb28eed5065674c0097",
            "_dom_classes": [],
            "description": "Delete",
            "_model_name": "ButtonModel",
            "button_style": "",
            "_view_module": "@jupyter-widgets/controls",
            "_model_module_version": "1.5.0",
            "tooltip": "",
            "_view_count": null,
            "disabled": false,
            "_view_module_version": "1.5.0",
            "layout": "IPY_MODEL_73054c9428b24f51a033774a2e2eaa43",
            "_model_module": "@jupyter-widgets/controls",
            "icon": ""
          }
        },
        "81575318c3b647a0a4ea2fb31554d820": {
          "model_module": "@jupyter-widgets/base",
          "model_name": "LayoutModel",
          "model_module_version": "1.2.0",
          "state": {
            "_view_name": "LayoutView",
            "grid_template_rows": null,
            "right": null,
            "justify_content": null,
            "_view_module": "@jupyter-widgets/base",
            "overflow": null,
            "_model_module_version": "1.2.0",
            "_view_count": null,
            "flex_flow": null,
            "width": null,
            "min_width": null,
            "border": null,
            "align_items": null,
            "bottom": null,
            "_model_module": "@jupyter-widgets/base",
            "top": null,
            "grid_column": null,
            "overflow_y": null,
            "overflow_x": null,
            "grid_auto_flow": null,
            "grid_area": null,
            "grid_template_columns": null,
            "flex": null,
            "_model_name": "LayoutModel",
            "justify_items": null,
            "grid_row": null,
            "max_height": null,
            "align_content": null,
            "visibility": "visible",
            "align_self": null,
            "height": null,
            "min_height": null,
            "padding": null,
            "grid_auto_rows": null,
            "grid_gap": null,
            "max_width": null,
            "order": null,
            "_view_module_version": "1.2.0",
            "grid_template_areas": null,
            "object_position": null,
            "object_fit": null,
            "grid_auto_columns": null,
            "margin": "5px",
            "display": null,
            "left": null
          }
        },
        "0d57700d4cc64b0184eda123eefd98fd": {
          "model_module": "@jupyter-widgets/controls",
          "model_name": "ImageModel",
          "model_module_version": "1.5.0",
          "state": {
            "_view_name": "ImageView",
            "_dom_classes": [],
            "_model_name": "ImageModel",
            "format": "png",
            "_view_module": "@jupyter-widgets/controls",
            "_model_module_version": "1.5.0",
            "_view_count": null,
            "width": "",
            "_view_module_version": "1.5.0",
            "layout": "IPY_MODEL_8c562f2a245b4ff68f201fb06c5c409a",
            "height": "",
            "_model_module": "@jupyter-widgets/controls"
          }
        },
        "3f6332b545094c259205aecf49acadd8": {
          "model_module": "@jupyter-widgets/controls",
          "model_name": "ButtonModel",
          "model_module_version": "1.5.0",
          "state": {
            "_view_name": "ButtonView",
            "style": "IPY_MODEL_ce1a7b92ba3f4ee7925b661c8241228c",
            "_dom_classes": [],
            "description": "Delete",
            "_model_name": "ButtonModel",
            "button_style": "",
            "_view_module": "@jupyter-widgets/controls",
            "_model_module_version": "1.5.0",
            "tooltip": "",
            "_view_count": null,
            "disabled": false,
            "_view_module_version": "1.5.0",
            "layout": "IPY_MODEL_48624b1fd8ab4e65b7f0f399af2bb809",
            "_model_module": "@jupyter-widgets/controls",
            "icon": ""
          }
        },
        "d4093b8ac1d744b3aea87cd66890c936": {
          "model_module": "@jupyter-widgets/base",
          "model_name": "LayoutModel",
          "model_module_version": "1.2.0",
          "state": {
            "_view_name": "LayoutView",
            "grid_template_rows": null,
            "right": null,
            "justify_content": null,
            "_view_module": "@jupyter-widgets/base",
            "overflow": null,
            "_model_module_version": "1.2.0",
            "_view_count": null,
            "flex_flow": null,
            "width": null,
            "min_width": null,
            "border": null,
            "align_items": null,
            "bottom": null,
            "_model_module": "@jupyter-widgets/base",
            "top": null,
            "grid_column": null,
            "overflow_y": null,
            "overflow_x": null,
            "grid_auto_flow": null,
            "grid_area": null,
            "grid_template_columns": null,
            "flex": null,
            "_model_name": "LayoutModel",
            "justify_items": null,
            "grid_row": null,
            "max_height": null,
            "align_content": null,
            "visibility": "visible",
            "align_self": null,
            "height": null,
            "min_height": null,
            "padding": null,
            "grid_auto_rows": null,
            "grid_gap": null,
            "max_width": null,
            "order": null,
            "_view_module_version": "1.2.0",
            "grid_template_areas": null,
            "object_position": null,
            "object_fit": null,
            "grid_auto_columns": null,
            "margin": "5px",
            "display": null,
            "left": null
          }
        },
        "344c1d2831394469a99468c39b4fd84f": {
          "model_module": "@jupyter-widgets/controls",
          "model_name": "ImageModel",
          "model_module_version": "1.5.0",
          "state": {
            "_view_name": "ImageView",
            "_dom_classes": [],
            "_model_name": "ImageModel",
            "format": "png",
            "_view_module": "@jupyter-widgets/controls",
            "_model_module_version": "1.5.0",
            "_view_count": null,
            "width": "",
            "_view_module_version": "1.5.0",
            "layout": "IPY_MODEL_996605ca647d40989e052e9c53be8848",
            "height": "",
            "_model_module": "@jupyter-widgets/controls"
          }
        },
        "a5bc0b14df0544b2971bc9fb328a1d93": {
          "model_module": "@jupyter-widgets/controls",
          "model_name": "ButtonModel",
          "model_module_version": "1.5.0",
          "state": {
            "_view_name": "ButtonView",
            "style": "IPY_MODEL_deb763eb8f2a453691eb1ae2deb82930",
            "_dom_classes": [],
            "description": "Delete",
            "_model_name": "ButtonModel",
            "button_style": "",
            "_view_module": "@jupyter-widgets/controls",
            "_model_module_version": "1.5.0",
            "tooltip": "",
            "_view_count": null,
            "disabled": false,
            "_view_module_version": "1.5.0",
            "layout": "IPY_MODEL_71c747f863fc4804883542c5429feed8",
            "_model_module": "@jupyter-widgets/controls",
            "icon": ""
          }
        },
        "580e5e37427d4691a72c2c5c931f71e5": {
          "model_module": "@jupyter-widgets/base",
          "model_name": "LayoutModel",
          "model_module_version": "1.2.0",
          "state": {
            "_view_name": "LayoutView",
            "grid_template_rows": null,
            "right": null,
            "justify_content": null,
            "_view_module": "@jupyter-widgets/base",
            "overflow": null,
            "_model_module_version": "1.2.0",
            "_view_count": null,
            "flex_flow": null,
            "width": null,
            "min_width": null,
            "border": null,
            "align_items": null,
            "bottom": null,
            "_model_module": "@jupyter-widgets/base",
            "top": null,
            "grid_column": null,
            "overflow_y": null,
            "overflow_x": null,
            "grid_auto_flow": null,
            "grid_area": null,
            "grid_template_columns": null,
            "flex": null,
            "_model_name": "LayoutModel",
            "justify_items": null,
            "grid_row": null,
            "max_height": null,
            "align_content": null,
            "visibility": "visible",
            "align_self": null,
            "height": null,
            "min_height": null,
            "padding": null,
            "grid_auto_rows": null,
            "grid_gap": null,
            "max_width": null,
            "order": null,
            "_view_module_version": "1.2.0",
            "grid_template_areas": null,
            "object_position": null,
            "object_fit": null,
            "grid_auto_columns": null,
            "margin": "5px",
            "display": null,
            "left": null
          }
        },
        "8b6f154597824208841d052dd88e1a09": {
          "model_module": "@jupyter-widgets/controls",
          "model_name": "ImageModel",
          "model_module_version": "1.5.0",
          "state": {
            "_view_name": "ImageView",
            "_dom_classes": [],
            "_model_name": "ImageModel",
            "format": "png",
            "_view_module": "@jupyter-widgets/controls",
            "_model_module_version": "1.5.0",
            "_view_count": null,
            "width": "",
            "_view_module_version": "1.5.0",
            "layout": "IPY_MODEL_fea19986c62b46079f9a1c44acb8fdd6",
            "height": "",
            "_model_module": "@jupyter-widgets/controls"
          }
        },
        "e3461b7d23c5473d847b38de6fbc1313": {
          "model_module": "@jupyter-widgets/controls",
          "model_name": "ButtonModel",
          "model_module_version": "1.5.0",
          "state": {
            "_view_name": "ButtonView",
            "style": "IPY_MODEL_23c9f00fac654ae6913c8b2986ea88f2",
            "_dom_classes": [],
            "description": "Delete",
            "_model_name": "ButtonModel",
            "button_style": "",
            "_view_module": "@jupyter-widgets/controls",
            "_model_module_version": "1.5.0",
            "tooltip": "",
            "_view_count": null,
            "disabled": false,
            "_view_module_version": "1.5.0",
            "layout": "IPY_MODEL_e2056d7699854f0eab8a8da11ce0dc91",
            "_model_module": "@jupyter-widgets/controls",
            "icon": ""
          }
        },
        "feb6b3c1311f4bafbd9015509f8c215b": {
          "model_module": "@jupyter-widgets/base",
          "model_name": "LayoutModel",
          "model_module_version": "1.2.0",
          "state": {
            "_view_name": "LayoutView",
            "grid_template_rows": null,
            "right": null,
            "justify_content": null,
            "_view_module": "@jupyter-widgets/base",
            "overflow": null,
            "_model_module_version": "1.2.0",
            "_view_count": null,
            "flex_flow": null,
            "width": null,
            "min_width": null,
            "border": null,
            "align_items": null,
            "bottom": null,
            "_model_module": "@jupyter-widgets/base",
            "top": null,
            "grid_column": null,
            "overflow_y": null,
            "overflow_x": null,
            "grid_auto_flow": null,
            "grid_area": null,
            "grid_template_columns": null,
            "flex": null,
            "_model_name": "LayoutModel",
            "justify_items": null,
            "grid_row": null,
            "max_height": null,
            "align_content": null,
            "visibility": "visible",
            "align_self": null,
            "height": null,
            "min_height": null,
            "padding": null,
            "grid_auto_rows": null,
            "grid_gap": null,
            "max_width": null,
            "order": null,
            "_view_module_version": "1.2.0",
            "grid_template_areas": null,
            "object_position": null,
            "object_fit": null,
            "grid_auto_columns": null,
            "margin": "5px",
            "display": null,
            "left": null
          }
        },
        "a605b130871d4002ac65b1f5244075fd": {
          "model_module": "@jupyter-widgets/controls",
          "model_name": "ImageModel",
          "model_module_version": "1.5.0",
          "state": {
            "_view_name": "ImageView",
            "_dom_classes": [],
            "_model_name": "ImageModel",
            "format": "png",
            "_view_module": "@jupyter-widgets/controls",
            "_model_module_version": "1.5.0",
            "_view_count": null,
            "width": "",
            "_view_module_version": "1.5.0",
            "layout": "IPY_MODEL_92f46f9a5988469cb72eba1758733547",
            "height": "",
            "_model_module": "@jupyter-widgets/controls"
          }
        },
        "9859b1bf6a674ee1a225e3c3f1a861ad": {
          "model_module": "@jupyter-widgets/controls",
          "model_name": "ButtonModel",
          "model_module_version": "1.5.0",
          "state": {
            "_view_name": "ButtonView",
            "style": "IPY_MODEL_c248f064c702443c9b88ba62e9ab4425",
            "_dom_classes": [],
            "description": "Delete",
            "_model_name": "ButtonModel",
            "button_style": "",
            "_view_module": "@jupyter-widgets/controls",
            "_model_module_version": "1.5.0",
            "tooltip": "",
            "_view_count": null,
            "disabled": false,
            "_view_module_version": "1.5.0",
            "layout": "IPY_MODEL_a62f32d1fd794556a6c73ad64a539b20",
            "_model_module": "@jupyter-widgets/controls",
            "icon": ""
          }
        },
        "e60497f28e334baaacf2a422662cf124": {
          "model_module": "@jupyter-widgets/base",
          "model_name": "LayoutModel",
          "model_module_version": "1.2.0",
          "state": {
            "_view_name": "LayoutView",
            "grid_template_rows": null,
            "right": null,
            "justify_content": null,
            "_view_module": "@jupyter-widgets/base",
            "overflow": null,
            "_model_module_version": "1.2.0",
            "_view_count": null,
            "flex_flow": null,
            "width": null,
            "min_width": null,
            "border": null,
            "align_items": null,
            "bottom": null,
            "_model_module": "@jupyter-widgets/base",
            "top": null,
            "grid_column": null,
            "overflow_y": null,
            "overflow_x": null,
            "grid_auto_flow": null,
            "grid_area": null,
            "grid_template_columns": null,
            "flex": null,
            "_model_name": "LayoutModel",
            "justify_items": null,
            "grid_row": null,
            "max_height": null,
            "align_content": null,
            "visibility": "visible",
            "align_self": null,
            "height": null,
            "min_height": null,
            "padding": null,
            "grid_auto_rows": null,
            "grid_gap": null,
            "max_width": null,
            "order": null,
            "_view_module_version": "1.2.0",
            "grid_template_areas": null,
            "object_position": null,
            "object_fit": null,
            "grid_auto_columns": null,
            "margin": "5px",
            "display": null,
            "left": null
          }
        },
        "c5cc51f4b40044c8ace88685c244e68f": {
          "model_module": "@jupyter-widgets/controls",
          "model_name": "ImageModel",
          "model_module_version": "1.5.0",
          "state": {
            "_view_name": "ImageView",
            "_dom_classes": [],
            "_model_name": "ImageModel",
            "format": "png",
            "_view_module": "@jupyter-widgets/controls",
            "_model_module_version": "1.5.0",
            "_view_count": null,
            "width": "",
            "_view_module_version": "1.5.0",
            "layout": "IPY_MODEL_ef7491b1a1f541bcbbd07b19970396fe",
            "height": "",
            "_model_module": "@jupyter-widgets/controls"
          }
        },
        "3ab0402831e8468b985dd7e55bb60b87": {
          "model_module": "@jupyter-widgets/controls",
          "model_name": "ButtonModel",
          "model_module_version": "1.5.0",
          "state": {
            "_view_name": "ButtonView",
            "style": "IPY_MODEL_5de1c7fcd35b42fca606a4bff968226b",
            "_dom_classes": [],
            "description": "Delete",
            "_model_name": "ButtonModel",
            "button_style": "",
            "_view_module": "@jupyter-widgets/controls",
            "_model_module_version": "1.5.0",
            "tooltip": "",
            "_view_count": null,
            "disabled": false,
            "_view_module_version": "1.5.0",
            "layout": "IPY_MODEL_fefda5ec3181475b82460782a18e2bd2",
            "_model_module": "@jupyter-widgets/controls",
            "icon": ""
          }
        },
        "6bfbb6c0539d4b82adbe8280208e1bb2": {
          "model_module": "@jupyter-widgets/base",
          "model_name": "LayoutModel",
          "model_module_version": "1.2.0",
          "state": {
            "_view_name": "LayoutView",
            "grid_template_rows": null,
            "right": null,
            "justify_content": null,
            "_view_module": "@jupyter-widgets/base",
            "overflow": null,
            "_model_module_version": "1.2.0",
            "_view_count": null,
            "flex_flow": null,
            "width": null,
            "min_width": null,
            "border": null,
            "align_items": null,
            "bottom": null,
            "_model_module": "@jupyter-widgets/base",
            "top": null,
            "grid_column": null,
            "overflow_y": null,
            "overflow_x": null,
            "grid_auto_flow": null,
            "grid_area": null,
            "grid_template_columns": null,
            "flex": null,
            "_model_name": "LayoutModel",
            "justify_items": null,
            "grid_row": null,
            "max_height": null,
            "align_content": null,
            "visibility": "visible",
            "align_self": null,
            "height": null,
            "min_height": null,
            "padding": null,
            "grid_auto_rows": null,
            "grid_gap": null,
            "max_width": null,
            "order": null,
            "_view_module_version": "1.2.0",
            "grid_template_areas": null,
            "object_position": null,
            "object_fit": null,
            "grid_auto_columns": null,
            "margin": "5px",
            "display": null,
            "left": null
          }
        },
        "46a57b6a804747e78c5dccc7960f1e1b": {
          "model_module": "@jupyter-widgets/controls",
          "model_name": "ImageModel",
          "model_module_version": "1.5.0",
          "state": {
            "_view_name": "ImageView",
            "_dom_classes": [],
            "_model_name": "ImageModel",
            "format": "png",
            "_view_module": "@jupyter-widgets/controls",
            "_model_module_version": "1.5.0",
            "_view_count": null,
            "width": "",
            "_view_module_version": "1.5.0",
            "layout": "IPY_MODEL_d77079e3ac4f41ae87d058aca2f1bc74",
            "height": "",
            "_model_module": "@jupyter-widgets/controls"
          }
        },
        "16503299a21942cc85820318eead99bc": {
          "model_module": "@jupyter-widgets/controls",
          "model_name": "ButtonModel",
          "model_module_version": "1.5.0",
          "state": {
            "_view_name": "ButtonView",
            "style": "IPY_MODEL_27c2bc411c4a4b4485e1380c99c0ee25",
            "_dom_classes": [],
            "description": "Delete",
            "_model_name": "ButtonModel",
            "button_style": "",
            "_view_module": "@jupyter-widgets/controls",
            "_model_module_version": "1.5.0",
            "tooltip": "",
            "_view_count": null,
            "disabled": false,
            "_view_module_version": "1.5.0",
            "layout": "IPY_MODEL_c56712a76c984faf926ee248e5d0ef4f",
            "_model_module": "@jupyter-widgets/controls",
            "icon": ""
          }
        },
        "b1d02ced8f014488b6549eeee1917824": {
          "model_module": "@jupyter-widgets/base",
          "model_name": "LayoutModel",
          "model_module_version": "1.2.0",
          "state": {
            "_view_name": "LayoutView",
            "grid_template_rows": null,
            "right": null,
            "justify_content": null,
            "_view_module": "@jupyter-widgets/base",
            "overflow": null,
            "_model_module_version": "1.2.0",
            "_view_count": null,
            "flex_flow": null,
            "width": "150px",
            "min_width": null,
            "border": null,
            "align_items": null,
            "bottom": null,
            "_model_module": "@jupyter-widgets/base",
            "top": null,
            "grid_column": null,
            "overflow_y": null,
            "overflow_x": null,
            "grid_auto_flow": null,
            "grid_area": null,
            "grid_template_columns": null,
            "flex": null,
            "_model_name": "LayoutModel",
            "justify_items": null,
            "grid_row": null,
            "max_height": null,
            "align_content": null,
            "visibility": null,
            "align_self": null,
            "height": null,
            "min_height": null,
            "padding": null,
            "grid_auto_rows": null,
            "grid_gap": null,
            "max_width": null,
            "order": null,
            "_view_module_version": "1.2.0",
            "grid_template_areas": null,
            "object_position": null,
            "object_fit": null,
            "grid_auto_columns": null,
            "margin": null,
            "display": null,
            "left": null
          }
        },
        "2b37b06d9ba24c66a4343ec326742dbd": {
          "model_module": "@jupyter-widgets/controls",
          "model_name": "ButtonStyleModel",
          "model_module_version": "1.5.0",
          "state": {
            "_view_name": "StyleView",
            "_model_name": "ButtonStyleModel",
            "_view_module": "@jupyter-widgets/base",
            "_model_module_version": "1.5.0",
            "_view_count": null,
            "button_color": null,
            "font_weight": "",
            "_view_module_version": "1.2.0",
            "_model_module": "@jupyter-widgets/controls"
          }
        },
        "3fb1eb6e96d34c75bed0d7ce980ddbc7": {
          "model_module": "@jupyter-widgets/base",
          "model_name": "LayoutModel",
          "model_module_version": "1.2.0",
          "state": {
            "_view_name": "LayoutView",
            "grid_template_rows": null,
            "right": null,
            "justify_content": null,
            "_view_module": "@jupyter-widgets/base",
            "overflow": null,
            "_model_module_version": "1.2.0",
            "_view_count": null,
            "flex_flow": null,
            "width": null,
            "min_width": null,
            "border": null,
            "align_items": null,
            "bottom": null,
            "_model_module": "@jupyter-widgets/base",
            "top": null,
            "grid_column": null,
            "overflow_y": null,
            "overflow_x": null,
            "grid_auto_flow": null,
            "grid_area": null,
            "grid_template_columns": null,
            "flex": null,
            "_model_name": "LayoutModel",
            "justify_items": null,
            "grid_row": null,
            "max_height": null,
            "align_content": null,
            "visibility": null,
            "align_self": null,
            "height": null,
            "min_height": null,
            "padding": null,
            "grid_auto_rows": null,
            "grid_gap": null,
            "max_width": null,
            "order": null,
            "_view_module_version": "1.2.0",
            "grid_template_areas": null,
            "object_position": null,
            "object_fit": null,
            "grid_auto_columns": null,
            "margin": null,
            "display": null,
            "left": null
          }
        },
        "b20a914f6b784506a6b520ecf94c2c3b": {
          "model_module": "@jupyter-widgets/base",
          "model_name": "LayoutModel",
          "model_module_version": "1.2.0",
          "state": {
            "_view_name": "LayoutView",
            "grid_template_rows": null,
            "right": null,
            "justify_content": null,
            "_view_module": "@jupyter-widgets/base",
            "overflow": null,
            "_model_module_version": "1.2.0",
            "_view_count": null,
            "flex_flow": null,
            "width": "150px",
            "min_width": null,
            "border": null,
            "align_items": null,
            "bottom": null,
            "_model_module": "@jupyter-widgets/base",
            "top": null,
            "grid_column": null,
            "overflow_y": null,
            "overflow_x": null,
            "grid_auto_flow": null,
            "grid_area": null,
            "grid_template_columns": null,
            "flex": null,
            "_model_name": "LayoutModel",
            "justify_items": null,
            "grid_row": null,
            "max_height": null,
            "align_content": null,
            "visibility": null,
            "align_self": null,
            "height": null,
            "min_height": null,
            "padding": null,
            "grid_auto_rows": null,
            "grid_gap": null,
            "max_width": null,
            "order": null,
            "_view_module_version": "1.2.0",
            "grid_template_areas": null,
            "object_position": null,
            "object_fit": null,
            "grid_auto_columns": null,
            "margin": null,
            "display": null,
            "left": null
          }
        },
        "275813b5ca474fb28eed5065674c0097": {
          "model_module": "@jupyter-widgets/controls",
          "model_name": "ButtonStyleModel",
          "model_module_version": "1.5.0",
          "state": {
            "_view_name": "StyleView",
            "_model_name": "ButtonStyleModel",
            "_view_module": "@jupyter-widgets/base",
            "_model_module_version": "1.5.0",
            "_view_count": null,
            "button_color": null,
            "font_weight": "",
            "_view_module_version": "1.2.0",
            "_model_module": "@jupyter-widgets/controls"
          }
        },
        "73054c9428b24f51a033774a2e2eaa43": {
          "model_module": "@jupyter-widgets/base",
          "model_name": "LayoutModel",
          "model_module_version": "1.2.0",
          "state": {
            "_view_name": "LayoutView",
            "grid_template_rows": null,
            "right": null,
            "justify_content": null,
            "_view_module": "@jupyter-widgets/base",
            "overflow": null,
            "_model_module_version": "1.2.0",
            "_view_count": null,
            "flex_flow": null,
            "width": null,
            "min_width": null,
            "border": null,
            "align_items": null,
            "bottom": null,
            "_model_module": "@jupyter-widgets/base",
            "top": null,
            "grid_column": null,
            "overflow_y": null,
            "overflow_x": null,
            "grid_auto_flow": null,
            "grid_area": null,
            "grid_template_columns": null,
            "flex": null,
            "_model_name": "LayoutModel",
            "justify_items": null,
            "grid_row": null,
            "max_height": null,
            "align_content": null,
            "visibility": null,
            "align_self": null,
            "height": null,
            "min_height": null,
            "padding": null,
            "grid_auto_rows": null,
            "grid_gap": null,
            "max_width": null,
            "order": null,
            "_view_module_version": "1.2.0",
            "grid_template_areas": null,
            "object_position": null,
            "object_fit": null,
            "grid_auto_columns": null,
            "margin": null,
            "display": null,
            "left": null
          }
        },
        "8c562f2a245b4ff68f201fb06c5c409a": {
          "model_module": "@jupyter-widgets/base",
          "model_name": "LayoutModel",
          "model_module_version": "1.2.0",
          "state": {
            "_view_name": "LayoutView",
            "grid_template_rows": null,
            "right": null,
            "justify_content": null,
            "_view_module": "@jupyter-widgets/base",
            "overflow": null,
            "_model_module_version": "1.2.0",
            "_view_count": null,
            "flex_flow": null,
            "width": "150px",
            "min_width": null,
            "border": null,
            "align_items": null,
            "bottom": null,
            "_model_module": "@jupyter-widgets/base",
            "top": null,
            "grid_column": null,
            "overflow_y": null,
            "overflow_x": null,
            "grid_auto_flow": null,
            "grid_area": null,
            "grid_template_columns": null,
            "flex": null,
            "_model_name": "LayoutModel",
            "justify_items": null,
            "grid_row": null,
            "max_height": null,
            "align_content": null,
            "visibility": null,
            "align_self": null,
            "height": null,
            "min_height": null,
            "padding": null,
            "grid_auto_rows": null,
            "grid_gap": null,
            "max_width": null,
            "order": null,
            "_view_module_version": "1.2.0",
            "grid_template_areas": null,
            "object_position": null,
            "object_fit": null,
            "grid_auto_columns": null,
            "margin": null,
            "display": null,
            "left": null
          }
        },
        "ce1a7b92ba3f4ee7925b661c8241228c": {
          "model_module": "@jupyter-widgets/controls",
          "model_name": "ButtonStyleModel",
          "model_module_version": "1.5.0",
          "state": {
            "_view_name": "StyleView",
            "_model_name": "ButtonStyleModel",
            "_view_module": "@jupyter-widgets/base",
            "_model_module_version": "1.5.0",
            "_view_count": null,
            "button_color": null,
            "font_weight": "",
            "_view_module_version": "1.2.0",
            "_model_module": "@jupyter-widgets/controls"
          }
        },
        "48624b1fd8ab4e65b7f0f399af2bb809": {
          "model_module": "@jupyter-widgets/base",
          "model_name": "LayoutModel",
          "model_module_version": "1.2.0",
          "state": {
            "_view_name": "LayoutView",
            "grid_template_rows": null,
            "right": null,
            "justify_content": null,
            "_view_module": "@jupyter-widgets/base",
            "overflow": null,
            "_model_module_version": "1.2.0",
            "_view_count": null,
            "flex_flow": null,
            "width": null,
            "min_width": null,
            "border": null,
            "align_items": null,
            "bottom": null,
            "_model_module": "@jupyter-widgets/base",
            "top": null,
            "grid_column": null,
            "overflow_y": null,
            "overflow_x": null,
            "grid_auto_flow": null,
            "grid_area": null,
            "grid_template_columns": null,
            "flex": null,
            "_model_name": "LayoutModel",
            "justify_items": null,
            "grid_row": null,
            "max_height": null,
            "align_content": null,
            "visibility": null,
            "align_self": null,
            "height": null,
            "min_height": null,
            "padding": null,
            "grid_auto_rows": null,
            "grid_gap": null,
            "max_width": null,
            "order": null,
            "_view_module_version": "1.2.0",
            "grid_template_areas": null,
            "object_position": null,
            "object_fit": null,
            "grid_auto_columns": null,
            "margin": null,
            "display": null,
            "left": null
          }
        },
        "996605ca647d40989e052e9c53be8848": {
          "model_module": "@jupyter-widgets/base",
          "model_name": "LayoutModel",
          "model_module_version": "1.2.0",
          "state": {
            "_view_name": "LayoutView",
            "grid_template_rows": null,
            "right": null,
            "justify_content": null,
            "_view_module": "@jupyter-widgets/base",
            "overflow": null,
            "_model_module_version": "1.2.0",
            "_view_count": null,
            "flex_flow": null,
            "width": "150px",
            "min_width": null,
            "border": null,
            "align_items": null,
            "bottom": null,
            "_model_module": "@jupyter-widgets/base",
            "top": null,
            "grid_column": null,
            "overflow_y": null,
            "overflow_x": null,
            "grid_auto_flow": null,
            "grid_area": null,
            "grid_template_columns": null,
            "flex": null,
            "_model_name": "LayoutModel",
            "justify_items": null,
            "grid_row": null,
            "max_height": null,
            "align_content": null,
            "visibility": null,
            "align_self": null,
            "height": null,
            "min_height": null,
            "padding": null,
            "grid_auto_rows": null,
            "grid_gap": null,
            "max_width": null,
            "order": null,
            "_view_module_version": "1.2.0",
            "grid_template_areas": null,
            "object_position": null,
            "object_fit": null,
            "grid_auto_columns": null,
            "margin": null,
            "display": null,
            "left": null
          }
        },
        "deb763eb8f2a453691eb1ae2deb82930": {
          "model_module": "@jupyter-widgets/controls",
          "model_name": "ButtonStyleModel",
          "model_module_version": "1.5.0",
          "state": {
            "_view_name": "StyleView",
            "_model_name": "ButtonStyleModel",
            "_view_module": "@jupyter-widgets/base",
            "_model_module_version": "1.5.0",
            "_view_count": null,
            "button_color": null,
            "font_weight": "",
            "_view_module_version": "1.2.0",
            "_model_module": "@jupyter-widgets/controls"
          }
        },
        "71c747f863fc4804883542c5429feed8": {
          "model_module": "@jupyter-widgets/base",
          "model_name": "LayoutModel",
          "model_module_version": "1.2.0",
          "state": {
            "_view_name": "LayoutView",
            "grid_template_rows": null,
            "right": null,
            "justify_content": null,
            "_view_module": "@jupyter-widgets/base",
            "overflow": null,
            "_model_module_version": "1.2.0",
            "_view_count": null,
            "flex_flow": null,
            "width": null,
            "min_width": null,
            "border": null,
            "align_items": null,
            "bottom": null,
            "_model_module": "@jupyter-widgets/base",
            "top": null,
            "grid_column": null,
            "overflow_y": null,
            "overflow_x": null,
            "grid_auto_flow": null,
            "grid_area": null,
            "grid_template_columns": null,
            "flex": null,
            "_model_name": "LayoutModel",
            "justify_items": null,
            "grid_row": null,
            "max_height": null,
            "align_content": null,
            "visibility": null,
            "align_self": null,
            "height": null,
            "min_height": null,
            "padding": null,
            "grid_auto_rows": null,
            "grid_gap": null,
            "max_width": null,
            "order": null,
            "_view_module_version": "1.2.0",
            "grid_template_areas": null,
            "object_position": null,
            "object_fit": null,
            "grid_auto_columns": null,
            "margin": null,
            "display": null,
            "left": null
          }
        },
        "fea19986c62b46079f9a1c44acb8fdd6": {
          "model_module": "@jupyter-widgets/base",
          "model_name": "LayoutModel",
          "model_module_version": "1.2.0",
          "state": {
            "_view_name": "LayoutView",
            "grid_template_rows": null,
            "right": null,
            "justify_content": null,
            "_view_module": "@jupyter-widgets/base",
            "overflow": null,
            "_model_module_version": "1.2.0",
            "_view_count": null,
            "flex_flow": null,
            "width": "150px",
            "min_width": null,
            "border": null,
            "align_items": null,
            "bottom": null,
            "_model_module": "@jupyter-widgets/base",
            "top": null,
            "grid_column": null,
            "overflow_y": null,
            "overflow_x": null,
            "grid_auto_flow": null,
            "grid_area": null,
            "grid_template_columns": null,
            "flex": null,
            "_model_name": "LayoutModel",
            "justify_items": null,
            "grid_row": null,
            "max_height": null,
            "align_content": null,
            "visibility": null,
            "align_self": null,
            "height": null,
            "min_height": null,
            "padding": null,
            "grid_auto_rows": null,
            "grid_gap": null,
            "max_width": null,
            "order": null,
            "_view_module_version": "1.2.0",
            "grid_template_areas": null,
            "object_position": null,
            "object_fit": null,
            "grid_auto_columns": null,
            "margin": null,
            "display": null,
            "left": null
          }
        },
        "23c9f00fac654ae6913c8b2986ea88f2": {
          "model_module": "@jupyter-widgets/controls",
          "model_name": "ButtonStyleModel",
          "model_module_version": "1.5.0",
          "state": {
            "_view_name": "StyleView",
            "_model_name": "ButtonStyleModel",
            "_view_module": "@jupyter-widgets/base",
            "_model_module_version": "1.5.0",
            "_view_count": null,
            "button_color": null,
            "font_weight": "",
            "_view_module_version": "1.2.0",
            "_model_module": "@jupyter-widgets/controls"
          }
        },
        "e2056d7699854f0eab8a8da11ce0dc91": {
          "model_module": "@jupyter-widgets/base",
          "model_name": "LayoutModel",
          "model_module_version": "1.2.0",
          "state": {
            "_view_name": "LayoutView",
            "grid_template_rows": null,
            "right": null,
            "justify_content": null,
            "_view_module": "@jupyter-widgets/base",
            "overflow": null,
            "_model_module_version": "1.2.0",
            "_view_count": null,
            "flex_flow": null,
            "width": null,
            "min_width": null,
            "border": null,
            "align_items": null,
            "bottom": null,
            "_model_module": "@jupyter-widgets/base",
            "top": null,
            "grid_column": null,
            "overflow_y": null,
            "overflow_x": null,
            "grid_auto_flow": null,
            "grid_area": null,
            "grid_template_columns": null,
            "flex": null,
            "_model_name": "LayoutModel",
            "justify_items": null,
            "grid_row": null,
            "max_height": null,
            "align_content": null,
            "visibility": null,
            "align_self": null,
            "height": null,
            "min_height": null,
            "padding": null,
            "grid_auto_rows": null,
            "grid_gap": null,
            "max_width": null,
            "order": null,
            "_view_module_version": "1.2.0",
            "grid_template_areas": null,
            "object_position": null,
            "object_fit": null,
            "grid_auto_columns": null,
            "margin": null,
            "display": null,
            "left": null
          }
        },
        "92f46f9a5988469cb72eba1758733547": {
          "model_module": "@jupyter-widgets/base",
          "model_name": "LayoutModel",
          "model_module_version": "1.2.0",
          "state": {
            "_view_name": "LayoutView",
            "grid_template_rows": null,
            "right": null,
            "justify_content": null,
            "_view_module": "@jupyter-widgets/base",
            "overflow": null,
            "_model_module_version": "1.2.0",
            "_view_count": null,
            "flex_flow": null,
            "width": "150px",
            "min_width": null,
            "border": null,
            "align_items": null,
            "bottom": null,
            "_model_module": "@jupyter-widgets/base",
            "top": null,
            "grid_column": null,
            "overflow_y": null,
            "overflow_x": null,
            "grid_auto_flow": null,
            "grid_area": null,
            "grid_template_columns": null,
            "flex": null,
            "_model_name": "LayoutModel",
            "justify_items": null,
            "grid_row": null,
            "max_height": null,
            "align_content": null,
            "visibility": null,
            "align_self": null,
            "height": null,
            "min_height": null,
            "padding": null,
            "grid_auto_rows": null,
            "grid_gap": null,
            "max_width": null,
            "order": null,
            "_view_module_version": "1.2.0",
            "grid_template_areas": null,
            "object_position": null,
            "object_fit": null,
            "grid_auto_columns": null,
            "margin": null,
            "display": null,
            "left": null
          }
        },
        "c248f064c702443c9b88ba62e9ab4425": {
          "model_module": "@jupyter-widgets/controls",
          "model_name": "ButtonStyleModel",
          "model_module_version": "1.5.0",
          "state": {
            "_view_name": "StyleView",
            "_model_name": "ButtonStyleModel",
            "_view_module": "@jupyter-widgets/base",
            "_model_module_version": "1.5.0",
            "_view_count": null,
            "button_color": null,
            "font_weight": "",
            "_view_module_version": "1.2.0",
            "_model_module": "@jupyter-widgets/controls"
          }
        },
        "a62f32d1fd794556a6c73ad64a539b20": {
          "model_module": "@jupyter-widgets/base",
          "model_name": "LayoutModel",
          "model_module_version": "1.2.0",
          "state": {
            "_view_name": "LayoutView",
            "grid_template_rows": null,
            "right": null,
            "justify_content": null,
            "_view_module": "@jupyter-widgets/base",
            "overflow": null,
            "_model_module_version": "1.2.0",
            "_view_count": null,
            "flex_flow": null,
            "width": null,
            "min_width": null,
            "border": null,
            "align_items": null,
            "bottom": null,
            "_model_module": "@jupyter-widgets/base",
            "top": null,
            "grid_column": null,
            "overflow_y": null,
            "overflow_x": null,
            "grid_auto_flow": null,
            "grid_area": null,
            "grid_template_columns": null,
            "flex": null,
            "_model_name": "LayoutModel",
            "justify_items": null,
            "grid_row": null,
            "max_height": null,
            "align_content": null,
            "visibility": null,
            "align_self": null,
            "height": null,
            "min_height": null,
            "padding": null,
            "grid_auto_rows": null,
            "grid_gap": null,
            "max_width": null,
            "order": null,
            "_view_module_version": "1.2.0",
            "grid_template_areas": null,
            "object_position": null,
            "object_fit": null,
            "grid_auto_columns": null,
            "margin": null,
            "display": null,
            "left": null
          }
        },
        "ef7491b1a1f541bcbbd07b19970396fe": {
          "model_module": "@jupyter-widgets/base",
          "model_name": "LayoutModel",
          "model_module_version": "1.2.0",
          "state": {
            "_view_name": "LayoutView",
            "grid_template_rows": null,
            "right": null,
            "justify_content": null,
            "_view_module": "@jupyter-widgets/base",
            "overflow": null,
            "_model_module_version": "1.2.0",
            "_view_count": null,
            "flex_flow": null,
            "width": "150px",
            "min_width": null,
            "border": null,
            "align_items": null,
            "bottom": null,
            "_model_module": "@jupyter-widgets/base",
            "top": null,
            "grid_column": null,
            "overflow_y": null,
            "overflow_x": null,
            "grid_auto_flow": null,
            "grid_area": null,
            "grid_template_columns": null,
            "flex": null,
            "_model_name": "LayoutModel",
            "justify_items": null,
            "grid_row": null,
            "max_height": null,
            "align_content": null,
            "visibility": null,
            "align_self": null,
            "height": null,
            "min_height": null,
            "padding": null,
            "grid_auto_rows": null,
            "grid_gap": null,
            "max_width": null,
            "order": null,
            "_view_module_version": "1.2.0",
            "grid_template_areas": null,
            "object_position": null,
            "object_fit": null,
            "grid_auto_columns": null,
            "margin": null,
            "display": null,
            "left": null
          }
        },
        "5de1c7fcd35b42fca606a4bff968226b": {
          "model_module": "@jupyter-widgets/controls",
          "model_name": "ButtonStyleModel",
          "model_module_version": "1.5.0",
          "state": {
            "_view_name": "StyleView",
            "_model_name": "ButtonStyleModel",
            "_view_module": "@jupyter-widgets/base",
            "_model_module_version": "1.5.0",
            "_view_count": null,
            "button_color": null,
            "font_weight": "",
            "_view_module_version": "1.2.0",
            "_model_module": "@jupyter-widgets/controls"
          }
        },
        "fefda5ec3181475b82460782a18e2bd2": {
          "model_module": "@jupyter-widgets/base",
          "model_name": "LayoutModel",
          "model_module_version": "1.2.0",
          "state": {
            "_view_name": "LayoutView",
            "grid_template_rows": null,
            "right": null,
            "justify_content": null,
            "_view_module": "@jupyter-widgets/base",
            "overflow": null,
            "_model_module_version": "1.2.0",
            "_view_count": null,
            "flex_flow": null,
            "width": null,
            "min_width": null,
            "border": null,
            "align_items": null,
            "bottom": null,
            "_model_module": "@jupyter-widgets/base",
            "top": null,
            "grid_column": null,
            "overflow_y": null,
            "overflow_x": null,
            "grid_auto_flow": null,
            "grid_area": null,
            "grid_template_columns": null,
            "flex": null,
            "_model_name": "LayoutModel",
            "justify_items": null,
            "grid_row": null,
            "max_height": null,
            "align_content": null,
            "visibility": null,
            "align_self": null,
            "height": null,
            "min_height": null,
            "padding": null,
            "grid_auto_rows": null,
            "grid_gap": null,
            "max_width": null,
            "order": null,
            "_view_module_version": "1.2.0",
            "grid_template_areas": null,
            "object_position": null,
            "object_fit": null,
            "grid_auto_columns": null,
            "margin": null,
            "display": null,
            "left": null
          }
        },
        "d77079e3ac4f41ae87d058aca2f1bc74": {
          "model_module": "@jupyter-widgets/base",
          "model_name": "LayoutModel",
          "model_module_version": "1.2.0",
          "state": {
            "_view_name": "LayoutView",
            "grid_template_rows": null,
            "right": null,
            "justify_content": null,
            "_view_module": "@jupyter-widgets/base",
            "overflow": null,
            "_model_module_version": "1.2.0",
            "_view_count": null,
            "flex_flow": null,
            "width": "150px",
            "min_width": null,
            "border": null,
            "align_items": null,
            "bottom": null,
            "_model_module": "@jupyter-widgets/base",
            "top": null,
            "grid_column": null,
            "overflow_y": null,
            "overflow_x": null,
            "grid_auto_flow": null,
            "grid_area": null,
            "grid_template_columns": null,
            "flex": null,
            "_model_name": "LayoutModel",
            "justify_items": null,
            "grid_row": null,
            "max_height": null,
            "align_content": null,
            "visibility": null,
            "align_self": null,
            "height": null,
            "min_height": null,
            "padding": null,
            "grid_auto_rows": null,
            "grid_gap": null,
            "max_width": null,
            "order": null,
            "_view_module_version": "1.2.0",
            "grid_template_areas": null,
            "object_position": null,
            "object_fit": null,
            "grid_auto_columns": null,
            "margin": null,
            "display": null,
            "left": null
          }
        },
        "27c2bc411c4a4b4485e1380c99c0ee25": {
          "model_module": "@jupyter-widgets/controls",
          "model_name": "ButtonStyleModel",
          "model_module_version": "1.5.0",
          "state": {
            "_view_name": "StyleView",
            "_model_name": "ButtonStyleModel",
            "_view_module": "@jupyter-widgets/base",
            "_model_module_version": "1.5.0",
            "_view_count": null,
            "button_color": null,
            "font_weight": "",
            "_view_module_version": "1.2.0",
            "_model_module": "@jupyter-widgets/controls"
          }
        },
        "c56712a76c984faf926ee248e5d0ef4f": {
          "model_module": "@jupyter-widgets/base",
          "model_name": "LayoutModel",
          "model_module_version": "1.2.0",
          "state": {
            "_view_name": "LayoutView",
            "grid_template_rows": null,
            "right": null,
            "justify_content": null,
            "_view_module": "@jupyter-widgets/base",
            "overflow": null,
            "_model_module_version": "1.2.0",
            "_view_count": null,
            "flex_flow": null,
            "width": null,
            "min_width": null,
            "border": null,
            "align_items": null,
            "bottom": null,
            "_model_module": "@jupyter-widgets/base",
            "top": null,
            "grid_column": null,
            "overflow_y": null,
            "overflow_x": null,
            "grid_auto_flow": null,
            "grid_area": null,
            "grid_template_columns": null,
            "flex": null,
            "_model_name": "LayoutModel",
            "justify_items": null,
            "grid_row": null,
            "max_height": null,
            "align_content": null,
            "visibility": null,
            "align_self": null,
            "height": null,
            "min_height": null,
            "padding": null,
            "grid_auto_rows": null,
            "grid_gap": null,
            "max_width": null,
            "order": null,
            "_view_module_version": "1.2.0",
            "grid_template_areas": null,
            "object_position": null,
            "object_fit": null,
            "grid_auto_columns": null,
            "margin": null,
            "display": null,
            "left": null
          }
        },
        "475f1fb639dd4218a7995397b6f2dc13": {
          "model_module": "@jupyter-widgets/controls",
          "model_name": "HBoxModel",
          "model_module_version": "1.5.0",
          "state": {
            "_view_name": "HBoxView",
            "_dom_classes": [],
            "_model_name": "HBoxModel",
            "_view_module": "@jupyter-widgets/controls",
            "_model_module_version": "1.5.0",
            "_view_count": null,
            "_view_module_version": "1.5.0",
            "box_style": "",
            "layout": "IPY_MODEL_c6d03c3b3b9246b88a6df749444e9633",
            "_model_module": "@jupyter-widgets/controls",
            "children": [
              "IPY_MODEL_1d37d53113b642eaba14be504e8e2072",
              "IPY_MODEL_9041c2ea54ab4dceaff63952202041c7",
              "IPY_MODEL_cb0b42eb33764fb983a3a40049f386bb"
            ]
          }
        },
        "c6d03c3b3b9246b88a6df749444e9633": {
          "model_module": "@jupyter-widgets/base",
          "model_name": "LayoutModel",
          "model_module_version": "1.2.0",
          "state": {
            "_view_name": "LayoutView",
            "grid_template_rows": null,
            "right": null,
            "justify_content": null,
            "_view_module": "@jupyter-widgets/base",
            "overflow": null,
            "_model_module_version": "1.2.0",
            "_view_count": null,
            "flex_flow": null,
            "width": null,
            "min_width": null,
            "border": null,
            "align_items": null,
            "bottom": null,
            "_model_module": "@jupyter-widgets/base",
            "top": null,
            "grid_column": null,
            "overflow_y": null,
            "overflow_x": null,
            "grid_auto_flow": null,
            "grid_area": null,
            "grid_template_columns": null,
            "flex": null,
            "_model_name": "LayoutModel",
            "justify_items": null,
            "grid_row": null,
            "max_height": null,
            "align_content": null,
            "visibility": null,
            "align_self": null,
            "height": null,
            "min_height": null,
            "padding": null,
            "grid_auto_rows": null,
            "grid_gap": null,
            "max_width": null,
            "order": null,
            "_view_module_version": "1.2.0",
            "grid_template_areas": null,
            "object_position": null,
            "object_fit": null,
            "grid_auto_columns": null,
            "margin": null,
            "display": null,
            "left": null
          }
        },
        "1d37d53113b642eaba14be504e8e2072": {
          "model_module": "@jupyter-widgets/controls",
          "model_name": "HTMLModel",
          "model_module_version": "1.5.0",
          "state": {
            "_view_name": "HTMLView",
            "style": "IPY_MODEL_94e529ae2f5a4c0e937bde6187e59b75",
            "_dom_classes": [],
            "description": "",
            "_model_name": "HTMLModel",
            "placeholder": "​",
            "_view_module": "@jupyter-widgets/controls",
            "_model_module_version": "1.5.0",
            "value": "100%",
            "_view_count": null,
            "_view_module_version": "1.5.0",
            "description_tooltip": null,
            "_model_module": "@jupyter-widgets/controls",
            "layout": "IPY_MODEL_e8b9e7a797b94e66b870fb170a4d3301"
          }
        },
        "9041c2ea54ab4dceaff63952202041c7": {
          "model_module": "@jupyter-widgets/controls",
          "model_name": "FloatProgressModel",
          "model_module_version": "1.5.0",
          "state": {
            "_view_name": "ProgressView",
            "style": "IPY_MODEL_dc30ebd809a44668834a8c6204cbe923",
            "_dom_classes": [],
            "description": "",
            "_model_name": "FloatProgressModel",
            "bar_style": "success",
            "max": 46830571,
            "_view_module": "@jupyter-widgets/controls",
            "_model_module_version": "1.5.0",
            "value": 46830571,
            "_view_count": null,
            "_view_module_version": "1.5.0",
            "orientation": "horizontal",
            "min": 0,
            "description_tooltip": null,
            "_model_module": "@jupyter-widgets/controls",
            "layout": "IPY_MODEL_e49df622de26454fac10006944b69988"
          }
        },
        "cb0b42eb33764fb983a3a40049f386bb": {
          "model_module": "@jupyter-widgets/controls",
          "model_name": "HTMLModel",
          "model_module_version": "1.5.0",
          "state": {
            "_view_name": "HTMLView",
            "style": "IPY_MODEL_f05f9e446443490cae377115696328e7",
            "_dom_classes": [],
            "description": "",
            "_model_name": "HTMLModel",
            "placeholder": "​",
            "_view_module": "@jupyter-widgets/controls",
            "_model_module_version": "1.5.0",
            "value": " 44.7M/44.7M [00:00&lt;00:00, 68.2MB/s]",
            "_view_count": null,
            "_view_module_version": "1.5.0",
            "description_tooltip": null,
            "_model_module": "@jupyter-widgets/controls",
            "layout": "IPY_MODEL_1c0a4170a6e6461bb12a5c1476302c18"
          }
        },
        "94e529ae2f5a4c0e937bde6187e59b75": {
          "model_module": "@jupyter-widgets/controls",
          "model_name": "DescriptionStyleModel",
          "model_module_version": "1.5.0",
          "state": {
            "_view_name": "StyleView",
            "_model_name": "DescriptionStyleModel",
            "description_width": "",
            "_view_module": "@jupyter-widgets/base",
            "_model_module_version": "1.5.0",
            "_view_count": null,
            "_view_module_version": "1.2.0",
            "_model_module": "@jupyter-widgets/controls"
          }
        },
        "e8b9e7a797b94e66b870fb170a4d3301": {
          "model_module": "@jupyter-widgets/base",
          "model_name": "LayoutModel",
          "model_module_version": "1.2.0",
          "state": {
            "_view_name": "LayoutView",
            "grid_template_rows": null,
            "right": null,
            "justify_content": null,
            "_view_module": "@jupyter-widgets/base",
            "overflow": null,
            "_model_module_version": "1.2.0",
            "_view_count": null,
            "flex_flow": null,
            "width": null,
            "min_width": null,
            "border": null,
            "align_items": null,
            "bottom": null,
            "_model_module": "@jupyter-widgets/base",
            "top": null,
            "grid_column": null,
            "overflow_y": null,
            "overflow_x": null,
            "grid_auto_flow": null,
            "grid_area": null,
            "grid_template_columns": null,
            "flex": null,
            "_model_name": "LayoutModel",
            "justify_items": null,
            "grid_row": null,
            "max_height": null,
            "align_content": null,
            "visibility": null,
            "align_self": null,
            "height": null,
            "min_height": null,
            "padding": null,
            "grid_auto_rows": null,
            "grid_gap": null,
            "max_width": null,
            "order": null,
            "_view_module_version": "1.2.0",
            "grid_template_areas": null,
            "object_position": null,
            "object_fit": null,
            "grid_auto_columns": null,
            "margin": null,
            "display": null,
            "left": null
          }
        },
        "dc30ebd809a44668834a8c6204cbe923": {
          "model_module": "@jupyter-widgets/controls",
          "model_name": "ProgressStyleModel",
          "model_module_version": "1.5.0",
          "state": {
            "_view_name": "StyleView",
            "_model_name": "ProgressStyleModel",
            "description_width": "",
            "_view_module": "@jupyter-widgets/base",
            "_model_module_version": "1.5.0",
            "_view_count": null,
            "_view_module_version": "1.2.0",
            "bar_color": null,
            "_model_module": "@jupyter-widgets/controls"
          }
        },
        "e49df622de26454fac10006944b69988": {
          "model_module": "@jupyter-widgets/base",
          "model_name": "LayoutModel",
          "model_module_version": "1.2.0",
          "state": {
            "_view_name": "LayoutView",
            "grid_template_rows": null,
            "right": null,
            "justify_content": null,
            "_view_module": "@jupyter-widgets/base",
            "overflow": null,
            "_model_module_version": "1.2.0",
            "_view_count": null,
            "flex_flow": null,
            "width": null,
            "min_width": null,
            "border": null,
            "align_items": null,
            "bottom": null,
            "_model_module": "@jupyter-widgets/base",
            "top": null,
            "grid_column": null,
            "overflow_y": null,
            "overflow_x": null,
            "grid_auto_flow": null,
            "grid_area": null,
            "grid_template_columns": null,
            "flex": null,
            "_model_name": "LayoutModel",
            "justify_items": null,
            "grid_row": null,
            "max_height": null,
            "align_content": null,
            "visibility": null,
            "align_self": null,
            "height": null,
            "min_height": null,
            "padding": null,
            "grid_auto_rows": null,
            "grid_gap": null,
            "max_width": null,
            "order": null,
            "_view_module_version": "1.2.0",
            "grid_template_areas": null,
            "object_position": null,
            "object_fit": null,
            "grid_auto_columns": null,
            "margin": null,
            "display": null,
            "left": null
          }
        },
        "f05f9e446443490cae377115696328e7": {
          "model_module": "@jupyter-widgets/controls",
          "model_name": "DescriptionStyleModel",
          "model_module_version": "1.5.0",
          "state": {
            "_view_name": "StyleView",
            "_model_name": "DescriptionStyleModel",
            "description_width": "",
            "_view_module": "@jupyter-widgets/base",
            "_model_module_version": "1.5.0",
            "_view_count": null,
            "_view_module_version": "1.2.0",
            "_model_module": "@jupyter-widgets/controls"
          }
        },
        "1c0a4170a6e6461bb12a5c1476302c18": {
          "model_module": "@jupyter-widgets/base",
          "model_name": "LayoutModel",
          "model_module_version": "1.2.0",
          "state": {
            "_view_name": "LayoutView",
            "grid_template_rows": null,
            "right": null,
            "justify_content": null,
            "_view_module": "@jupyter-widgets/base",
            "overflow": null,
            "_model_module_version": "1.2.0",
            "_view_count": null,
            "flex_flow": null,
            "width": null,
            "min_width": null,
            "border": null,
            "align_items": null,
            "bottom": null,
            "_model_module": "@jupyter-widgets/base",
            "top": null,
            "grid_column": null,
            "overflow_y": null,
            "overflow_x": null,
            "grid_auto_flow": null,
            "grid_area": null,
            "grid_template_columns": null,
            "flex": null,
            "_model_name": "LayoutModel",
            "justify_items": null,
            "grid_row": null,
            "max_height": null,
            "align_content": null,
            "visibility": null,
            "align_self": null,
            "height": null,
            "min_height": null,
            "padding": null,
            "grid_auto_rows": null,
            "grid_gap": null,
            "max_width": null,
            "order": null,
            "_view_module_version": "1.2.0",
            "grid_template_areas": null,
            "object_position": null,
            "object_fit": null,
            "grid_auto_columns": null,
            "margin": null,
            "display": null,
            "left": null
          }
        },
        "61eab64019dc4a0591709b099b44c385": {
          "model_module": "@jupyter-widgets/controls",
          "model_name": "FileUploadModel",
          "model_module_version": "1.5.0",
          "state": {
            "_view_name": "FileUploadView",
            "_counter": 1,
            "style": "IPY_MODEL_af971db200bc4cbebad0205465e35a6d",
            "_dom_classes": [],
            "description": "Upload",
            "multiple": false,
            "_model_name": "FileUploadModel",
            "data": [
              null
            ],
            "button_style": "",
            "_view_module": "@jupyter-widgets/controls",
            "_model_module_version": "1.5.0",
            "accept": "",
            "_view_count": null,
            "disabled": false,
            "_view_module_version": "1.5.0",
            "error": "",
            "description_tooltip": null,
            "metadata": [
              {
                "name": "flat1.jpeg",
                "type": "image/jpeg",
                "size": 1948,
                "lastModified": 1628594564919
              }
            ],
            "_model_module": "@jupyter-widgets/controls",
            "layout": "IPY_MODEL_b2bd3df7ead2480085b571be46b0158d",
            "icon": "upload"
          }
        },
        "af971db200bc4cbebad0205465e35a6d": {
          "model_module": "@jupyter-widgets/controls",
          "model_name": "ButtonStyleModel",
          "model_module_version": "1.5.0",
          "state": {
            "_view_name": "StyleView",
            "_model_name": "ButtonStyleModel",
            "_view_module": "@jupyter-widgets/base",
            "_model_module_version": "1.5.0",
            "_view_count": null,
            "button_color": null,
            "font_weight": "",
            "_view_module_version": "1.2.0",
            "_model_module": "@jupyter-widgets/controls"
          }
        },
        "b2bd3df7ead2480085b571be46b0158d": {
          "model_module": "@jupyter-widgets/base",
          "model_name": "LayoutModel",
          "model_module_version": "1.2.0",
          "state": {
            "_view_name": "LayoutView",
            "grid_template_rows": null,
            "right": null,
            "justify_content": null,
            "_view_module": "@jupyter-widgets/base",
            "overflow": null,
            "_model_module_version": "1.2.0",
            "_view_count": null,
            "flex_flow": null,
            "width": null,
            "min_width": null,
            "border": null,
            "align_items": null,
            "bottom": null,
            "_model_module": "@jupyter-widgets/base",
            "top": null,
            "grid_column": null,
            "overflow_y": null,
            "overflow_x": null,
            "grid_auto_flow": null,
            "grid_area": null,
            "grid_template_columns": null,
            "flex": null,
            "_model_name": "LayoutModel",
            "justify_items": null,
            "grid_row": null,
            "max_height": null,
            "align_content": null,
            "visibility": null,
            "align_self": null,
            "height": null,
            "min_height": null,
            "padding": null,
            "grid_auto_rows": null,
            "grid_gap": null,
            "max_width": null,
            "order": null,
            "_view_module_version": "1.2.0",
            "grid_template_areas": null,
            "object_position": null,
            "object_fit": null,
            "grid_auto_columns": null,
            "margin": null,
            "display": null,
            "left": null
          }
        },
        "71b04491554b4fd885784257eedc5d9f": {
          "model_module": "@jupyter-widgets/output",
          "model_name": "OutputModel",
          "model_module_version": "1.0.0",
          "state": {
            "_view_name": "OutputView",
            "msg_id": "",
            "_dom_classes": [],
            "_model_name": "OutputModel",
            "outputs": [
              {
                "output_type": "display_data",
                "metadata": {
                  "tags": []
                },
                "image/png": "iVBORw0KGgoAAAANSUhEUgAAAIAAAABICAIAAACx52pFAAArBklEQVR4nN29Wcxl13EeWlVr2MOZ/rnnZlPNbrU4yBJFDdRAWbIdZLCtJDAcK4HtOAEyvAV5yFMGBMlDkosoNxd+uIiBAEaCiwsYAgL4IYkdW5FkiZZEK7JIsTmLzR7Inv7hTHtYa1Xloc7ZfUg2my2JpIEsHJLnP2fvtfeq4auvatU+xGvXruFywHJ071ffrB5whyEiIvKGU5IJERxIViLefOZ7//4f/f0PHBpsb/bXT51dO33/+vH39Xvl/Oa1axeeP/jhcxefvfqDl29kD57jzaHjUBrXgmtC633+81/4yw998KfqNiQWRHrjpYH7Pv9vv/3bl77yu/dvOyp9O9wqh/3RiTPlznHbTMYvnb/2yqWr18fP/vDSs6++Oi/7Dz/22WSJQAgRwDCwINdtOvv+h37xC3/NOx9SezerfrMERKRbvgpkOXj1wzeu4V0aKLeu1LStiBARIBIiAhCwpBjbOrVNaNs2pWQwy3IAAYAQo4DkWZ7leb8/YGZmvq0tcIoMsHP4yKSu6xhjTCjSHSkiAiIidV03TSMA3jmk20jAGCryAgTkzd+90+M9UgAAgAAKWKLZZIoCBgmBCMkgEgimwHUVplMJPGlqyb3LCmIEIEES5sRpNBqur6+pAm6/GEMxxZNn30/94UHdhJgMJ/0KAZgZAVmkms/rugKALM/oTQoQASLT6/U6V35Xx+LyiLgKHasY8maA+nEuI0ACBEAC8/HYGWuNccapAixIquexmkIzlybtV3PolUJkhBCJiWKMwjIarZVlj5mJaBV/ujskwsBp48Tx9eMn9uchJbaRDaKAGGMIMaUEIiyiPmTIGKJudQJAhMYaY4z3ngy9labvMFbFeOcjF/d8Nwf9hNJfTAWAAiLS1E1mXWZ9vz/IvOcQmtlsvr9Xj/ekqsOsmaVkhv3AYtgAGkEkImbe2dk2xoDAm812OSSItGQ/+JmfHoeQZYUDRABCstYKQIyRhYlIV+acu3WmLBDHIAGIz7w19r3zgHf9MgIoGgmobYN3zlnbK3tlUaYQJwcH1eQgVFNo62ZWBxE76CVBEgRBITJknLPHjx9HuJNIRJIQ1ikdve+MH4zmVQUhgIh1jog4JV4OAEDEfq8HAMwswuoZIsLCIlIWJRHR2xnoOyCZd/sCy4HLf6RtG2uNtQbJep975yTFFCMhAEDbhAhgcg9GAAQBUSBJGq2tr69vJl5Mc/trEBkwRLYoSkByxguSAFprkSipAhILJ2uIAWyeCwAwiAiDoKqAAQCzLEe6w6XesWFv++lb+/jbj9tCVgKbkACTGA48A8u2yMAPbNajLJMUWwC2WQV2ysn1MsggYjRCPlFkDgbWNrd9NmBxjAwYBQDkjSQvgilaY8DMjM18gUGmebZW9tB4ZgkxgDBwcAgFmRaxMrZOhhILMJhkAUUMMwFacjZBShLwR1TC6vLvJoS8hywIQGmlz7LELMwMAkTWOZ9l3jn190lVZ2VPBDkxiyRhBaEjR446798GlAUAgBHIW3JWQDQUIi2iXRchrTEImGUZvIlrIIJ11jv/Y0TgH2O8xwoABMjznFNS4YJB6x0Rckqxbauq3m+CL/sxiQiKSIKUhK01R48csc4i3cke9bsEAt6hNSxMgICgBAkANACIiLUWEbMsAwFEQlole+isc97zksK+q2OhAE3b3kHO84bRzSwiztqYEhmD1iRhRDTGcErVZHpwMG6MB5ezIAoCgBAySp7lm5sbCHjn1AjVAwjAGVfmSSRz3hrjnVMC2mWnxpgs80SUmLtk/5ZQiJSdvlNB4A6yfY89AEWEEBHQGEJr0JgEEkNo67qezg/Gk5qM6w+dz0EQkcAAI6yvrw+HwxjinSFIF8cIYqkY9hOzIUQkY4ye1p0uIsZY9QMAdZNb8xhjCDXV+D+Fht66nsrDGCKD1rjMM/NsNptOpvPpdHIwdr2+8RmSIzJIKIRg8J57Tlpr3xYT1AMigFjqr41iisCAatEr1oeIiZkInXfWGkRCohVsE++9sZYQ34MwcHsFrCLGjzrjbRFMEIwAiiSDhogUKCyJtQkwhjbMpnXVTBsuNjZDZExsUO0SLbmdQ8famNAaURnD7cEBAQTZSjJCpj9MEQCSECYRIRQQXREiiCRE40xGREhaWTKApHmbtZaQQG75xY8kh64YdzcHv70CfqTE+q2QjhGKCEagsUhI2MTgCL2bCzaCJrVxuj+dhnEqQtkjsAWjFUFAy7awg2ywJeQEQYABBIQQbnMtBIk29mKTM+WbRzE6oAgZtZKEMIogYYrJECJGa3KEHFGQAqIAZGAsGotkDTkDBhJaYwHh7qUJK9L/iRTwro6UUkop8z7PC4OY2qaaT9u2HU8mjFTkuUKEBkwRHgz6g/4iZb2zHcjyFTkdOXI4cgKA25ZbEov3Tn2CljG3+9Y5Z6wVAGZ55wnJ68efhQJiZGbvvc8KAkpNzW1NBA0nk+dZliGikkUAEJb+YKC1ybuZXLNnFs7Lcl5Xddu8GccRUIS99yAAt1xpeT6Ac84asyzQvbsqsHdOertvb7v+28P97SBLS12KaVqRiTF5VxhjY1ORxBibaV1jPtKLKjcFgLpth8OhCBhD8Ba5JRHp/IzAqB7ApsiBqGlbMsZ7H1ISkRACCxsiZ11iNtYwGmJMgt3kWrAQEQAUlk5DdyXOu8iEV4Ed3msPEEDEFKNzjowh41KIEtvYVG1TVzGhzxa8cPlvROz3+0pi3paTLMwfgRGMs+WgLwi0DGacOMYIAmSMgFhjEHHVrBBRo7tWSUUE3oWU6A3jPc+EEUMIPvOZ99b4pmohxqaa1c28CcHmRbdiNUNj7Wg4stZ2n9xhclkmagLgrFlfGwGRQggCJk4hREAwxnDiLM8BYFldXd3/oDzPVd/vRk76hnG3CvgJbwUBBCEhIKAEdmRMkSeQNtUxhdhKU0MSIa9VeQZgAQZgQPHe3ZkQd1+hGCMoyMhgbV8GazYIsAG0gCQsIgmEgaCFRM4iGmJDYhE8gFuIH9EYQ0SAC9z78Vf9FpwQVuR5Vxe4M8W8m0GATMAoIAJNdMbaXp5ABGNKIQZsa4tEZKNgEmRBRpIkETABLvaw3sBVurEkfYLsXEKmZCJ4O6p7A1sLiQfjhTnFgJIQOEqqMdk8J7QkFsWjZJ0CENE6i4gEuEzgfsxVv5XQVj//M2BBbWjzvCiLwkiS0Ia6qqbTtq6AwVq3mvynlAhpQVd+lCEIhOCLjAm8MyTcVvOmmoAkIAqJQ5TR+joDC2kCzYiiOzBkaDgYqshS+jPKhN/V0bZtlmWZz1I9a6bj2cH+fDIOTSMAluxq+SWlRETWve7DO4xbDRAAQmSzLKIYawhSrKdcT0EioGkYg0BvtJaW5TvEhKB7PQiAvV5P4/OfWSmCl3lQ5z63hWC53bj9dZakWpiJaDAcxBia8V6cT8J8mprGEnnriYzcOgONMUgIcpsL3f4iXUEUwXhry6zhKJyQYzPdsxIwRZ8X85YxLzYPH0bneJG6MSKnlAQlxWidVdBTOfxImfBbrH6R7tGbyunvtQcIgM+yne1tEGmmB3E+xRjKzGfWWTIiK1a8IoK7n79LpxKILws2ZA01s2mYjaGt+mVmXLY3mdusWN/cToCi+AMMkgCAExtrjTH4E/OOuxzv6Z6wgBAiJi6LXghtrOvU1halX5TeeSIDK5k/M6eUUmIRvst0VM1fABgkplj0S7TGOzefjufTMUnq5XkIYVo1rig2dw4l1qRREPQqkFL0zllj8U31iXdp0G39C5fJy+qHnTPeObK/4ZTFu1QhmCJk7fW9ADfsOnHFrp5We2MW63oF5WgtAgugNq+I0vAYQtuGjqe/+WZWb5IRAMUwOchTckWxYZFak5p6HOdjKArcOjRuW6rrHAo3zMm0nqUl1xijV12wIGt15jcjxjs+6O5rDD/2QIQSTRtD5u3Vp8+XKZBJ8+l4fnATImxtHx9uboBl5pZ4YcOy5J0ppbqu7xKDEjGDIBCJR7ZFMRyO1tp2fnDtCtQVusKsbYvLoW6wBVtapECJI9qWCJfbgvpv+Ilx/y7H7bsi3umBEF1Ke9d3Xz7/J984mjbCbrU/vQDzWTE6NNpY59o6azi0MbT0pmA7r+adQ9zZMgQlErJgkuQIjRU7GMK8Orh8xSON8p63RVmutUwsrLkuieB7UHB46/FeKEAEasIXvvsNvv7ipz/8wEvPvrZ384ViPq+zvFxfb1KyAJm33pq2mrkV0YsIC9dVrRsjstJvfNuBkhJSQgMcvYQYZrMI203CJgjQsByAL8reEMAaa6uqEhFjzJt7cBf1xPdgQ/Jtg/Db88s3Hfnmz1k45DK5cmXvO9+vdm+87zMfdlubpsmGWzvF+jqTQYP9siys4abuZjDGICInns1nRGiMWZ2/e7+qEgMJABjJcIQ4u3L5Qis0r5PzvemsaUMSgKLIe/2CE1+7di0xL1QLACCICIgppaZpNAivrqaLyXi78XZyfktBvRceYIzZv/j8fH927qFPptBeevqJn/r4x39QheQmWX8Q61Bdu+GdHZTZOLQd814U44yZTqYhhLtZpxFmABGTI8TxjXVni53j165ezgdbtuXnf/jyDkhR0KDvX93bffrpp2MbEltmYd2AQAEQgUUXOwv8H7EpjyicDr79nUP3nI5nH7QuK1/54TNPfHf46c9DUbQpzprqxu6N6WR8aHvbIHS5T4wxpWSsHY/HIURY+sQdLmWZDYNB006mT3/1D/cuXdzZOXr/xz9th1vbx06azM+ryc726PSpYwf7+zdu3OiyLWYWva7+l2Xx57uPQdRt5CEKIujrzrBzi4/Ksu985YWvPwkRm7rZvXhtQ3ANoVzbTP21V156Krz61PbJc3sHMwvJusyP1vNhmZmYwrwlromQMoc+AUzbWdNMnHMxQkyUxCREreEIigCLvkEJvhcJcpheufDMzZsHpw7f63cnfm9yz/3vbw9tDrePlo21SObkWmOY5/OQmhm2FFobYouadHACEUOtpAAslgQXrwTIiIK0TDZkga+yyCFuK6qVw5JIEuE3SmxlJ3X1hLvCfbzda1VP1tq93d3f+q3f+k9f+YPf+/bjFy5dCL7Id06MikHz/AuD4dbG9uHZrFrf2tk4dCQvS2sEQtPGtuWkPVnMPJtN2nouKSFQd4uLy4mAdPKXIECQpJlwmD3wyMOj9510R9aqZnrt1cunTp7MfJ5YEgoikDdGABACJIkRUkrChgiJFu0q3qMhlpXZgfViKxKT10vvLRWwKtI3iMt2dtrtP4i8M3mAMcZa++KLL/6Tf/pPmdMfnD//ge888bFzD/zFT3z0xL0Pmhgm0/nW9qFmvB+raW/Ua9n0yv7kYIIbNkLbimASgVTN4t7NG4cPHTdkJAGCLHojXm8KAoASTArTa1fTZAqH1udDOx1QjsPw9NX5cz9cWyufuT65+vRr+y9dIoGUEscIiVJMQswkCREIAFNTVShikGKKZN4oineWs1JKi24nEdEG7lsUcPm+S4y76qB+0uF1N8Oq06SU2rY9evTo8RPH0dL18eSPvvvUv/kP//Ef/ut/9/0bB+WZcybLTd7fOXl6zjbZwpf94WBY39yTpuEY2rYOsZUUIKUb165ZQhQmFBQmYQIgRINoiAwSABjEBIwWr1++0uyOedxgxQ6cGY021zZuvvRKrOeDnfW9/YP65jTUTT2bt00T2lZSSm1o66aazur5vJ5Xk4NxWzfCTAi4rBQhMAETCsDrVn03dOityCQu29SMLLNwIjKGEDGEsNykTlqWgeWGMjO3bYuI2irbKUaJmoDEGFWdbduePn36sc885gO7uXAtwfhvv/DCb/yzf/6v/v//rw4xgsVitHXiDPt+b7ThfSazeZjNUmzb0ITQxKaJbX3l8kVJsRMBIQAzJkYGZIGUjABEBgYAUwX+wTMvPPfUC3svXs9uivdra8dOZqPhC8893y9GmxtHbuxXbdOO9/ebqq5n8+l4Mh1PZpNpXVWxbUPdXL96VeWMwrFthGOKraQokjgGbfdVabZty8wxxpSivtG160grj4QspL8kFyoxEbHOuRijqqFTDLPkeW6tDSFYa9u2tdaqfPVMay0gZlmmPQ4CYI3RgyNznjtVmLXWGPP5z3/+v/zn/2xiCggAEAFmMfw/v/XbJ/qD3/ibf7uazrLhZgzJROqVPRf55vXr9aDv0UcGxBSBL75ygVMkcNpZwZIMWUiQ4oIdGTJJUsHOO/t73/zjL/373zy6uXn/6bOf+dinj7zv2CcefmDjgQ9Uz6RrP7hw9Ni9g3suyaVXp5MpWZ/qWCREB2IgMOK8TmCef/b5T3zqs2VWNk2whIRonQeEFCMhAoJBAqK2bb33uNjCtDFGItI60tJYMYRARM65Djy6VmxVg33xxRevX7+OiGtra8aY8XjSNLX3+eHDh+u6ns1mW1tbzNzv9Xb39qqqGg6H6+vr+/v7MUVkmU1nWZaVRbG+vj6bzcqybGOczmebm5tXrlzp9/vGmDNnzmxsbFy/uRvR+8x7lwO3TVNlWTGvG+MLa7NmNvFRirzMjRnv7u5OJxbtAG2vzMTAbDq5cvlyr792c++gaubDtd58PEcxdV2nlIqiGA4H09mMJjDa2fjBhVeux+r6/tVLz7R/8vKl8NqNn3r0gb/7t37psQ9++OJ3n+bkjz34kPvOty++8kovcjOpTBMZYsRkxSSBwLh3MPnwIx/rDdauvHpxNMwR0OfZaDQKbRtizIsBkCHE6XRaliUzW2Pqph0Mhiml+Xw+GAxkkbTzdDr13ud5vlCACIe4RBoDAHY+mZY+s85JiDHEXp4PytKQCdWcY+znWWxqBJyOD4xImXlM8WD3JgIYEQAZDnqIJJJu3rzOLFU1R0RA2L1+zRNxaFMr68PB+rFjl/b2iNg6RBLj8jbG/saGNw6FakrZeo93xy7VmQ2f/NnPyPqRXm37KcY+t7k9unFyPBnPmxaNyYs8RMiKHoj4Ilc/Y5Cy37d968vsz33uZ778O79DCdvJ/NXx3HP8H1/5+ne++72/86t//Vf+0p93XN1Xbtx7/wf58qW/8vO/OKmq/b29Isv6/ZI5MVASXF/fHg16SdK5s+dEIgDkeQ4AFdSErRHMrAcAU/aJKHKMTZtbS8winFkT6mpp7Jg7jwKhqhdMiJlXHrMSEbJkvPfWGGut9z7Pssx7EY4xoohu4SCCMCOCVZgSQQBnrXPOWosIzBxCSCnGGEJoQ9u2TcOcQtse7O+DyH1nzyZm6+wXvvALzvt5VQPS1x//lrMeBLz3g9EAEIuy8BY4toZg0OvlRS+SqWMaDIYhhOUDdMIsSIREgpI4JU6RU0yRjUzq+SMPf+TsvfdJYGRB5oRgfL4/bf7Vb/6Hf/mb/2++sXHs+MnP/PTnjLGxDWWR99cGbQiGjPUuy7OyLNbW13q9nghPJmOli3XdzOe1sFjrQwhNXYOIISJEa4x3noiqas4p5VnmrNUX4q0nPwyiQSQiawyItG0bQkgpWVk+EK4RXGOvorkGZ0UxWHmII8YIy202fH2fF7x+87KuaxEmolP33KNf/cIv/OLLL194/PE/LorsT/70qYNp1c9yRAEy/bXNdvtwf1Dc2L156PDJupm3EeYAkjk1wLqujfNIBo0AC6fUtm2MsSxLveh0OjfGZFn2cz/3c+fPn9dANW8TC7JImRW/+9//x8c++uG/8Ut/5QPn7EMPPXj9+vX++oiAer3e9Rs3rCfnC+tyEZjNZjFE6/14PPbeA4CWx/WRgul0WlVVURSK+4goCCJSVVXbtl007fjkKgWyZBSOmqZhZqvRVUMzAHQxOoSg7THd5Ze4Bst0QVJKGkxw2UmIy+dPVE/OOWNMjHF9fR0AnHPb29sf/ehHv/3tbyOal69cffL8sz/9iY/XUkWG/tr2dHi1GK3N9w/SZJo4J+MjwyDvZ95neQ5kWFAQQwiBW06paRq1FV0wM+h1P/KRj5RlqTeGxgoDAgYwTZQnn3vZDzZGNT766KNPPPV9AUBCApPn+byeOl8wc1mWApIXuXX+4GCPmZWkMHPTNIoeTdN03ISIkrB2SDZN07F2FYvenv7JKU3nldqucw61LYWZ67quqirGiIje+36/XxSFtVZj+kqOJrfopkiMsWka/TDGqErS5mflZLBM8U6cPGGMOXr0aJ7nH/7wh51zSDhr5fEnvmusTSlZ58Vk60dP3fehj00n9Xx3jzAmaYijZX7llYsHBwdqHHr3AJBn2WAwULksMJcWT5aePn362LFj6ruEApKMNWQNIz788Y9HxCzPjh49VpRFVVXTyXQymbRNE0I4OBiLsG6ENU1T11We5zHG6XSqIuo4t1qnCj0twbfbROroadM08/l8Pp9XVVVVVdO0qxv9IkIhBJ1XAT3Pc23M67SkwsWVNu4Yo0JY27YA4L1X39ShlKtpGlVY27YiUhZllmX9fp+I7r333lOnTrUhgiu++kePT2czZ4wAJTCDnaP3P/q5X/rlX33w3AP3njqWuJrvXbv4/HPff/L7l69cVtBc7hWnbrWreY1axvr6+oMPPphiYk4GkiUGaVFi4vSNb36DDDnr1tfXTp8+LSLWWWOt935tbU0ht9/v51nurNPlZFnmvZ/P5957jUAKDFmWddI0ZBQMQgiqni4tULtZDE6d6Nu2raqKQgha7PXeG2M67ekYj8cqSp0XVtJdZnbODQYDfdhz2XZBeZ475zpGrImJ3qt3DgH6/f4HP/hQ2zRI9vkXX3ryBz9w3hljQ+J5m7jonz57/+nTpzfW1x78wJl7Dm8Pi+zmzZvPnj//5Pf/tG4aYSFj8iLP8lxEyrJUY1zmoYvbO3PmDBKmxI88/FOfe+xTKTQIXGTu61/76rVr1wSlKIuTJ07mWaY17JhSXVXGmizLFcrJGgFQTO/1eqPRSL3cWQsAKr6u1tNVDTp4MMYURaGJQiefLmSKiIqIlGOVZal+vfiUSP/03nvvNSB3Kl1N7cbj8Y0bN9q2ret6PB7v7e3NZrPZbNYhkrWWmftFXmZ+NOivDfpGeGM4NCBZmM+q8e/+4R+AKyhJZoGhYsvQ98HY3PbX3frpnXsfvOf0kUHmUzPdu9HvFTbPbF6Q9QtxOKf2aK0FWKBTjPHMmTNZlrVte/K+c3/xC381MTALkL18ff/rT3wfchNTO8qytayY7o8nbTMOTTOvJKTMe0GYzGcJxHqndqlgoA4nAG0MZA2aW/unnFJsg+bPsQ2SOLZBw6yafme4LvPGWTTEIIl5kdw2TVNVlcLcdDptmkZP64zKGJPnylG9GrWuWcmrxqgsy5xz2vimmu9GURRlUeRZBgBXLl9umqbMc++tdfaJ//Xdg+lUBENMSMYnzMX1TF6gd4mGrtfO29m8iokffPAha23Ttk3bxiUcxRhns9nSiZ1ZPAFIJ06c8N4LSJYV9913ZmNjgxfPJcTHv/UtMGStI0OnTt4DLKltY2hBIITWOdfv9RFxPJmoKzRN0zRNjLEoiqIoprOp/qaR1l301QHvan2sA58Qgk7SzaZHAoLtnKLb89MKRAihKIou1HTVITU6haOO/yjQKw8rikLjOzOrGtRwyrIcjUbW2mefe+7EyZOD4XAyraxzL7z44mvXb5y+96SgpMQYI5G1Lqulqds4n0zF2Ch08tTpo8dP1ilZ6wTRkjFiFlIQ0ZtpmqCriDFqyNkfj733m5ubOzs7L7zwgprR17/29Wn1DxxZATq8c6iX+SefOb+1szWPoY3SJhltbK9tboeYmsbYZX1tPp9nWaYzz2Yz51zHMgEgQbTWxhjrul79SpbtHX75mP8bKPuCgKr5K+YoZJdlqdDfNI16RmdxumaN3hrodR91PB4XRaHEQL2ki0LOuSzLh6PRa6+9dv369Z/+7GfX10Zt2wjK3mTy+1/5nxvHT5miXwnODM2NaYu8KfP8+JGzn/pE7+jRcrjx0MOPCFnnM0DNtUWYldoq1OqP/Chh895vbGycOnUKQI4eO7qzs3Pu3Dle/kjKxUuXn3z6WeMzADSIH/vQh37usU+fPXWPd16p/fXr14ui2FjfGPQHxXL0+30R6fV6zrnhcKjL1MsZY9QLe72eskcl4t75LMtGo5FSKT2l08qCuYnIYDDY3Nx0znnvlVSopas1daXQji+pcImoKApEbJpGKxvD4TDLMs0qusjjnFPsKsui3+s9/fTTx44dO3HixKFDh9X3rPf/9fd/v6qqtUNHjtx7+vDp+w7dd9+Rc++/75GPHH/oQXd4+3svvHjuwQ8N1raM8wwQQhtD0zZ1TEkpWQhBVxXj4o0Sh/6gDyJra2vOuQceeECFxczT2ez3/vArCcg574w5srXVd+7U0aPD0UitrW7qbvuzE5lCrkKHooJKTKW0tb2FiJPJRNmKCrBpGwUxpVLaa6xss+P3tLm5qYTde19VVUeE4vJROhXodDrV2lNZlkVRKMorbT106JAaiBISdQINWV35moiKsgwhXLt27UMf+pCz9uz7z87rGgh9lj319PnHv/0EGSdoLVpCY9ACkLHujx7/1s6RYydOvW/etEDW+6zI8zzP1VZCCOrvKhHvM2FWPDTG7GzvAKJzbj6fb29vd+TCe/fVP/pm3bTWekhsRE7sHJqPD7I8y/O8buqNjQ3n3KJPYklwleB1VKUrqOkxnFiFoEtWyXTqURvVJjOdTicxxtjd3V3n3I0bN5qm6fV6ANAVVOu67jJbpUMii+c6OzjrSKpzLoSQZZm1C20r9dTcXSPYk08+9cUv/srW1ta8qn7t137tuRde+NrXvs7CMfKXvvSlBx96aGN9w7AY4BDbg+t73/jGN33mP/rwI/t7+1lRsLAhg0C8LGkpEmrSgshkbF6WWl133h87ftySKbLMe7e1tVmWRQiRiJzz55979uWLF88eO0KGOMXYVqGa11UlIkcOHzn9vtMhxjaJtd47/dUtSCmpOWoC1G2WqFJZBES0ZDKfzzVSrmavdV0rQs5mMwAAARZGQOucSykNBoPRaKSVgy4sa4ibzWZdDNFvlVSpo2VZVte1SlnzLGMss1i72Oex1jZNTWSd9TcPbp4+fSZGRsStze3/+9/+u29961svvfTSU089dfnSpX/xj//x53/2ZyyZeV0ZpH6/f/bsmbW1tfl8PptNjx072rYtCHCQlLQs45f2Ic55EWCQCMIIRAiG1jY3Wk4WQqynFnh9NHz16lWijIyZzcfff+bJs2eON1OOTnYnu7N6Vtc1iHzu8z8DZAUtGpzXTUZijO3YrSzrMV2RRmWl4hYEn2dFr9zd3Z3MpkrJ1GT18VsiSjE2dVMUhQrQatRWq1esJyLlUovSB2Kv19MndTXn7lqUlC9lWWaMmc/nimMxNporquvoD0iKyM6hnSNHjmxvbzdNo7rx3j/22GOf+tSn2rZdX1+fTqcxRk3FdZuoy7pVterC6ltdBULxJ6VkjEEEjFE5IjMPh0NjjPPuyuUrV6++Nhj0L7/6qogwCzB+7Wvf/I1f/fW9m/vThI3vldt2/8XLDz/y0c2t7SDYxghoY4zemc4cVehql7xsW9Ig3N2McsXBYNDRgRDCoipDJMyEVBSFTmKttSrZrvNJpd/tKXrvlXSqfPVWVJkq3+l0OhwOQwjD4XCZo8FqYU7FnWXZ3/u7f0+5bOdneltt22rxI8syFX0Ioa5rWj6iPBgMZrOZ6mw4HKp3G2O0MqG+WFVVv98PzMbEzrhGoxERlmV56eLFEOL29vYPzj8rIpLEm+xPv/f0rOadk6f9aO3Q2XP/5ctfHmxsPfqZz0YGEuQYEGXQ60FszXLotFpfa5pmNpupiLvFwrJGqSZ1cHBQ17USE14+42at1eRAoXJh7ArxWZYpherKOyoRvbx+KMsCtXNud3dXOYYKa5l1gXqcCqIoCqVuGgO7bdIugimb0vRNA76uUJZFc+XXelH1V9Wr4puuvygKNQ51IM1Fer1eluVN07584cK5c+fyvFiWBJDIXbx05elnni+HG+uHTlw9qF7dm/yFn//Lxhcu7wGZoij1J56y5SOrq9U3tUL1sFXYqOtaPUAzhuFwqJlp5zRxuYeq0mBmu6yiIK08j6BaUUqrPt4pX93NGDOZTPr9vpqwCksJiTFW1aun9Pt9PUDl26VvWqRVJ8uybHd3FxF1El2qyrdTiVpAVVWdsrsb7urvxpCxVpGBiHq9XlkWzzzzTJZl93/gA1U116ZDJIgS2qb+6tf/5yc//eh8Xr34/Iubm4eP3vO+mKIhk6FRABFOXZjtLirLmo8akP4Or1YB1Bp0+SqlXq/XeerCBEPUVevBtqsWrKRnbK0dDAadurqwo8oHgOl0aowZjUZdpVpLicYYEWRmVbtSUt0R7Qi7KkZRrixLrSVo3bHri+kq2xppeBl7lKcJs7PW6M8tiYRbv3klZIxOJSKjtbUsy7/3vf/1y7/8K3mef/GLX7y5u3/l1asH4zFzywxf/vLv/Mav//p0Or380oVPPPrJBJZFOElKCRCdMylwiotqa1fW70xW00AAmM1mmh90vLMDYdWT0vqFIrXpeFlPs6u4toSjrCgKZhYB5bu6DaOFcm2SIKK1tTVts0BELeoRabxaMASlT50Ja7VERaxRQYO8MUa3tBSFoj6UJMwgLMIxCEBkJmNCDNZYFhGQFJMs45b3DgCZWZgR0BrrjG1DW2SZd246re65930C+LM/++ce/eRnXn3ttStXXr185eULFy688vKFL/3b/+uRhx/57Kc/PVpb1w2/FJNijSELzkliNWdYPjfYtq3W4TUAKFAvjU+6crT+qYepW+vyDZEAGEIDBgQsLbfZ1NxEBADbNhpjiqLsTF5E9CFaY0xdz3Z2ttWciYyCvjqU5gTWWg0+CgVdT4CWotQotKiSUurSSwQIwgnAkHF5nlJqY7TWFWXJBAmEAaJw11SDS5odm0ah1gAKICFKSpDYIo36g9HWod5wfVK1MQYy5sSJE6fuucfAx4nIGjOdzVSIIUSTAoE4a5b+hAASJXX0RsGgk2aHfuqX6vQaljQSdI86deV9EUnAgBBCVGTGP/nWH2tyoVWdwWBARN7nHf9ZZHrL2oWGfg16q/ClRiHLZOTGjRv9fl9xvyNXmrsqZVSfaJqm2zsUESQCQ52IVcdqH9oA0gHUqknqnymlzDpDpMipgHb+/Hmb+WMnTsiydWzBVGLQe7DWamXNGItInbyWC5eUYue1uNxo7AJAJ5bVnaJOJh2R0+ImL/cMVrsR8XtPfCfP86qq5vP5cDjM80zb/fSIbgq9mEqko7HdDa1OmlKaTqcAsLm5ySu/L6A7G6qJzkPVc7tliEjCRaLflVq1FFyWZXfFbiW48sTEtWvXIKWtzS29VWut1i/rGMgYWIIDaEssQle4VtZorTXGdR6/jHkc46LurTbX8fXOSlYFtboj1i2wSyNW7zwtOw1tZ1mDwSDPc2MMkVEcx2Wlt1utGnjHxnjl90TUTvXPyWSibV6djFTQStpo2SnW1a673RtA1MZIANCv5vO5hi+1uG63TnXTCYuZNzY22qrGJSOczWYqVnUFDZ6dyDry3hk7MyO+rstcb0kX22UtCpu4bEKQZcV3lWFrjNQ4GmNUyXRTqZfAsqBkrbV7e3uj0WjlIOxU2yGd5lwxJWW43fnd7XaqZuayLDVZ63YO3kDd1Pf1vjsPM8YIQOCFbymmdfmHigBXRid9XP6+SWpD07a6Tt04quu6HA46v1m9W1hSGlhu4a7afnegZvU6w2w2U/tTC6Dl7qEuSgWtU4UQptOpZkKqKrWzzvC7e7Dd3gLf2tW8BUHOOhZmZs2Ed7a39/f3O0KmS1EZdFkVL6vEaiyrNiUiIBDTggjrYcxMSCzcti2LmMx1jvWGplVdm0q/CwOw/C05FUGKsZO+c66u6xQTg8hSZItTljfW5Rz6bGx3n51tdaRTixAKqp3+1Bs0e1d1KvefTCZq7LrBIMtmkY6hKjkUEXzqT78XYrTGGGu6ohCA6dbmnHbdoPcOAWOKzKzFPFk8RYWIaIxGP4wh5EVhjUmLwAX6YUzJEBlrU4reeyLTNDUAEBIzC6gxov6WLi5Tns4vVeKd4785BgAACoTQGjI+88ycYmpDS8bgSvakArb6BnH5cwicEseYAAQEjDX6/9ogFFzOr/ip9eTV+NcZBC5zwy7eatjTqkl31iqVEBGr7d5CyAAMgMaACOJCAd5muilWlGVIyTmnxUYFPkQ01iIAEgGRy7K2bYUQSH99RGSJJxEErQGiKCwAxrm2baumsdZmmRV9NAwA4Vbv12rgUQqoVZRVxMOVLleVbxIOKcW6jjFqI03Tth1F7k5slmimagA0hLTasCAiSXfcjOkE11Gybp4uFtKyeVCWeXhnJSLSbVLC6/NZALDC3CtL3WDp1CKCumujodJaK8xdU7z64ypJxWW1hJcbAIQoS4vQPzUqxBhpeeItkoqIyyM7s1o17Q5kVm2/G51wF3xxCc3KC3UhuEx0YBk5O7vuZuj4GCGKusvKA+Jd7BWRrpOKV/oV36Dj7gC9q9UDVg+zul/IzOPxWEN2nudasrfWVlUVQlhbW+smgpXMWSfSqb33BwcHHWSvChEAFCU1AVYixMxdPX1VlPh6Bt0BUTdPd/fdwd3olLQSz27hdXcwLgPm6ukLQ1lebjH5iqnysoCoB6RlqOtccJUUdK6gUAG3G3rM/wafL8EG+L/BTAAAAABJRU5ErkJggg==\n",
                "text/plain": "<PIL.Image.Image image mode=RGB size=128x72 at 0x7F20E8489B50>"
              }
            ],
            "_view_module": "@jupyter-widgets/output",
            "_model_module_version": "1.0.0",
            "_view_count": null,
            "_view_module_version": "1.0.0",
            "layout": "IPY_MODEL_1bfd768fffe64a78824b1feaee9037f2",
            "_model_module": "@jupyter-widgets/output"
          }
        },
        "1bfd768fffe64a78824b1feaee9037f2": {
          "model_module": "@jupyter-widgets/base",
          "model_name": "LayoutModel",
          "model_module_version": "1.2.0",
          "state": {
            "_view_name": "LayoutView",
            "grid_template_rows": null,
            "right": null,
            "justify_content": null,
            "_view_module": "@jupyter-widgets/base",
            "overflow": null,
            "_model_module_version": "1.2.0",
            "_view_count": null,
            "flex_flow": null,
            "width": null,
            "min_width": null,
            "border": null,
            "align_items": null,
            "bottom": null,
            "_model_module": "@jupyter-widgets/base",
            "top": null,
            "grid_column": null,
            "overflow_y": null,
            "overflow_x": null,
            "grid_auto_flow": null,
            "grid_area": null,
            "grid_template_columns": null,
            "flex": null,
            "_model_name": "LayoutModel",
            "justify_items": null,
            "grid_row": null,
            "max_height": null,
            "align_content": null,
            "visibility": null,
            "align_self": null,
            "height": null,
            "min_height": null,
            "padding": null,
            "grid_auto_rows": null,
            "grid_gap": null,
            "max_width": null,
            "order": null,
            "_view_module_version": "1.2.0",
            "grid_template_areas": null,
            "object_position": null,
            "object_fit": null,
            "grid_auto_columns": null,
            "margin": null,
            "display": null,
            "left": null
          }
        },
        "23ca1021752b4969a7b9cd8b77f0d6cc": {
          "model_module": "@jupyter-widgets/controls",
          "model_name": "LabelModel",
          "model_module_version": "1.5.0",
          "state": {
            "_view_name": "LabelView",
            "style": "IPY_MODEL_636ce15873f749e6acf0d8d1d48aee3f",
            "_dom_classes": [],
            "description": "",
            "_model_name": "LabelModel",
            "placeholder": "​",
            "_view_module": "@jupyter-widgets/controls",
            "_model_module_version": "1.5.0",
            "value": "Prediction: Heels; Probability: 0.9998",
            "_view_count": null,
            "_view_module_version": "1.5.0",
            "description_tooltip": null,
            "_model_module": "@jupyter-widgets/controls",
            "layout": "IPY_MODEL_58a2adac08c44d41942776f662f57f36"
          }
        },
        "636ce15873f749e6acf0d8d1d48aee3f": {
          "model_module": "@jupyter-widgets/controls",
          "model_name": "DescriptionStyleModel",
          "model_module_version": "1.5.0",
          "state": {
            "_view_name": "StyleView",
            "_model_name": "DescriptionStyleModel",
            "description_width": "",
            "_view_module": "@jupyter-widgets/base",
            "_model_module_version": "1.5.0",
            "_view_count": null,
            "_view_module_version": "1.2.0",
            "_model_module": "@jupyter-widgets/controls"
          }
        },
        "58a2adac08c44d41942776f662f57f36": {
          "model_module": "@jupyter-widgets/base",
          "model_name": "LayoutModel",
          "model_module_version": "1.2.0",
          "state": {
            "_view_name": "LayoutView",
            "grid_template_rows": null,
            "right": null,
            "justify_content": null,
            "_view_module": "@jupyter-widgets/base",
            "overflow": null,
            "_model_module_version": "1.2.0",
            "_view_count": null,
            "flex_flow": null,
            "width": null,
            "min_width": null,
            "border": null,
            "align_items": null,
            "bottom": null,
            "_model_module": "@jupyter-widgets/base",
            "top": null,
            "grid_column": null,
            "overflow_y": null,
            "overflow_x": null,
            "grid_auto_flow": null,
            "grid_area": null,
            "grid_template_columns": null,
            "flex": null,
            "_model_name": "LayoutModel",
            "justify_items": null,
            "grid_row": null,
            "max_height": null,
            "align_content": null,
            "visibility": null,
            "align_self": null,
            "height": null,
            "min_height": null,
            "padding": null,
            "grid_auto_rows": null,
            "grid_gap": null,
            "max_width": null,
            "order": null,
            "_view_module_version": "1.2.0",
            "grid_template_areas": null,
            "object_position": null,
            "object_fit": null,
            "grid_auto_columns": null,
            "margin": null,
            "display": null,
            "left": null
          }
        },
        "bfba48cf283949bb8879799cc0632d16": {
          "model_module": "@jupyter-widgets/controls",
          "model_name": "ButtonModel",
          "model_module_version": "1.5.0",
          "state": {
            "_view_name": "ButtonView",
            "style": "IPY_MODEL_da3e25f94ada496cb265d2eb088b0e8f",
            "_dom_classes": [],
            "description": "Classify",
            "_model_name": "ButtonModel",
            "button_style": "",
            "_view_module": "@jupyter-widgets/controls",
            "_model_module_version": "1.5.0",
            "tooltip": "",
            "_view_count": null,
            "disabled": false,
            "_view_module_version": "1.5.0",
            "layout": "IPY_MODEL_6814b2ad6c1b4d18901f752cc4a6bb5c",
            "_model_module": "@jupyter-widgets/controls",
            "icon": ""
          }
        },
        "da3e25f94ada496cb265d2eb088b0e8f": {
          "model_module": "@jupyter-widgets/controls",
          "model_name": "ButtonStyleModel",
          "model_module_version": "1.5.0",
          "state": {
            "_view_name": "StyleView",
            "_model_name": "ButtonStyleModel",
            "_view_module": "@jupyter-widgets/base",
            "_model_module_version": "1.5.0",
            "_view_count": null,
            "button_color": null,
            "font_weight": "",
            "_view_module_version": "1.2.0",
            "_model_module": "@jupyter-widgets/controls"
          }
        },
        "6814b2ad6c1b4d18901f752cc4a6bb5c": {
          "model_module": "@jupyter-widgets/base",
          "model_name": "LayoutModel",
          "model_module_version": "1.2.0",
          "state": {
            "_view_name": "LayoutView",
            "grid_template_rows": null,
            "right": null,
            "justify_content": null,
            "_view_module": "@jupyter-widgets/base",
            "overflow": null,
            "_model_module_version": "1.2.0",
            "_view_count": null,
            "flex_flow": null,
            "width": null,
            "min_width": null,
            "border": null,
            "align_items": null,
            "bottom": null,
            "_model_module": "@jupyter-widgets/base",
            "top": null,
            "grid_column": null,
            "overflow_y": null,
            "overflow_x": null,
            "grid_auto_flow": null,
            "grid_area": null,
            "grid_template_columns": null,
            "flex": null,
            "_model_name": "LayoutModel",
            "justify_items": null,
            "grid_row": null,
            "max_height": null,
            "align_content": null,
            "visibility": null,
            "align_self": null,
            "height": null,
            "min_height": null,
            "padding": null,
            "grid_auto_rows": null,
            "grid_gap": null,
            "max_width": null,
            "order": null,
            "_view_module_version": "1.2.0",
            "grid_template_areas": null,
            "object_position": null,
            "object_fit": null,
            "grid_auto_columns": null,
            "margin": null,
            "display": null,
            "left": null
          }
        },
        "ea888210bb344ba0b3acb2b3fde485f1": {
          "model_module": "@jupyter-widgets/controls",
          "model_name": "VBoxModel",
          "model_module_version": "1.5.0",
          "state": {
            "_view_name": "VBoxView",
            "_dom_classes": [],
            "_model_name": "VBoxModel",
            "_view_module": "@jupyter-widgets/controls",
            "_model_module_version": "1.5.0",
            "_view_count": null,
            "_view_module_version": "1.5.0",
            "box_style": "",
            "layout": "IPY_MODEL_c676369a86844cd992a129401778a1fe",
            "_model_module": "@jupyter-widgets/controls",
            "children": [
              "IPY_MODEL_f489d42138e24003bb1424c589a92a9f",
              "IPY_MODEL_4e86996950d74d8c8ba05e94d94d2082",
              "IPY_MODEL_bfba48cf283949bb8879799cc0632d16",
              "IPY_MODEL_71b04491554b4fd885784257eedc5d9f",
              "IPY_MODEL_23ca1021752b4969a7b9cd8b77f0d6cc"
            ]
          }
        },
        "c676369a86844cd992a129401778a1fe": {
          "model_module": "@jupyter-widgets/base",
          "model_name": "LayoutModel",
          "model_module_version": "1.2.0",
          "state": {
            "_view_name": "LayoutView",
            "grid_template_rows": null,
            "right": null,
            "justify_content": null,
            "_view_module": "@jupyter-widgets/base",
            "overflow": null,
            "_model_module_version": "1.2.0",
            "_view_count": null,
            "flex_flow": null,
            "width": null,
            "min_width": null,
            "border": null,
            "align_items": null,
            "bottom": null,
            "_model_module": "@jupyter-widgets/base",
            "top": null,
            "grid_column": null,
            "overflow_y": null,
            "overflow_x": null,
            "grid_auto_flow": null,
            "grid_area": null,
            "grid_template_columns": null,
            "flex": null,
            "_model_name": "LayoutModel",
            "justify_items": null,
            "grid_row": null,
            "max_height": null,
            "align_content": null,
            "visibility": null,
            "align_self": null,
            "height": null,
            "min_height": null,
            "padding": null,
            "grid_auto_rows": null,
            "grid_gap": null,
            "max_width": null,
            "order": null,
            "_view_module_version": "1.2.0",
            "grid_template_areas": null,
            "object_position": null,
            "object_fit": null,
            "grid_auto_columns": null,
            "margin": null,
            "display": null,
            "left": null
          }
        },
        "f489d42138e24003bb1424c589a92a9f": {
          "model_module": "@jupyter-widgets/controls",
          "model_name": "LabelModel",
          "model_module_version": "1.5.0",
          "state": {
            "_view_name": "LabelView",
            "style": "IPY_MODEL_cfe2acaa21cf44ce977cd431da85b7ac",
            "_dom_classes": [],
            "description": "",
            "_model_name": "LabelModel",
            "placeholder": "​",
            "_view_module": "@jupyter-widgets/controls",
            "_model_module_version": "1.5.0",
            "value": "Select your shoe!",
            "_view_count": null,
            "_view_module_version": "1.5.0",
            "description_tooltip": null,
            "_model_module": "@jupyter-widgets/controls",
            "layout": "IPY_MODEL_c2bebdb6f59740ef80c2fab4fc78c8e4"
          }
        },
        "4e86996950d74d8c8ba05e94d94d2082": {
          "model_module": "@jupyter-widgets/controls",
          "model_name": "FileUploadModel",
          "model_module_version": "1.5.0",
          "state": {
            "_view_name": "FileUploadView",
            "_counter": 1,
            "style": "IPY_MODEL_9e82b96add3a4147bfece41064613cf1",
            "_dom_classes": [],
            "description": "Upload",
            "multiple": false,
            "_model_name": "FileUploadModel",
            "data": [
              null
            ],
            "button_style": "",
            "_view_module": "@jupyter-widgets/controls",
            "_model_module_version": "1.5.0",
            "accept": "",
            "_view_count": null,
            "disabled": false,
            "_view_module_version": "1.5.0",
            "error": "",
            "description_tooltip": null,
            "metadata": [
              {
                "name": "heels.jpeg",
                "type": "image/jpeg",
                "size": 5228,
                "lastModified": 1628799845235
              }
            ],
            "_model_module": "@jupyter-widgets/controls",
            "layout": "IPY_MODEL_040fbc0b27cf46b8b33156fb26b2644f",
            "icon": "upload"
          }
        },
        "cfe2acaa21cf44ce977cd431da85b7ac": {
          "model_module": "@jupyter-widgets/controls",
          "model_name": "DescriptionStyleModel",
          "model_module_version": "1.5.0",
          "state": {
            "_view_name": "StyleView",
            "_model_name": "DescriptionStyleModel",
            "description_width": "",
            "_view_module": "@jupyter-widgets/base",
            "_model_module_version": "1.5.0",
            "_view_count": null,
            "_view_module_version": "1.2.0",
            "_model_module": "@jupyter-widgets/controls"
          }
        },
        "c2bebdb6f59740ef80c2fab4fc78c8e4": {
          "model_module": "@jupyter-widgets/base",
          "model_name": "LayoutModel",
          "model_module_version": "1.2.0",
          "state": {
            "_view_name": "LayoutView",
            "grid_template_rows": null,
            "right": null,
            "justify_content": null,
            "_view_module": "@jupyter-widgets/base",
            "overflow": null,
            "_model_module_version": "1.2.0",
            "_view_count": null,
            "flex_flow": null,
            "width": null,
            "min_width": null,
            "border": null,
            "align_items": null,
            "bottom": null,
            "_model_module": "@jupyter-widgets/base",
            "top": null,
            "grid_column": null,
            "overflow_y": null,
            "overflow_x": null,
            "grid_auto_flow": null,
            "grid_area": null,
            "grid_template_columns": null,
            "flex": null,
            "_model_name": "LayoutModel",
            "justify_items": null,
            "grid_row": null,
            "max_height": null,
            "align_content": null,
            "visibility": null,
            "align_self": null,
            "height": null,
            "min_height": null,
            "padding": null,
            "grid_auto_rows": null,
            "grid_gap": null,
            "max_width": null,
            "order": null,
            "_view_module_version": "1.2.0",
            "grid_template_areas": null,
            "object_position": null,
            "object_fit": null,
            "grid_auto_columns": null,
            "margin": null,
            "display": null,
            "left": null
          }
        },
        "9e82b96add3a4147bfece41064613cf1": {
          "model_module": "@jupyter-widgets/controls",
          "model_name": "ButtonStyleModel",
          "model_module_version": "1.5.0",
          "state": {
            "_view_name": "StyleView",
            "_model_name": "ButtonStyleModel",
            "_view_module": "@jupyter-widgets/base",
            "_model_module_version": "1.5.0",
            "_view_count": null,
            "button_color": null,
            "font_weight": "",
            "_view_module_version": "1.2.0",
            "_model_module": "@jupyter-widgets/controls"
          }
        },
        "040fbc0b27cf46b8b33156fb26b2644f": {
          "model_module": "@jupyter-widgets/base",
          "model_name": "LayoutModel",
          "model_module_version": "1.2.0",
          "state": {
            "_view_name": "LayoutView",
            "grid_template_rows": null,
            "right": null,
            "justify_content": null,
            "_view_module": "@jupyter-widgets/base",
            "overflow": null,
            "_model_module_version": "1.2.0",
            "_view_count": null,
            "flex_flow": null,
            "width": null,
            "min_width": null,
            "border": null,
            "align_items": null,
            "bottom": null,
            "_model_module": "@jupyter-widgets/base",
            "top": null,
            "grid_column": null,
            "overflow_y": null,
            "overflow_x": null,
            "grid_auto_flow": null,
            "grid_area": null,
            "grid_template_columns": null,
            "flex": null,
            "_model_name": "LayoutModel",
            "justify_items": null,
            "grid_row": null,
            "max_height": null,
            "align_content": null,
            "visibility": null,
            "align_self": null,
            "height": null,
            "min_height": null,
            "padding": null,
            "grid_auto_rows": null,
            "grid_gap": null,
            "max_width": null,
            "order": null,
            "_view_module_version": "1.2.0",
            "grid_template_areas": null,
            "object_position": null,
            "object_fit": null,
            "grid_auto_columns": null,
            "margin": null,
            "display": null,
            "left": null
          }
        }
      }
    }
  },
  "cells": [
    {
      "cell_type": "markdown",
      "metadata": {
        "id": "view-in-github",
        "colab_type": "text"
      },
      "source": [
        "<a href=\"https://colab.research.google.com/github/thepaulapowers/footwear/blob/main/Footwear_week_02_from_model_to_production1.ipynb\" target=\"_parent\"><img src=\"https://colab.research.google.com/assets/colab-badge.svg\" alt=\"Open In Colab\"/></a>"
      ]
    },
    {
      "cell_type": "markdown",
      "metadata": {
        "id": "7j04QL-TPJy1"
      },
      "source": [
        "# 💻Week 2 Practice Notebook of unpackAI \"DL101 Bootcamp\"\n"
      ]
    },
    {
      "cell_type": "markdown",
      "metadata": {
        "id": "f0joGgV0POOt"
      },
      "source": [
        "## 📕 Learning Objectives\n",
        "\n",
        "* Understand the fundamental process of building your own image classification project."
      ]
    },
    {
      "cell_type": "code",
      "metadata": {
        "id": "s6_sf8o7wIRx"
      },
      "source": [
        "!pip install -Uqq fastbook\n",
        "\n",
        "# import libraries\n",
        "import fastbook"
      ],
      "execution_count": 23,
      "outputs": []
    },
    {
      "cell_type": "code",
      "metadata": {
        "id": "azcl-ikfOQJR"
      },
      "source": [
        "from fastbook import *\n",
        "from fastai.vision.widgets import *\n",
        "import random"
      ],
      "execution_count": 24,
      "outputs": []
    },
    {
      "cell_type": "code",
      "metadata": {
        "id": "STAWUL28wtR1"
      },
      "source": [
        "# fastbook.setup_book()"
      ],
      "execution_count": 26,
      "outputs": []
    },
    {
      "cell_type": "code",
      "metadata": {
        "id": "Mo6zF07uv0bm"
      },
      "source": [
        "from google.colab import drive"
      ],
      "execution_count": 27,
      "outputs": []
    },
    {
      "cell_type": "code",
      "metadata": {
        "id": "ynOZVJ0HfD2Q"
      },
      "source": [
        "# Import all of the fastai.vision library.\n",
        "# This gives us all of the functions and classes we will need to create a wide variety of computer vision models \n",
        "from fastai.vision.all import *"
      ],
      "execution_count": 28,
      "outputs": []
    },
    {
      "cell_type": "code",
      "metadata": {
        "colab": {
          "base_uri": "https://localhost:8080/"
        },
        "id": "OCNpq0IxxDjb",
        "outputId": "3bff44f5-26da-4b1e-ca7a-cf441d934fce"
      },
      "source": [
        "drive.mount(\"/content/gdrive\", force_remount=True)"
      ],
      "execution_count": 29,
      "outputs": [
        {
          "output_type": "stream",
          "text": [
            "Mounted at /content/gdrive\n"
          ],
          "name": "stdout"
        }
      ]
    },
    {
      "cell_type": "code",
      "metadata": {
        "colab": {
          "base_uri": "https://localhost:8080/"
        },
        "id": "01UmEBALxHRq",
        "outputId": "f8324ab1-dfd1-4e92-d5f1-31a096880db9"
      },
      "source": [
        "cd /content/"
      ],
      "execution_count": 32,
      "outputs": [
        {
          "output_type": "stream",
          "text": [
            "/content\n"
          ],
          "name": "stdout"
        }
      ]
    },
    {
      "cell_type": "code",
      "metadata": {
        "colab": {
          "base_uri": "https://localhost:8080/",
          "height": 35
        },
        "id": "ItH6WvNZxkfL",
        "outputId": "d441eba6-8667-43ab-a608-09b312ea033f"
      },
      "source": [
        "pwd"
      ],
      "execution_count": 38,
      "outputs": [
        {
          "output_type": "execute_result",
          "data": {
            "application/vnd.google.colaboratory.intrinsic+json": {
              "type": "string"
            },
            "text/plain": [
              "'/content/Fashion'"
            ]
          },
          "metadata": {
            "tags": []
          },
          "execution_count": 38
        }
      ]
    },
    {
      "cell_type": "markdown",
      "metadata": {
        "id": "U5QZmieCYbZ2"
      },
      "source": [
        "### Step Two: Collect and design your dataset"
      ]
    },
    {
      "cell_type": "markdown",
      "metadata": {
        "id": "Nqbxbj-EuAB9"
      },
      "source": [
        "##### Install"
      ]
    },
    {
      "cell_type": "code",
      "metadata": {
        "id": "EYwHbopFG63A"
      },
      "source": [
        "!pip install -q jmd_imagescraper"
      ],
      "execution_count": null,
      "outputs": []
    },
    {
      "cell_type": "markdown",
      "metadata": {
        "id": "1zDjCg2IuDw2"
      },
      "source": [
        "##### Download images\n",
        "\n",
        "When downloading the images please make sure to check your search terms ahead of running the script below. Go and search for yourself to define the best search terms.\n",
        "\n",
        "\n",
        "\n",
        "```\n",
        "# number_images_to_download = DECIDE HOW MANY IMAGES YOU WANT TO DOWNLOAD PER CLASS.\n",
        "\n",
        "# duckduckgo_search(path, \"THIS IS YOUR LABEL\", \"THIS IS YOUR DuckDuckGo SEARCH TERM\", max_results=DO NOT CHANGE)\n",
        "```\n",
        "\n"
      ]
    },
    {
      "cell_type": "code",
      "metadata": {
        "id": "6D-wwghD_CMT",
        "colab": {
          "base_uri": "https://localhost:8080/",
          "height": 525
        },
        "outputId": "061d4fa1-7fbe-4d48-e89e-da35405b7646"
      },
      "source": [
        "from pathlib import Path\n",
        "from jmd_imagescraper.core import *    # dont't worry, it's designed to work with import *\n",
        "\n",
        "path = Path().cwd()/\"images\"\n",
        "number_images_to_download = 60         # this can go up to 477 at the time of writing\n",
        "\n",
        "duckduckgo_search(path, \"Heels\", \"Heels\", max_results=number_images_to_download)\n",
        "duckduckgo_search(path, \"Flats\", \"Flats\", max_results=number_images_to_download)\n",
        "duckduckgo_search(path, \"Trainers\", \"Trainers\", max_results=number_images_to_download)\n",
        "duckduckgo_search(path, \"Boots\", \"Boots\", max_results=number_images_to_download)"
      ],
      "execution_count": 41,
      "outputs": [
        {
          "output_type": "stream",
          "text": [
            "Duckduckgo search: Heels\n",
            "Downloading results into /content/Fashion/images/Heels\n"
          ],
          "name": "stdout"
        },
        {
          "output_type": "display_data",
          "data": {
            "text/html": [
              "\n",
              "    <div>\n",
              "        <style>\n",
              "            /* Turns off some styling */\n",
              "            progress {\n",
              "                /* gets rid of default border in Firefox and Opera. */\n",
              "                border: none;\n",
              "                /* Needs to be in here for Safari polyfill so background images work as expected. */\n",
              "                background-size: auto;\n",
              "            }\n",
              "            .progress-bar-interrupted, .progress-bar-interrupted::-webkit-progress-bar {\n",
              "                background: #F44336;\n",
              "            }\n",
              "        </style>\n",
              "      <progress value='60' class='' max='60' style='width:300px; height:20px; vertical-align: middle;'></progress>\n",
              "      100.00% [60/60 00:03<00:00 Images downloaded]\n",
              "    </div>\n",
              "    "
            ],
            "text/plain": [
              "<IPython.core.display.HTML object>"
            ]
          },
          "metadata": {
            "tags": []
          }
        },
        {
          "output_type": "stream",
          "text": [
            "Duckduckgo search: Flats\n",
            "Downloading results into /content/Fashion/images/Flats\n"
          ],
          "name": "stdout"
        },
        {
          "output_type": "display_data",
          "data": {
            "text/html": [
              "\n",
              "    <div>\n",
              "        <style>\n",
              "            /* Turns off some styling */\n",
              "            progress {\n",
              "                /* gets rid of default border in Firefox and Opera. */\n",
              "                border: none;\n",
              "                /* Needs to be in here for Safari polyfill so background images work as expected. */\n",
              "                background-size: auto;\n",
              "            }\n",
              "            .progress-bar-interrupted, .progress-bar-interrupted::-webkit-progress-bar {\n",
              "                background: #F44336;\n",
              "            }\n",
              "        </style>\n",
              "      <progress value='60' class='' max='60' style='width:300px; height:20px; vertical-align: middle;'></progress>\n",
              "      100.00% [60/60 00:03<00:00 Images downloaded]\n",
              "    </div>\n",
              "    "
            ],
            "text/plain": [
              "<IPython.core.display.HTML object>"
            ]
          },
          "metadata": {
            "tags": []
          }
        },
        {
          "output_type": "stream",
          "text": [
            "Duckduckgo search: Trainers\n",
            "Downloading results into /content/Fashion/images/Trainers\n"
          ],
          "name": "stdout"
        },
        {
          "output_type": "display_data",
          "data": {
            "text/html": [
              "\n",
              "    <div>\n",
              "        <style>\n",
              "            /* Turns off some styling */\n",
              "            progress {\n",
              "                /* gets rid of default border in Firefox and Opera. */\n",
              "                border: none;\n",
              "                /* Needs to be in here for Safari polyfill so background images work as expected. */\n",
              "                background-size: auto;\n",
              "            }\n",
              "            .progress-bar-interrupted, .progress-bar-interrupted::-webkit-progress-bar {\n",
              "                background: #F44336;\n",
              "            }\n",
              "        </style>\n",
              "      <progress value='37' class='' max='60' style='width:300px; height:20px; vertical-align: middle;'></progress>\n",
              "      61.67% [37/60 00:02<00:01 Images downloaded]\n",
              "    </div>\n",
              "    "
            ],
            "text/plain": [
              "<IPython.core.display.HTML object>"
            ]
          },
          "metadata": {
            "tags": []
          }
        },
        {
          "output_type": "error",
          "ename": "KeyboardInterrupt",
          "evalue": "ignored",
          "traceback": [
            "\u001b[0;31m---------------------------------------------------------------------------\u001b[0m",
            "\u001b[0;31mKeyboardInterrupt\u001b[0m                         Traceback (most recent call last)",
            "\u001b[0;32m<ipython-input-41-50111beb6c6a>\u001b[0m in \u001b[0;36m<module>\u001b[0;34m()\u001b[0m\n\u001b[1;32m      7\u001b[0m \u001b[0mduckduckgo_search\u001b[0m\u001b[0;34m(\u001b[0m\u001b[0mpath\u001b[0m\u001b[0;34m,\u001b[0m \u001b[0;34m\"Heels\"\u001b[0m\u001b[0;34m,\u001b[0m \u001b[0;34m\"Heels\"\u001b[0m\u001b[0;34m,\u001b[0m \u001b[0mmax_results\u001b[0m\u001b[0;34m=\u001b[0m\u001b[0mnumber_images_to_download\u001b[0m\u001b[0;34m)\u001b[0m\u001b[0;34m\u001b[0m\u001b[0;34m\u001b[0m\u001b[0m\n\u001b[1;32m      8\u001b[0m \u001b[0mduckduckgo_search\u001b[0m\u001b[0;34m(\u001b[0m\u001b[0mpath\u001b[0m\u001b[0;34m,\u001b[0m \u001b[0;34m\"Flats\"\u001b[0m\u001b[0;34m,\u001b[0m \u001b[0;34m\"Flats\"\u001b[0m\u001b[0;34m,\u001b[0m \u001b[0mmax_results\u001b[0m\u001b[0;34m=\u001b[0m\u001b[0mnumber_images_to_download\u001b[0m\u001b[0;34m)\u001b[0m\u001b[0;34m\u001b[0m\u001b[0;34m\u001b[0m\u001b[0m\n\u001b[0;32m----> 9\u001b[0;31m \u001b[0mduckduckgo_search\u001b[0m\u001b[0;34m(\u001b[0m\u001b[0mpath\u001b[0m\u001b[0;34m,\u001b[0m \u001b[0;34m\"Trainers\"\u001b[0m\u001b[0;34m,\u001b[0m \u001b[0;34m\"Trainers\"\u001b[0m\u001b[0;34m,\u001b[0m \u001b[0mmax_results\u001b[0m\u001b[0;34m=\u001b[0m\u001b[0mnumber_images_to_download\u001b[0m\u001b[0;34m)\u001b[0m\u001b[0;34m\u001b[0m\u001b[0;34m\u001b[0m\u001b[0m\n\u001b[0m\u001b[1;32m     10\u001b[0m \u001b[0mduckduckgo_search\u001b[0m\u001b[0;34m(\u001b[0m\u001b[0mpath\u001b[0m\u001b[0;34m,\u001b[0m \u001b[0;34m\"Boots\"\u001b[0m\u001b[0;34m,\u001b[0m \u001b[0;34m\"Boots\"\u001b[0m\u001b[0;34m,\u001b[0m \u001b[0mmax_results\u001b[0m\u001b[0;34m=\u001b[0m\u001b[0mnumber_images_to_download\u001b[0m\u001b[0;34m)\u001b[0m\u001b[0;34m\u001b[0m\u001b[0;34m\u001b[0m\u001b[0m\n",
            "\u001b[0;32m/usr/local/lib/python3.7/dist-packages/jmd_imagescraper/core.py\u001b[0m in \u001b[0;36mduckduckgo_search\u001b[0;34m(path, label, keywords, max_results, img_size, img_type, img_layout, img_color, uuid_names)\u001b[0m\n\u001b[1;32m    210\u001b[0m   \u001b[0mprint\u001b[0m\u001b[0;34m(\u001b[0m\u001b[0;34m\"Duckduckgo search:\"\u001b[0m\u001b[0;34m,\u001b[0m \u001b[0mkeywords\u001b[0m\u001b[0;34m)\u001b[0m\u001b[0;34m\u001b[0m\u001b[0;34m\u001b[0m\u001b[0m\n\u001b[1;32m    211\u001b[0m   \u001b[0mlinks\u001b[0m \u001b[0;34m=\u001b[0m \u001b[0mduckduckgo_scrape_urls\u001b[0m\u001b[0;34m(\u001b[0m\u001b[0mkeywords\u001b[0m\u001b[0;34m,\u001b[0m \u001b[0mmax_results\u001b[0m\u001b[0;34m,\u001b[0m \u001b[0mimg_size\u001b[0m\u001b[0;34m,\u001b[0m \u001b[0mimg_type\u001b[0m\u001b[0;34m,\u001b[0m \u001b[0mimg_layout\u001b[0m\u001b[0;34m,\u001b[0m \u001b[0mimg_color\u001b[0m\u001b[0;34m)\u001b[0m\u001b[0;34m\u001b[0m\u001b[0;34m\u001b[0m\u001b[0m\n\u001b[0;32m--> 212\u001b[0;31m   \u001b[0;32mreturn\u001b[0m \u001b[0mdownload_urls\u001b[0m\u001b[0;34m(\u001b[0m\u001b[0mPath\u001b[0m\u001b[0;34m(\u001b[0m\u001b[0mpath\u001b[0m\u001b[0;34m)\u001b[0m\u001b[0;34m/\u001b[0m\u001b[0mlabel\u001b[0m\u001b[0;34m,\u001b[0m \u001b[0mlinks\u001b[0m\u001b[0;34m,\u001b[0m \u001b[0muuid_names\u001b[0m\u001b[0;34m=\u001b[0m\u001b[0muuid_names\u001b[0m\u001b[0;34m)\u001b[0m\u001b[0;34m\u001b[0m\u001b[0;34m\u001b[0m\u001b[0m\n\u001b[0m\u001b[1;32m    213\u001b[0m \u001b[0;34m\u001b[0m\u001b[0m\n\u001b[1;32m    214\u001b[0m \u001b[0;31m# Cell\u001b[0m\u001b[0;34m\u001b[0m\u001b[0;34m\u001b[0m\u001b[0;34m\u001b[0m\u001b[0m\n",
            "\u001b[0;32m/usr/local/lib/python3.7/dist-packages/jmd_imagescraper/core.py\u001b[0m in \u001b[0;36mdownload_urls\u001b[0;34m(path, links, uuid_names)\u001b[0m\n\u001b[1;32m    178\u001b[0m   \u001b[0;32mfor\u001b[0m \u001b[0mlink\u001b[0m \u001b[0;32min\u001b[0m \u001b[0mpbar\u001b[0m\u001b[0;34m:\u001b[0m\u001b[0;34m\u001b[0m\u001b[0;34m\u001b[0m\u001b[0m\n\u001b[1;32m    179\u001b[0m       \u001b[0;32mtry\u001b[0m\u001b[0;34m:\u001b[0m\u001b[0;34m\u001b[0m\u001b[0;34m\u001b[0m\u001b[0m\n\u001b[0;32m--> 180\u001b[0;31m         \u001b[0mresp\u001b[0m \u001b[0;34m=\u001b[0m \u001b[0mrequests\u001b[0m\u001b[0;34m.\u001b[0m\u001b[0mget\u001b[0m\u001b[0;34m(\u001b[0m\u001b[0mlink\u001b[0m\u001b[0;34m)\u001b[0m\u001b[0;34m\u001b[0m\u001b[0;34m\u001b[0m\u001b[0m\n\u001b[0m\u001b[1;32m    181\u001b[0m         \u001b[0mfp\u001b[0m \u001b[0;34m=\u001b[0m \u001b[0mmk_fp\u001b[0m\u001b[0;34m(\u001b[0m\u001b[0mi\u001b[0m\u001b[0;34m)\u001b[0m\u001b[0;34m\u001b[0m\u001b[0;34m\u001b[0m\u001b[0m\n\u001b[1;32m    182\u001b[0m         \u001b[0mfp\u001b[0m\u001b[0;34m.\u001b[0m\u001b[0mwrite_bytes\u001b[0m\u001b[0;34m(\u001b[0m\u001b[0mresp\u001b[0m\u001b[0;34m.\u001b[0m\u001b[0mcontent\u001b[0m\u001b[0;34m)\u001b[0m\u001b[0;34m\u001b[0m\u001b[0;34m\u001b[0m\u001b[0m\n",
            "\u001b[0;32m/usr/local/lib/python3.7/dist-packages/requests/api.py\u001b[0m in \u001b[0;36mget\u001b[0;34m(url, params, **kwargs)\u001b[0m\n\u001b[1;32m     74\u001b[0m \u001b[0;34m\u001b[0m\u001b[0m\n\u001b[1;32m     75\u001b[0m     \u001b[0mkwargs\u001b[0m\u001b[0;34m.\u001b[0m\u001b[0msetdefault\u001b[0m\u001b[0;34m(\u001b[0m\u001b[0;34m'allow_redirects'\u001b[0m\u001b[0;34m,\u001b[0m \u001b[0;32mTrue\u001b[0m\u001b[0;34m)\u001b[0m\u001b[0;34m\u001b[0m\u001b[0;34m\u001b[0m\u001b[0m\n\u001b[0;32m---> 76\u001b[0;31m     \u001b[0;32mreturn\u001b[0m \u001b[0mrequest\u001b[0m\u001b[0;34m(\u001b[0m\u001b[0;34m'get'\u001b[0m\u001b[0;34m,\u001b[0m \u001b[0murl\u001b[0m\u001b[0;34m,\u001b[0m \u001b[0mparams\u001b[0m\u001b[0;34m=\u001b[0m\u001b[0mparams\u001b[0m\u001b[0;34m,\u001b[0m \u001b[0;34m**\u001b[0m\u001b[0mkwargs\u001b[0m\u001b[0;34m)\u001b[0m\u001b[0;34m\u001b[0m\u001b[0;34m\u001b[0m\u001b[0m\n\u001b[0m\u001b[1;32m     77\u001b[0m \u001b[0;34m\u001b[0m\u001b[0m\n\u001b[1;32m     78\u001b[0m \u001b[0;34m\u001b[0m\u001b[0m\n",
            "\u001b[0;32m/usr/local/lib/python3.7/dist-packages/requests/api.py\u001b[0m in \u001b[0;36mrequest\u001b[0;34m(method, url, **kwargs)\u001b[0m\n\u001b[1;32m     59\u001b[0m     \u001b[0;31m# cases, and look like a memory leak in others.\u001b[0m\u001b[0;34m\u001b[0m\u001b[0;34m\u001b[0m\u001b[0;34m\u001b[0m\u001b[0m\n\u001b[1;32m     60\u001b[0m     \u001b[0;32mwith\u001b[0m \u001b[0msessions\u001b[0m\u001b[0;34m.\u001b[0m\u001b[0mSession\u001b[0m\u001b[0;34m(\u001b[0m\u001b[0;34m)\u001b[0m \u001b[0;32mas\u001b[0m \u001b[0msession\u001b[0m\u001b[0;34m:\u001b[0m\u001b[0;34m\u001b[0m\u001b[0;34m\u001b[0m\u001b[0m\n\u001b[0;32m---> 61\u001b[0;31m         \u001b[0;32mreturn\u001b[0m \u001b[0msession\u001b[0m\u001b[0;34m.\u001b[0m\u001b[0mrequest\u001b[0m\u001b[0;34m(\u001b[0m\u001b[0mmethod\u001b[0m\u001b[0;34m=\u001b[0m\u001b[0mmethod\u001b[0m\u001b[0;34m,\u001b[0m \u001b[0murl\u001b[0m\u001b[0;34m=\u001b[0m\u001b[0murl\u001b[0m\u001b[0;34m,\u001b[0m \u001b[0;34m**\u001b[0m\u001b[0mkwargs\u001b[0m\u001b[0;34m)\u001b[0m\u001b[0;34m\u001b[0m\u001b[0;34m\u001b[0m\u001b[0m\n\u001b[0m\u001b[1;32m     62\u001b[0m \u001b[0;34m\u001b[0m\u001b[0m\n\u001b[1;32m     63\u001b[0m \u001b[0;34m\u001b[0m\u001b[0m\n",
            "\u001b[0;32m/usr/local/lib/python3.7/dist-packages/requests/sessions.py\u001b[0m in \u001b[0;36mrequest\u001b[0;34m(self, method, url, params, data, headers, cookies, files, auth, timeout, allow_redirects, proxies, hooks, stream, verify, cert, json)\u001b[0m\n\u001b[1;32m    528\u001b[0m         }\n\u001b[1;32m    529\u001b[0m         \u001b[0msend_kwargs\u001b[0m\u001b[0;34m.\u001b[0m\u001b[0mupdate\u001b[0m\u001b[0;34m(\u001b[0m\u001b[0msettings\u001b[0m\u001b[0;34m)\u001b[0m\u001b[0;34m\u001b[0m\u001b[0;34m\u001b[0m\u001b[0m\n\u001b[0;32m--> 530\u001b[0;31m         \u001b[0mresp\u001b[0m \u001b[0;34m=\u001b[0m \u001b[0mself\u001b[0m\u001b[0;34m.\u001b[0m\u001b[0msend\u001b[0m\u001b[0;34m(\u001b[0m\u001b[0mprep\u001b[0m\u001b[0;34m,\u001b[0m \u001b[0;34m**\u001b[0m\u001b[0msend_kwargs\u001b[0m\u001b[0;34m)\u001b[0m\u001b[0;34m\u001b[0m\u001b[0;34m\u001b[0m\u001b[0m\n\u001b[0m\u001b[1;32m    531\u001b[0m \u001b[0;34m\u001b[0m\u001b[0m\n\u001b[1;32m    532\u001b[0m         \u001b[0;32mreturn\u001b[0m \u001b[0mresp\u001b[0m\u001b[0;34m\u001b[0m\u001b[0;34m\u001b[0m\u001b[0m\n",
            "\u001b[0;32m/usr/local/lib/python3.7/dist-packages/requests/sessions.py\u001b[0m in \u001b[0;36msend\u001b[0;34m(self, request, **kwargs)\u001b[0m\n\u001b[1;32m    641\u001b[0m \u001b[0;34m\u001b[0m\u001b[0m\n\u001b[1;32m    642\u001b[0m         \u001b[0;31m# Send the request\u001b[0m\u001b[0;34m\u001b[0m\u001b[0;34m\u001b[0m\u001b[0;34m\u001b[0m\u001b[0m\n\u001b[0;32m--> 643\u001b[0;31m         \u001b[0mr\u001b[0m \u001b[0;34m=\u001b[0m \u001b[0madapter\u001b[0m\u001b[0;34m.\u001b[0m\u001b[0msend\u001b[0m\u001b[0;34m(\u001b[0m\u001b[0mrequest\u001b[0m\u001b[0;34m,\u001b[0m \u001b[0;34m**\u001b[0m\u001b[0mkwargs\u001b[0m\u001b[0;34m)\u001b[0m\u001b[0;34m\u001b[0m\u001b[0;34m\u001b[0m\u001b[0m\n\u001b[0m\u001b[1;32m    644\u001b[0m \u001b[0;34m\u001b[0m\u001b[0m\n\u001b[1;32m    645\u001b[0m         \u001b[0;31m# Total elapsed time of the request (approximately)\u001b[0m\u001b[0;34m\u001b[0m\u001b[0;34m\u001b[0m\u001b[0;34m\u001b[0m\u001b[0m\n",
            "\u001b[0;32m/usr/local/lib/python3.7/dist-packages/requests/adapters.py\u001b[0m in \u001b[0;36msend\u001b[0;34m(self, request, stream, timeout, verify, cert, proxies)\u001b[0m\n\u001b[1;32m    447\u001b[0m                     \u001b[0mdecode_content\u001b[0m\u001b[0;34m=\u001b[0m\u001b[0;32mFalse\u001b[0m\u001b[0;34m,\u001b[0m\u001b[0;34m\u001b[0m\u001b[0;34m\u001b[0m\u001b[0m\n\u001b[1;32m    448\u001b[0m                     \u001b[0mretries\u001b[0m\u001b[0;34m=\u001b[0m\u001b[0mself\u001b[0m\u001b[0;34m.\u001b[0m\u001b[0mmax_retries\u001b[0m\u001b[0;34m,\u001b[0m\u001b[0;34m\u001b[0m\u001b[0;34m\u001b[0m\u001b[0m\n\u001b[0;32m--> 449\u001b[0;31m                     \u001b[0mtimeout\u001b[0m\u001b[0;34m=\u001b[0m\u001b[0mtimeout\u001b[0m\u001b[0;34m\u001b[0m\u001b[0;34m\u001b[0m\u001b[0m\n\u001b[0m\u001b[1;32m    450\u001b[0m                 )\n\u001b[1;32m    451\u001b[0m \u001b[0;34m\u001b[0m\u001b[0m\n",
            "\u001b[0;32m/usr/local/lib/python3.7/dist-packages/urllib3/connectionpool.py\u001b[0m in \u001b[0;36murlopen\u001b[0;34m(self, method, url, body, headers, retries, redirect, assert_same_host, timeout, pool_timeout, release_conn, chunked, body_pos, **response_kw)\u001b[0m\n\u001b[1;32m    598\u001b[0m                                                   \u001b[0mtimeout\u001b[0m\u001b[0;34m=\u001b[0m\u001b[0mtimeout_obj\u001b[0m\u001b[0;34m,\u001b[0m\u001b[0;34m\u001b[0m\u001b[0;34m\u001b[0m\u001b[0m\n\u001b[1;32m    599\u001b[0m                                                   \u001b[0mbody\u001b[0m\u001b[0;34m=\u001b[0m\u001b[0mbody\u001b[0m\u001b[0;34m,\u001b[0m \u001b[0mheaders\u001b[0m\u001b[0;34m=\u001b[0m\u001b[0mheaders\u001b[0m\u001b[0;34m,\u001b[0m\u001b[0;34m\u001b[0m\u001b[0;34m\u001b[0m\u001b[0m\n\u001b[0;32m--> 600\u001b[0;31m                                                   chunked=chunked)\n\u001b[0m\u001b[1;32m    601\u001b[0m \u001b[0;34m\u001b[0m\u001b[0m\n\u001b[1;32m    602\u001b[0m             \u001b[0;31m# If we're going to release the connection in ``finally:``, then\u001b[0m\u001b[0;34m\u001b[0m\u001b[0;34m\u001b[0m\u001b[0;34m\u001b[0m\u001b[0m\n",
            "\u001b[0;32m/usr/local/lib/python3.7/dist-packages/urllib3/connectionpool.py\u001b[0m in \u001b[0;36m_make_request\u001b[0;34m(self, conn, method, url, timeout, chunked, **httplib_request_kw)\u001b[0m\n\u001b[1;32m    341\u001b[0m         \u001b[0;31m# Trigger any extra validation we need to do.\u001b[0m\u001b[0;34m\u001b[0m\u001b[0;34m\u001b[0m\u001b[0;34m\u001b[0m\u001b[0m\n\u001b[1;32m    342\u001b[0m         \u001b[0;32mtry\u001b[0m\u001b[0;34m:\u001b[0m\u001b[0;34m\u001b[0m\u001b[0;34m\u001b[0m\u001b[0m\n\u001b[0;32m--> 343\u001b[0;31m             \u001b[0mself\u001b[0m\u001b[0;34m.\u001b[0m\u001b[0m_validate_conn\u001b[0m\u001b[0;34m(\u001b[0m\u001b[0mconn\u001b[0m\u001b[0;34m)\u001b[0m\u001b[0;34m\u001b[0m\u001b[0;34m\u001b[0m\u001b[0m\n\u001b[0m\u001b[1;32m    344\u001b[0m         \u001b[0;32mexcept\u001b[0m \u001b[0;34m(\u001b[0m\u001b[0mSocketTimeout\u001b[0m\u001b[0;34m,\u001b[0m \u001b[0mBaseSSLError\u001b[0m\u001b[0;34m)\u001b[0m \u001b[0;32mas\u001b[0m \u001b[0me\u001b[0m\u001b[0;34m:\u001b[0m\u001b[0;34m\u001b[0m\u001b[0;34m\u001b[0m\u001b[0m\n\u001b[1;32m    345\u001b[0m             \u001b[0;31m# Py2 raises this as a BaseSSLError, Py3 raises it as socket timeout.\u001b[0m\u001b[0;34m\u001b[0m\u001b[0;34m\u001b[0m\u001b[0;34m\u001b[0m\u001b[0m\n",
            "\u001b[0;32m/usr/local/lib/python3.7/dist-packages/urllib3/connectionpool.py\u001b[0m in \u001b[0;36m_validate_conn\u001b[0;34m(self, conn)\u001b[0m\n\u001b[1;32m    837\u001b[0m         \u001b[0;31m# Force connect early to allow us to validate the connection.\u001b[0m\u001b[0;34m\u001b[0m\u001b[0;34m\u001b[0m\u001b[0;34m\u001b[0m\u001b[0m\n\u001b[1;32m    838\u001b[0m         \u001b[0;32mif\u001b[0m \u001b[0;32mnot\u001b[0m \u001b[0mgetattr\u001b[0m\u001b[0;34m(\u001b[0m\u001b[0mconn\u001b[0m\u001b[0;34m,\u001b[0m \u001b[0;34m'sock'\u001b[0m\u001b[0;34m,\u001b[0m \u001b[0;32mNone\u001b[0m\u001b[0;34m)\u001b[0m\u001b[0;34m:\u001b[0m  \u001b[0;31m# AppEngine might not have  `.sock`\u001b[0m\u001b[0;34m\u001b[0m\u001b[0;34m\u001b[0m\u001b[0m\n\u001b[0;32m--> 839\u001b[0;31m             \u001b[0mconn\u001b[0m\u001b[0;34m.\u001b[0m\u001b[0mconnect\u001b[0m\u001b[0;34m(\u001b[0m\u001b[0;34m)\u001b[0m\u001b[0;34m\u001b[0m\u001b[0;34m\u001b[0m\u001b[0m\n\u001b[0m\u001b[1;32m    840\u001b[0m \u001b[0;34m\u001b[0m\u001b[0m\n\u001b[1;32m    841\u001b[0m         \u001b[0;32mif\u001b[0m \u001b[0;32mnot\u001b[0m \u001b[0mconn\u001b[0m\u001b[0;34m.\u001b[0m\u001b[0mis_verified\u001b[0m\u001b[0;34m:\u001b[0m\u001b[0;34m\u001b[0m\u001b[0;34m\u001b[0m\u001b[0m\n",
            "\u001b[0;32m/usr/local/lib/python3.7/dist-packages/urllib3/connection.py\u001b[0m in \u001b[0;36mconnect\u001b[0;34m(self)\u001b[0m\n\u001b[1;32m    342\u001b[0m             \u001b[0mca_cert_dir\u001b[0m\u001b[0;34m=\u001b[0m\u001b[0mself\u001b[0m\u001b[0;34m.\u001b[0m\u001b[0mca_cert_dir\u001b[0m\u001b[0;34m,\u001b[0m\u001b[0;34m\u001b[0m\u001b[0;34m\u001b[0m\u001b[0m\n\u001b[1;32m    343\u001b[0m             \u001b[0mserver_hostname\u001b[0m\u001b[0;34m=\u001b[0m\u001b[0mserver_hostname\u001b[0m\u001b[0;34m,\u001b[0m\u001b[0;34m\u001b[0m\u001b[0;34m\u001b[0m\u001b[0m\n\u001b[0;32m--> 344\u001b[0;31m             ssl_context=context)\n\u001b[0m\u001b[1;32m    345\u001b[0m \u001b[0;34m\u001b[0m\u001b[0m\n\u001b[1;32m    346\u001b[0m         \u001b[0;32mif\u001b[0m \u001b[0mself\u001b[0m\u001b[0;34m.\u001b[0m\u001b[0massert_fingerprint\u001b[0m\u001b[0;34m:\u001b[0m\u001b[0;34m\u001b[0m\u001b[0;34m\u001b[0m\u001b[0m\n",
            "\u001b[0;32m/usr/local/lib/python3.7/dist-packages/urllib3/util/ssl_.py\u001b[0m in \u001b[0;36mssl_wrap_socket\u001b[0;34m(sock, keyfile, certfile, cert_reqs, ca_certs, server_hostname, ssl_version, ciphers, ssl_context, ca_cert_dir)\u001b[0m\n\u001b[1;32m    343\u001b[0m             or IS_SECURETRANSPORT):\n\u001b[1;32m    344\u001b[0m         \u001b[0;32mif\u001b[0m \u001b[0mHAS_SNI\u001b[0m \u001b[0;32mand\u001b[0m \u001b[0mserver_hostname\u001b[0m \u001b[0;32mis\u001b[0m \u001b[0;32mnot\u001b[0m \u001b[0;32mNone\u001b[0m\u001b[0;34m:\u001b[0m\u001b[0;34m\u001b[0m\u001b[0;34m\u001b[0m\u001b[0m\n\u001b[0;32m--> 345\u001b[0;31m             \u001b[0;32mreturn\u001b[0m \u001b[0mcontext\u001b[0m\u001b[0;34m.\u001b[0m\u001b[0mwrap_socket\u001b[0m\u001b[0;34m(\u001b[0m\u001b[0msock\u001b[0m\u001b[0;34m,\u001b[0m \u001b[0mserver_hostname\u001b[0m\u001b[0;34m=\u001b[0m\u001b[0mserver_hostname\u001b[0m\u001b[0;34m)\u001b[0m\u001b[0;34m\u001b[0m\u001b[0;34m\u001b[0m\u001b[0m\n\u001b[0m\u001b[1;32m    346\u001b[0m \u001b[0;34m\u001b[0m\u001b[0m\n\u001b[1;32m    347\u001b[0m         warnings.warn(\n",
            "\u001b[0;32m/usr/lib/python3.7/ssl.py\u001b[0m in \u001b[0;36mwrap_socket\u001b[0;34m(self, sock, server_side, do_handshake_on_connect, suppress_ragged_eofs, server_hostname, session)\u001b[0m\n\u001b[1;32m    421\u001b[0m             \u001b[0mserver_hostname\u001b[0m\u001b[0;34m=\u001b[0m\u001b[0mserver_hostname\u001b[0m\u001b[0;34m,\u001b[0m\u001b[0;34m\u001b[0m\u001b[0;34m\u001b[0m\u001b[0m\n\u001b[1;32m    422\u001b[0m             \u001b[0mcontext\u001b[0m\u001b[0;34m=\u001b[0m\u001b[0mself\u001b[0m\u001b[0;34m,\u001b[0m\u001b[0;34m\u001b[0m\u001b[0;34m\u001b[0m\u001b[0m\n\u001b[0;32m--> 423\u001b[0;31m             \u001b[0msession\u001b[0m\u001b[0;34m=\u001b[0m\u001b[0msession\u001b[0m\u001b[0;34m\u001b[0m\u001b[0;34m\u001b[0m\u001b[0m\n\u001b[0m\u001b[1;32m    424\u001b[0m         )\n\u001b[1;32m    425\u001b[0m \u001b[0;34m\u001b[0m\u001b[0m\n",
            "\u001b[0;32m/usr/lib/python3.7/ssl.py\u001b[0m in \u001b[0;36m_create\u001b[0;34m(cls, sock, server_side, do_handshake_on_connect, suppress_ragged_eofs, server_hostname, context, session)\u001b[0m\n\u001b[1;32m    868\u001b[0m                         \u001b[0;31m# non-blocking\u001b[0m\u001b[0;34m\u001b[0m\u001b[0;34m\u001b[0m\u001b[0;34m\u001b[0m\u001b[0m\n\u001b[1;32m    869\u001b[0m                         \u001b[0;32mraise\u001b[0m \u001b[0mValueError\u001b[0m\u001b[0;34m(\u001b[0m\u001b[0;34m\"do_handshake_on_connect should not be specified for non-blocking sockets\"\u001b[0m\u001b[0;34m)\u001b[0m\u001b[0;34m\u001b[0m\u001b[0;34m\u001b[0m\u001b[0m\n\u001b[0;32m--> 870\u001b[0;31m                     \u001b[0mself\u001b[0m\u001b[0;34m.\u001b[0m\u001b[0mdo_handshake\u001b[0m\u001b[0;34m(\u001b[0m\u001b[0;34m)\u001b[0m\u001b[0;34m\u001b[0m\u001b[0;34m\u001b[0m\u001b[0m\n\u001b[0m\u001b[1;32m    871\u001b[0m             \u001b[0;32mexcept\u001b[0m \u001b[0;34m(\u001b[0m\u001b[0mOSError\u001b[0m\u001b[0;34m,\u001b[0m \u001b[0mValueError\u001b[0m\u001b[0;34m)\u001b[0m\u001b[0;34m:\u001b[0m\u001b[0;34m\u001b[0m\u001b[0;34m\u001b[0m\u001b[0m\n\u001b[1;32m    872\u001b[0m                 \u001b[0mself\u001b[0m\u001b[0;34m.\u001b[0m\u001b[0mclose\u001b[0m\u001b[0;34m(\u001b[0m\u001b[0;34m)\u001b[0m\u001b[0;34m\u001b[0m\u001b[0;34m\u001b[0m\u001b[0m\n",
            "\u001b[0;32m/usr/lib/python3.7/ssl.py\u001b[0m in \u001b[0;36mdo_handshake\u001b[0;34m(self, block)\u001b[0m\n\u001b[1;32m   1137\u001b[0m             \u001b[0;32mif\u001b[0m \u001b[0mtimeout\u001b[0m \u001b[0;34m==\u001b[0m \u001b[0;36m0.0\u001b[0m \u001b[0;32mand\u001b[0m \u001b[0mblock\u001b[0m\u001b[0;34m:\u001b[0m\u001b[0;34m\u001b[0m\u001b[0;34m\u001b[0m\u001b[0m\n\u001b[1;32m   1138\u001b[0m                 \u001b[0mself\u001b[0m\u001b[0;34m.\u001b[0m\u001b[0msettimeout\u001b[0m\u001b[0;34m(\u001b[0m\u001b[0;32mNone\u001b[0m\u001b[0;34m)\u001b[0m\u001b[0;34m\u001b[0m\u001b[0;34m\u001b[0m\u001b[0m\n\u001b[0;32m-> 1139\u001b[0;31m             \u001b[0mself\u001b[0m\u001b[0;34m.\u001b[0m\u001b[0m_sslobj\u001b[0m\u001b[0;34m.\u001b[0m\u001b[0mdo_handshake\u001b[0m\u001b[0;34m(\u001b[0m\u001b[0;34m)\u001b[0m\u001b[0;34m\u001b[0m\u001b[0;34m\u001b[0m\u001b[0m\n\u001b[0m\u001b[1;32m   1140\u001b[0m         \u001b[0;32mfinally\u001b[0m\u001b[0;34m:\u001b[0m\u001b[0;34m\u001b[0m\u001b[0;34m\u001b[0m\u001b[0m\n\u001b[1;32m   1141\u001b[0m             \u001b[0mself\u001b[0m\u001b[0;34m.\u001b[0m\u001b[0msettimeout\u001b[0m\u001b[0;34m(\u001b[0m\u001b[0mtimeout\u001b[0m\u001b[0;34m)\u001b[0m\u001b[0;34m\u001b[0m\u001b[0;34m\u001b[0m\u001b[0m\n",
            "\u001b[0;31mKeyboardInterrupt\u001b[0m: "
          ]
        }
      ]
    },
    {
      "cell_type": "markdown",
      "metadata": {
        "id": "aHnGy2r0wJOx"
      },
      "source": [
        "##### Displaying the image cleaner\n",
        "\n",
        "Use this to get rid of unsuitable images without leaving your notebook."
      ]
    },
    {
      "cell_type": "code",
      "metadata": {
        "colab": {
          "base_uri": "https://localhost:8080/"
        },
        "id": "xKbS1tvVynkx",
        "outputId": "f78343c3-8287-49e5-b3d9-116fbb8858ba"
      },
      "source": [
        "path"
      ],
      "execution_count": 43,
      "outputs": [
        {
          "output_type": "execute_result",
          "data": {
            "text/plain": [
              "Path('/content/Fashion/images')"
            ]
          },
          "metadata": {
            "tags": []
          },
          "execution_count": 43
        }
      ]
    },
    {
      "cell_type": "code",
      "metadata": {
        "colab": {
          "base_uri": "https://localhost:8080/"
        },
        "id": "o2Hrh3pcyyR2",
        "outputId": "a5df60e6-77b0-475c-ca11-8db48b860cff"
      },
      "source": [
        "cd Fashion/"
      ],
      "execution_count": 47,
      "outputs": [
        {
          "output_type": "stream",
          "text": [
            "/content/Fashion\n"
          ],
          "name": "stdout"
        }
      ]
    },
    {
      "cell_type": "code",
      "metadata": {
        "id": "aA_VFCjyzl8E"
      },
      "source": [
        "rm -r images/"
      ],
      "execution_count": 49,
      "outputs": []
    },
    {
      "cell_type": "code",
      "metadata": {
        "colab": {
          "base_uri": "https://localhost:8080/"
        },
        "id": "eBDklhCXzyj8",
        "outputId": "32fb17e1-61ad-4f52-fab7-fbdd8ffe5d30"
      },
      "source": [
        "path = Path('/content/Fashion')\n",
        "path"
      ],
      "execution_count": 51,
      "outputs": [
        {
          "output_type": "execute_result",
          "data": {
            "text/plain": [
              "Path('/content/Fashion')"
            ]
          },
          "metadata": {
            "tags": []
          },
          "execution_count": 51
        }
      ]
    },
    {
      "cell_type": "code",
      "metadata": {
        "colab": {
          "base_uri": "https://localhost:8080/",
          "height": 595,
          "referenced_widgets": [
            "ed35e8e51c4e4c23b7daab6982bb952e",
            "a8cadafe7e3f417e8a416069e245860f",
            "9054e309d75f44a1bab377c7c68985c1",
            "3b6ff8eea6ca45359f3dded24faa8071",
            "4d528bbbc2534aa0a45186c1054739e0",
            "f8225c820ef3498096321332acef8362",
            "439e403001ff46edb309fa4b789bead4",
            "0e97bfc6e147407c8dc36601b59cb114",
            "528b14ba3e0442b1affff3619770d390",
            "9f7dfe31aebe4d51b25f7b17bef33bdc",
            "e86bb4df52a745c6969b72c33d66f753",
            "16e0b68aa17145908d9281a78f0abf36",
            "08cb386c50bf43baba464ec8562da91a",
            "a6759e8a6aac437180411475b017b67e",
            "1eed36bfb69a46db97c1772299f3c618",
            "a6cc3d949b744c64bc5cc2cc196073f9",
            "2284af2cee554ee1a6d4e5c8b61a6ae8",
            "22b32d66d9e8406b80c8f6689e8fc05e",
            "4d2610e80e44485ab4c5aa7dc9f4e4a5",
            "1437c2105dc443a69d3d9c11676ed7e6",
            "75dd7c0b8684420cb61d32e3918980cd",
            "1e38a83f9f0943f6b1c0eeb7c6cd5eb5",
            "3118ba66562d45e380b2d0d21ea93a86",
            "a81a7bc4cca846c5990d9d14f43f7c67",
            "9dee9b44ebfc45868f2c817797e0307a",
            "591c701a0e744588b0f010ad1c378a01",
            "7293d8c0b4ac4a9b9e8596b9e01f8b4e",
            "988b6f6dc5e949719ccd7bf44c428e5b",
            "443a11f8c998407faaca0791d32f836e",
            "5c3951f90fb34573a42c8c50002331aa",
            "efb0d4c05c3d4386b3ce4e34ffd0c8c3",
            "ed95320b4d8f48cba1dd511d65e698bf",
            "81578aa06eb7446384fa68de924235ef",
            "17c05155bb6442fb969ea981b190d7ed",
            "b3dd98e8f252445299915a5b0fb0e366",
            "e729fc229e7746aaa5946230e6fa829c",
            "aa0c84a44f944e97a38dea0804ed5a52",
            "b55aa741c3d74bd3939dc4468e60ca93",
            "bb74afcacde24de7ad62a33b500d33c9",
            "1c692c2a19fd4e49b4bdf90fdd2241f1",
            "17d25a6c5add4055a2c81803a8294249",
            "ffceb4dfebaf4bb09c9505a1dd54ac78",
            "81575318c3b647a0a4ea2fb31554d820",
            "0d57700d4cc64b0184eda123eefd98fd",
            "3f6332b545094c259205aecf49acadd8",
            "d4093b8ac1d744b3aea87cd66890c936",
            "344c1d2831394469a99468c39b4fd84f",
            "a5bc0b14df0544b2971bc9fb328a1d93",
            "580e5e37427d4691a72c2c5c931f71e5",
            "8b6f154597824208841d052dd88e1a09",
            "e3461b7d23c5473d847b38de6fbc1313",
            "feb6b3c1311f4bafbd9015509f8c215b",
            "a605b130871d4002ac65b1f5244075fd",
            "9859b1bf6a674ee1a225e3c3f1a861ad",
            "e60497f28e334baaacf2a422662cf124",
            "c5cc51f4b40044c8ace88685c244e68f",
            "3ab0402831e8468b985dd7e55bb60b87",
            "6bfbb6c0539d4b82adbe8280208e1bb2",
            "46a57b6a804747e78c5dccc7960f1e1b",
            "16503299a21942cc85820318eead99bc",
            "b1d02ced8f014488b6549eeee1917824",
            "2b37b06d9ba24c66a4343ec326742dbd",
            "3fb1eb6e96d34c75bed0d7ce980ddbc7",
            "b20a914f6b784506a6b520ecf94c2c3b",
            "275813b5ca474fb28eed5065674c0097",
            "73054c9428b24f51a033774a2e2eaa43",
            "8c562f2a245b4ff68f201fb06c5c409a",
            "ce1a7b92ba3f4ee7925b661c8241228c",
            "48624b1fd8ab4e65b7f0f399af2bb809",
            "996605ca647d40989e052e9c53be8848",
            "deb763eb8f2a453691eb1ae2deb82930",
            "71c747f863fc4804883542c5429feed8",
            "fea19986c62b46079f9a1c44acb8fdd6",
            "23c9f00fac654ae6913c8b2986ea88f2",
            "e2056d7699854f0eab8a8da11ce0dc91",
            "92f46f9a5988469cb72eba1758733547",
            "c248f064c702443c9b88ba62e9ab4425",
            "a62f32d1fd794556a6c73ad64a539b20",
            "ef7491b1a1f541bcbbd07b19970396fe",
            "5de1c7fcd35b42fca606a4bff968226b",
            "fefda5ec3181475b82460782a18e2bd2",
            "d77079e3ac4f41ae87d058aca2f1bc74",
            "27c2bc411c4a4b4485e1380c99c0ee25",
            "c56712a76c984faf926ee248e5d0ef4f"
          ]
        },
        "id": "EBxc-SjZwO72",
        "outputId": "3eacb0e7-05f5-4b12-ec67-930f07b2da76"
      },
      "source": [
        "from jmd_imagescraper.imagecleaner import *\n",
        "\n",
        "display_image_cleaner(path)"
      ],
      "execution_count": 53,
      "outputs": [
        {
          "output_type": "display_data",
          "data": {
            "application/vnd.jupyter.widget-view+json": {
              "model_id": "ed35e8e51c4e4c23b7daab6982bb952e",
              "version_minor": 0,
              "version_major": 2
            },
            "text/plain": [
              "HBox(children=(Button(description='|<<', layout=Layout(width='60px'), style=ButtonStyle()), Button(description…"
            ]
          },
          "metadata": {
            "tags": []
          }
        },
        {
          "output_type": "display_data",
          "data": {
            "application/vnd.jupyter.widget-view+json": {
              "model_id": "a81a7bc4cca846c5990d9d14f43f7c67",
              "version_minor": 0,
              "version_major": 2
            },
            "text/plain": [
              "HTML(value='<h2>No images left to display in this folder.</h2>', layout=Layout(visibility='hidden'))"
            ]
          },
          "metadata": {
            "tags": []
          }
        },
        {
          "output_type": "display_data",
          "data": {
            "application/vnd.jupyter.widget-view+json": {
              "model_id": "7293d8c0b4ac4a9b9e8596b9e01f8b4e",
              "version_minor": 0,
              "version_major": 2
            },
            "text/plain": [
              "GridBox(children=(VBox(children=(Image(value=b'', layout=\"Layout(width='150px')\"), Button(description='Delete'…"
            ]
          },
          "metadata": {
            "tags": []
          }
        }
      ]
    },
    {
      "cell_type": "markdown",
      "metadata": {
        "id": "H6KTdjEY0Fix"
      },
      "source": [
        "##### Create a zip to download or transfer to google drive\n",
        "\n",
        "Replace images with a file name of your choice.\n",
        "\n",
        "```\n",
        "ZIP_NAME = \"images.zip\"\n",
        "```\n",
        "\n"
      ]
    },
    {
      "cell_type": "code",
      "metadata": {
        "id": "O8CT2yVzfZXb"
      },
      "source": [
        "# create zip\n",
        "\n",
        "ZIP_NAME = \"fashion.zip\"\n",
        "\n",
        "!rm -f {ZIP_NAME}\n",
        "!zip -q -r {ZIP_NAME} {path}"
      ],
      "execution_count": null,
      "outputs": []
    },
    {
      "cell_type": "markdown",
      "metadata": {
        "id": "m5j6WTUrwYz0"
      },
      "source": [
        "\n",
        "\n",
        "```\n",
        "# DESTINATION_FOLDER = \"CHOOSE A FOLDER WITHIN YOUR MyDrive\"\n",
        "```\n",
        "\n"
      ]
    },
    {
      "cell_type": "code",
      "metadata": {
        "colab": {
          "base_uri": "https://localhost:8080/",
          "height": 52
        },
        "id": "-BfkU4_u2kdp",
        "outputId": "85083881-1a82-4de1-a18a-92b3a89499ff"
      },
      "source": [
        "# copy to google drive \n",
        "\n",
        "from google.colab import drive\n",
        "import shutil\n",
        "\n",
        "DESTINATION_FOLDER = \"fastai\" # where would you like this in Google Drive?\n",
        "\n",
        "drive.mount(\"/content/drive\") \n",
        "folder = Path(\"/content/drive/MyDrive\")/DESTINATION_FOLDER\n",
        "\n",
        "folder.mkdir(parents=True, exist_ok=True)\n",
        "\n",
        "shutil.copyfile(ZIP_NAME, str(folder/ZIP_NAME))"
      ],
      "execution_count": null,
      "outputs": [
        {
          "output_type": "stream",
          "text": [
            "Mounted at /content/drive\n"
          ],
          "name": "stdout"
        },
        {
          "output_type": "execute_result",
          "data": {
            "application/vnd.google.colaboratory.intrinsic+json": {
              "type": "string"
            },
            "text/plain": [
              "'/content/drive/MyDrive/fastai/fashion.zip'"
            ]
          },
          "metadata": {
            "tags": []
          },
          "execution_count": 8
        }
      ]
    },
    {
      "cell_type": "markdown",
      "metadata": {
        "id": "nuur3OFzYd16"
      },
      "source": [
        "### Step Three: Create your DataLoaders and check your data.\n",
        "\n",
        "> Hint: Make sure to define your path so that it points to your main folder that contains your labeled folders with the images. A great way to do that is to use the *folder* icon on the left, to find the right folder, right click and *copy path*.\n",
        "\n"
      ]
    },
    {
      "cell_type": "code",
      "metadata": {
        "id": "mtIAVoKUZV5H",
        "colab": {
          "base_uri": "https://localhost:8080/"
        },
        "outputId": "ce742f2f-a0e4-4d89-9fb7-2b1f200ec08a"
      },
      "source": [
        "from google.colab import drive\n",
        "drive.mount('/content/drive')"
      ],
      "execution_count": 61,
      "outputs": [
        {
          "output_type": "stream",
          "text": [
            "Mounted at /content/drive\n"
          ],
          "name": "stdout"
        }
      ]
    },
    {
      "cell_type": "code",
      "metadata": {
        "id": "Ov_bejgZ_yLJ"
      },
      "source": [
        "shoes = DataBlock(\n",
        "    blocks=(ImageBlock, CategoryBlock), \n",
        "    get_items=get_image_files, \n",
        "    splitter=RandomSplitter(valid_pct=0.3, seed=42),\n",
        "    get_y=parent_label,\n",
        "    item_tfms=Resize(256))\n",
        "\n",
        "dls = shoes.dataloaders(path)"
      ],
      "execution_count": 62,
      "outputs": []
    },
    {
      "cell_type": "code",
      "metadata": {
        "colab": {
          "base_uri": "https://localhost:8080/",
          "height": 370
        },
        "id": "yJjK00ok2lke",
        "outputId": "4778c6bf-7a12-4ef1-aca6-882a1aefe1d8"
      },
      "source": [
        "dls.train.show_batch(max_n=8, nrows=2, unique=False)"
      ],
      "execution_count": 63,
      "outputs": [
        {
          "output_type": "display_data",
          "data": {
            "image/png": "[encoded data removed]",
            "text/plain": [
              "<Figure size 864x432 with 8 Axes>"
            ]
          },
          "metadata": {
            "tags": [],
            "needs_background": "light"
          }
        }
      ]
    },
    {
      "cell_type": "code",
      "metadata": {
        "colab": {
          "base_uri": "https://localhost:8080/",
          "height": 475,
          "referenced_widgets": [
            "475f1fb639dd4218a7995397b6f2dc13",
            "c6d03c3b3b9246b88a6df749444e9633",
            "1d37d53113b642eaba14be504e8e2072",
            "9041c2ea54ab4dceaff63952202041c7",
            "cb0b42eb33764fb983a3a40049f386bb",
            "94e529ae2f5a4c0e937bde6187e59b75",
            "e8b9e7a797b94e66b870fb170a4d3301",
            "dc30ebd809a44668834a8c6204cbe923",
            "e49df622de26454fac10006944b69988",
            "f05f9e446443490cae377115696328e7",
            "1c0a4170a6e6461bb12a5c1476302c18"
          ]
        },
        "id": "NvpdKmBb_x-Z",
        "outputId": "b0e70466-4af8-4e29-ab7c-bfbcf916d07e"
      },
      "source": [
        "learn = cnn_learner(dls, resnet18, metrics=error_rate)\n",
        "learn.fine_tune(10)"
      ],
      "execution_count": 64,
      "outputs": [
        {
          "output_type": "stream",
          "text": [
            "Downloading: \"https://download.pytorch.org/models/resnet18-f37072fd.pth\" to /root/.cache/torch/hub/checkpoints/resnet18-f37072fd.pth\n"
          ],
          "name": "stderr"
        },
        {
          "output_type": "display_data",
          "data": {
            "application/vnd.jupyter.widget-view+json": {
              "model_id": "475f1fb639dd4218a7995397b6f2dc13",
              "version_minor": 0,
              "version_major": 2
            },
            "text/plain": [
              "  0%|          | 0.00/44.7M [00:00<?, ?B/s]"
            ]
          },
          "metadata": {
            "tags": []
          }
        },
        {
          "output_type": "display_data",
          "data": {
            "text/html": [
              "<table border=\"1\" class=\"dataframe\">\n",
              "  <thead>\n",
              "    <tr style=\"text-align: left;\">\n",
              "      <th>epoch</th>\n",
              "      <th>train_loss</th>\n",
              "      <th>valid_loss</th>\n",
              "      <th>error_rate</th>\n",
              "      <th>time</th>\n",
              "    </tr>\n",
              "  </thead>\n",
              "  <tbody>\n",
              "    <tr>\n",
              "      <td>0</td>\n",
              "      <td>2.178648</td>\n",
              "      <td>0.781616</td>\n",
              "      <td>0.305556</td>\n",
              "      <td>00:03</td>\n",
              "    </tr>\n",
              "  </tbody>\n",
              "</table>"
            ],
            "text/plain": [
              "<IPython.core.display.HTML object>"
            ]
          },
          "metadata": {
            "tags": []
          }
        },
        {
          "output_type": "display_data",
          "data": {
            "text/html": [
              "<table border=\"1\" class=\"dataframe\">\n",
              "  <thead>\n",
              "    <tr style=\"text-align: left;\">\n",
              "      <th>epoch</th>\n",
              "      <th>train_loss</th>\n",
              "      <th>valid_loss</th>\n",
              "      <th>error_rate</th>\n",
              "      <th>time</th>\n",
              "    </tr>\n",
              "  </thead>\n",
              "  <tbody>\n",
              "    <tr>\n",
              "      <td>0</td>\n",
              "      <td>0.773199</td>\n",
              "      <td>0.351036</td>\n",
              "      <td>0.118056</td>\n",
              "      <td>00:03</td>\n",
              "    </tr>\n",
              "    <tr>\n",
              "      <td>1</td>\n",
              "      <td>0.586244</td>\n",
              "      <td>0.126930</td>\n",
              "      <td>0.041667</td>\n",
              "      <td>00:03</td>\n",
              "    </tr>\n",
              "    <tr>\n",
              "      <td>2</td>\n",
              "      <td>0.411495</td>\n",
              "      <td>0.074302</td>\n",
              "      <td>0.027778</td>\n",
              "      <td>00:03</td>\n",
              "    </tr>\n",
              "    <tr>\n",
              "      <td>3</td>\n",
              "      <td>0.310765</td>\n",
              "      <td>0.050895</td>\n",
              "      <td>0.020833</td>\n",
              "      <td>00:03</td>\n",
              "    </tr>\n",
              "    <tr>\n",
              "      <td>4</td>\n",
              "      <td>0.238347</td>\n",
              "      <td>0.045869</td>\n",
              "      <td>0.013889</td>\n",
              "      <td>00:03</td>\n",
              "    </tr>\n",
              "    <tr>\n",
              "      <td>5</td>\n",
              "      <td>0.190294</td>\n",
              "      <td>0.045504</td>\n",
              "      <td>0.013889</td>\n",
              "      <td>00:03</td>\n",
              "    </tr>\n",
              "    <tr>\n",
              "      <td>6</td>\n",
              "      <td>0.155475</td>\n",
              "      <td>0.045984</td>\n",
              "      <td>0.013889</td>\n",
              "      <td>00:03</td>\n",
              "    </tr>\n",
              "    <tr>\n",
              "      <td>7</td>\n",
              "      <td>0.129202</td>\n",
              "      <td>0.046406</td>\n",
              "      <td>0.013889</td>\n",
              "      <td>00:03</td>\n",
              "    </tr>\n",
              "    <tr>\n",
              "      <td>8</td>\n",
              "      <td>0.109228</td>\n",
              "      <td>0.046523</td>\n",
              "      <td>0.013889</td>\n",
              "      <td>00:03</td>\n",
              "    </tr>\n",
              "    <tr>\n",
              "      <td>9</td>\n",
              "      <td>0.094021</td>\n",
              "      <td>0.046732</td>\n",
              "      <td>0.013889</td>\n",
              "      <td>00:03</td>\n",
              "    </tr>\n",
              "  </tbody>\n",
              "</table>"
            ],
            "text/plain": [
              "<IPython.core.display.HTML object>"
            ]
          },
          "metadata": {
            "tags": []
          }
        }
      ]
    },
    {
      "cell_type": "markdown",
      "metadata": {
        "id": "sYOIkqBuZAm5"
      },
      "source": [
        "### Step Four: Train your model & check the Performance using the confusion matrix."
      ]
    },
    {
      "cell_type": "code",
      "metadata": {
        "id": "pnzDFAZZZXCf",
        "colab": {
          "base_uri": "https://localhost:8080/",
          "height": 311
        },
        "outputId": "d1042834-9fcf-486f-fa62-3215da68519b"
      },
      "source": [
        "interp = ClassificationInterpretation.from_learner(learn)\n",
        "interp.plot_confusion_matrix()"
      ],
      "execution_count": 65,
      "outputs": [
        {
          "output_type": "display_data",
          "data": {
            "text/html": [
              ""
            ],
            "text/plain": [
              "<IPython.core.display.HTML object>"
            ]
          },
          "metadata": {
            "tags": []
          }
        },
        {
          "output_type": "display_data",
          "data": {
            "image/png": "[encoded data removed]",
            "text/plain": [
              "<Figure size 432x288 with 1 Axes>"
            ]
          },
          "metadata": {
            "tags": [],
            "needs_background": "light"
          }
        }
      ]
    },
    {
      "cell_type": "code",
      "metadata": {
        "colab": {
          "base_uri": "https://localhost:8080/",
          "height": 398
        },
        "id": "A2JwM19LB2D1",
        "outputId": "93f69ec8-fe6a-4480-c798-a9e282802c8b"
      },
      "source": [
        "interp.plot_top_losses(10, nrows=2)"
      ],
      "execution_count": 69,
      "outputs": [
        {
          "output_type": "display_data",
          "data": {
            "image/png": "[encoded data removed]",
            "text/plain": [
              "<Figure size 1080x432 with 10 Axes>"
            ]
          },
          "metadata": {
            "tags": [],
            "needs_background": "light"
          }
        }
      ]
    },
    {
      "cell_type": "markdown",
      "metadata": {
        "id": "hXFzPxONZGu1"
      },
      "source": [
        "### Step Five: Create a notebook app to upload and classify external images."
      ]
    },
    {
      "cell_type": "code",
      "metadata": {
        "id": "mDmQ23JmZWrn",
        "colab": {
          "base_uri": "https://localhost:8080/",
          "height": 49,
          "referenced_widgets": [
            "61eab64019dc4a0591709b099b44c385",
            "af971db200bc4cbebad0205465e35a6d",
            "b2bd3df7ead2480085b571be46b0158d"
          ]
        },
        "outputId": "f2897523-5e53-4d29-bf5c-9cab0a074b0d"
      },
      "source": [
        "#hide_output\n",
        "btn_upload = widgets.FileUpload()\n",
        "btn_upload"
      ],
      "execution_count": 70,
      "outputs": [
        {
          "output_type": "display_data",
          "data": {
            "application/vnd.jupyter.widget-view+json": {
              "model_id": "61eab64019dc4a0591709b099b44c385",
              "version_minor": 0,
              "version_major": 2
            },
            "text/plain": [
              "FileUpload(value={}, description='Upload')"
            ]
          },
          "metadata": {
            "tags": []
          }
        }
      ]
    },
    {
      "cell_type": "code",
      "metadata": {
        "colab": {
          "base_uri": "https://localhost:8080/",
          "height": 194
        },
        "id": "MGIWPcfwJbXW",
        "outputId": "1d057bc8-b87c-49b9-e600-e9a18b9184cd"
      },
      "source": [
        "img = PILImage.create(btn_upload.data[-1])\n",
        "img"
      ],
      "execution_count": 71,
      "outputs": [
        {
          "output_type": "execute_result",
          "data": {
            "image/png": "[encoded data removed]",
            "text/plain": [
              "PILImage mode=RGB size=177x177"
            ]
          },
          "metadata": {
            "tags": []
          },
          "execution_count": 71
        }
      ]
    },
    {
      "cell_type": "markdown",
      "metadata": {
        "id": "0itvhaxHDgg-"
      },
      "source": [
        ""
      ]
    },
    {
      "cell_type": "code",
      "metadata": {
        "colab": {
          "base_uri": "https://localhost:8080/",
          "height": 89,
          "referenced_widgets": [
            "71b04491554b4fd885784257eedc5d9f",
            "1bfd768fffe64a78824b1feaee9037f2"
          ]
        },
        "id": "6-Woihj9D4iZ",
        "outputId": "c459cada-1353-4d1f-95fb-852bc78d7cd5"
      },
      "source": [
        "#hide_output\n",
        "out_pl = widgets.Output()\n",
        "out_pl.clear_output()\n",
        "with out_pl: display(img.to_thumb(128,128))\n",
        "out_pl"
      ],
      "execution_count": 72,
      "outputs": [
        {
          "output_type": "display_data",
          "data": {
            "application/vnd.jupyter.widget-view+json": {
              "model_id": "71b04491554b4fd885784257eedc5d9f",
              "version_minor": 0,
              "version_major": 2
            },
            "text/plain": [
              "Output()"
            ]
          },
          "metadata": {
            "tags": []
          }
        }
      ]
    },
    {
      "cell_type": "code",
      "metadata": {
        "id": "z7bMxu-UEBMG"
      },
      "source": [
        ""
      ],
      "execution_count": null,
      "outputs": []
    },
    {
      "cell_type": "code",
      "metadata": {
        "id": "yBvkAWmZJbXX",
        "colab": {
          "base_uri": "https://localhost:8080/",
          "height": 17
        },
        "outputId": "b0c2c1c9-a7c7-4952-b5ea-5b5e98612604"
      },
      "source": [
        "pred,pred_idx,probs = learn.predict(img)"
      ],
      "execution_count": 73,
      "outputs": [
        {
          "output_type": "display_data",
          "data": {
            "text/html": [
              ""
            ],
            "text/plain": [
              "<IPython.core.display.HTML object>"
            ]
          },
          "metadata": {
            "tags": []
          }
        }
      ]
    },
    {
      "cell_type": "code",
      "metadata": {
        "id": "MA_qtRopJbXX",
        "colab": {
          "base_uri": "https://localhost:8080/",
          "height": 48,
          "referenced_widgets": [
            "23ca1021752b4969a7b9cd8b77f0d6cc",
            "636ce15873f749e6acf0d8d1d48aee3f",
            "58a2adac08c44d41942776f662f57f36"
          ]
        },
        "outputId": "42e5c4fc-d9d0-4319-9d7f-d28113c878b6"
      },
      "source": [
        "#hide_output\n",
        "lbl_pred = widgets.Label()\n",
        "lbl_pred.value = f'Prediction: {pred}; Probability: {probs[pred_idx]:.04f}'\n",
        "lbl_pred"
      ],
      "execution_count": 74,
      "outputs": [
        {
          "output_type": "display_data",
          "data": {
            "application/vnd.jupyter.widget-view+json": {
              "model_id": "23ca1021752b4969a7b9cd8b77f0d6cc",
              "version_minor": 0,
              "version_major": 2
            },
            "text/plain": [
              "Label(value='Prediction: Flats; Probability: 0.9889')"
            ]
          },
          "metadata": {
            "tags": []
          }
        }
      ]
    },
    {
      "cell_type": "markdown",
      "metadata": {
        "id": "-TyfrgTmD4Fo"
      },
      "source": [
        ""
      ]
    },
    {
      "cell_type": "code",
      "metadata": {
        "id": "CJ7_7EAtEQ9A"
      },
      "source": [
        ""
      ],
      "execution_count": null,
      "outputs": []
    },
    {
      "cell_type": "code",
      "metadata": {
        "id": "pB15bC-IJbXY",
        "colab": {
          "base_uri": "https://localhost:8080/",
          "height": 49,
          "referenced_widgets": [
            "bfba48cf283949bb8879799cc0632d16",
            "da3e25f94ada496cb265d2eb088b0e8f",
            "6814b2ad6c1b4d18901f752cc4a6bb5c"
          ]
        },
        "outputId": "a2d8266b-0e3b-46f1-edc1-87afe3a54394"
      },
      "source": [
        "#hide_output\n",
        "btn_run = widgets.Button(description='Classify')\n",
        "btn_run"
      ],
      "execution_count": 75,
      "outputs": [
        {
          "output_type": "display_data",
          "data": {
            "application/vnd.jupyter.widget-view+json": {
              "model_id": "bfba48cf283949bb8879799cc0632d16",
              "version_minor": 0,
              "version_major": 2
            },
            "text/plain": [
              "Button(description='Classify', style=ButtonStyle())"
            ]
          },
          "metadata": {
            "tags": []
          }
        }
      ]
    },
    {
      "cell_type": "code",
      "metadata": {
        "id": "kjdxKh9KEhpf"
      },
      "source": [
        "def on_click_classify(change):\n",
        "    img = PILImage.create(btn_upload.data[-1])\n",
        "    out_pl.clear_output()\n",
        "    with out_pl: display(img.to_thumb(128,128))\n",
        "    pred,pred_idx,probs = learn.predict(img)\n",
        "    lbl_pred.value = f'Prediction: {pred}; Probability: {probs[pred_idx]:.04f}'\n",
        "\n",
        "btn_run.on_click(on_click_classify)"
      ],
      "execution_count": 76,
      "outputs": []
    },
    {
      "cell_type": "markdown",
      "metadata": {
        "id": "aSHrzCgAEhMF"
      },
      "source": [
        ""
      ]
    },
    {
      "cell_type": "code",
      "metadata": {
        "id": "T7NXtiYXEol5"
      },
      "source": [
        "#hide\n",
        "#Putting back btn_upload to a widget for next cell\n",
        "btn_upload = widgets.FileUpload()"
      ],
      "execution_count": 78,
      "outputs": []
    },
    {
      "cell_type": "code",
      "metadata": {
        "id": "M6CHFlMqEvdt",
        "colab": {
          "base_uri": "https://localhost:8080/",
          "height": 217,
          "referenced_widgets": [
            "ea888210bb344ba0b3acb2b3fde485f1",
            "c676369a86844cd992a129401778a1fe",
            "f489d42138e24003bb1424c589a92a9f",
            "4e86996950d74d8c8ba05e94d94d2082",
            "bfba48cf283949bb8879799cc0632d16",
            "71b04491554b4fd885784257eedc5d9f",
            "23ca1021752b4969a7b9cd8b77f0d6cc",
            "cfe2acaa21cf44ce977cd431da85b7ac",
            "c2bebdb6f59740ef80c2fab4fc78c8e4",
            "9e82b96add3a4147bfece41064613cf1",
            "040fbc0b27cf46b8b33156fb26b2644f",
            "da3e25f94ada496cb265d2eb088b0e8f",
            "6814b2ad6c1b4d18901f752cc4a6bb5c",
            "636ce15873f749e6acf0d8d1d48aee3f",
            "58a2adac08c44d41942776f662f57f36",
            "1bfd768fffe64a78824b1feaee9037f2"
          ]
        },
        "outputId": "0b9ac0d3-6c7a-4ec2-a0a9-380b5a7815a9"
      },
      "source": [
        "#hide_output\n",
        "VBox([widgets.Label('Select your shoe!'), \n",
        "      btn_upload, btn_run, out_pl, lbl_pred])"
      ],
      "execution_count": 79,
      "outputs": [
        {
          "output_type": "display_data",
          "data": {
            "application/vnd.jupyter.widget-view+json": {
              "model_id": "ea888210bb344ba0b3acb2b3fde485f1",
              "version_minor": 0,
              "version_major": 2
            },
            "text/plain": [
              "VBox(children=(Label(value='Select your shoe!'), FileUpload(value={}, description='Upload'), Button(descriptio…"
            ]
          },
          "metadata": {
            "tags": []
          }
        },
        {
          "output_type": "display_data",
          "data": {
            "text/html": [
              ""
            ],
            "text/plain": [
              "<IPython.core.display.HTML object>"
            ]
          },
          "metadata": {
            "tags": []
          }
        }
      ]
    }
  ]
}